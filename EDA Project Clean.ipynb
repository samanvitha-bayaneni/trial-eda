{
 "cells": [
  {
   "cell_type": "code",
   "execution_count": 121,
   "id": "862800de-9272-42ad-b89c-2c62cc036ee6",
   "metadata": {},
   "outputs": [],
   "source": [
    "import opendatasets as od\n",
    "import pandas as pd\n",
    "import numpy as np\n",
    "import matplotlib.pyplot as plt\n",
    "import plotly.express as px\n",
    "import plotly.graph_objects as go\n",
    "import seaborn as sns"
   ]
  },
  {
   "cell_type": "code",
   "execution_count": 2,
   "id": "75ec9f4f-8a47-4ca1-bfab-856830564189",
   "metadata": {},
   "outputs": [],
   "source": [
    "spotify_data = pd.read_csv('Downloads/most-streamed-spotify-songs-2024/Most Streamed Spotify Songs 2024.csv',encoding='latin1')"
   ]
  },
  {
   "cell_type": "code",
   "execution_count": 3,
   "id": "ab633c98-e987-419d-b093-dcbd64a8ff2f",
   "metadata": {},
   "outputs": [
    {
     "name": "stdout",
     "output_type": "stream",
     "text": [
      "<class 'pandas.core.frame.DataFrame'>\n",
      "RangeIndex: 4600 entries, 0 to 4599\n",
      "Data columns (total 29 columns):\n",
      " #   Column                      Non-Null Count  Dtype  \n",
      "---  ------                      --------------  -----  \n",
      " 0   Track                       4600 non-null   object \n",
      " 1   Album Name                  4600 non-null   object \n",
      " 2   Artist                      4595 non-null   object \n",
      " 3   Release Date                4600 non-null   object \n",
      " 4   ISRC                        4600 non-null   object \n",
      " 5   All Time Rank               4600 non-null   object \n",
      " 6   Track Score                 4600 non-null   float64\n",
      " 7   Spotify Streams             4487 non-null   object \n",
      " 8   Spotify Playlist Count      4530 non-null   object \n",
      " 9   Spotify Playlist Reach      4528 non-null   object \n",
      " 10  Spotify Popularity          3796 non-null   float64\n",
      " 11  YouTube Views               4292 non-null   object \n",
      " 12  YouTube Likes               4285 non-null   object \n",
      " 13  TikTok Posts                3427 non-null   object \n",
      " 14  TikTok Likes                3620 non-null   object \n",
      " 15  TikTok Views                3619 non-null   object \n",
      " 16  YouTube Playlist Reach      3591 non-null   object \n",
      " 17  Apple Music Playlist Count  4039 non-null   float64\n",
      " 18  AirPlay Spins               4102 non-null   object \n",
      " 19  SiriusXM Spins              2477 non-null   object \n",
      " 20  Deezer Playlist Count       3679 non-null   float64\n",
      " 21  Deezer Playlist Reach       3672 non-null   object \n",
      " 22  Amazon Playlist Count       3545 non-null   float64\n",
      " 23  Pandora Streams             3494 non-null   object \n",
      " 24  Pandora Track Stations      3332 non-null   object \n",
      " 25  Soundcloud Streams          1267 non-null   object \n",
      " 26  Shazam Counts               4023 non-null   object \n",
      " 27  TIDAL Popularity            0 non-null      float64\n",
      " 28  Explicit Track              4600 non-null   int64  \n",
      "dtypes: float64(6), int64(1), object(22)\n",
      "memory usage: 1.0+ MB\n"
     ]
    }
   ],
   "source": [
    "spotify_data.info()"
   ]
  },
  {
   "cell_type": "code",
   "execution_count": 4,
   "id": "6bb40392-8950-4ca0-9334-f351c8633ad7",
   "metadata": {},
   "outputs": [
    {
     "data": {
      "text/plain": [
       "Index(['Track', 'Album Name', 'Artist', 'Release Date', 'ISRC',\n",
       "       'All Time Rank', 'Track Score', 'Spotify Streams',\n",
       "       'Spotify Playlist Count', 'Spotify Playlist Reach',\n",
       "       'Spotify Popularity', 'YouTube Views', 'YouTube Likes', 'TikTok Posts',\n",
       "       'TikTok Likes', 'TikTok Views', 'YouTube Playlist Reach',\n",
       "       'Apple Music Playlist Count', 'AirPlay Spins', 'SiriusXM Spins',\n",
       "       'Deezer Playlist Count', 'Deezer Playlist Reach',\n",
       "       'Amazon Playlist Count', 'Pandora Streams', 'Pandora Track Stations',\n",
       "       'Soundcloud Streams', 'Shazam Counts', 'TIDAL Popularity',\n",
       "       'Explicit Track'],\n",
       "      dtype='object')"
      ]
     },
     "execution_count": 4,
     "metadata": {},
     "output_type": "execute_result"
    }
   ],
   "source": [
    "spotify_data.columns"
   ]
  },
  {
   "cell_type": "code",
   "execution_count": 9,
   "id": "7b245531-609c-4163-833e-6f2f9990ed1a",
   "metadata": {},
   "outputs": [],
   "source": [
    "spotify_data = spotify_data.drop(['TIDAL Popularity'],axis=1)"
   ]
  },
  {
   "cell_type": "code",
   "execution_count": 11,
   "id": "3eab4d6c-28c4-4294-bf3e-903631b8ac26",
   "metadata": {},
   "outputs": [],
   "source": [
    "spotify_data['Release Date'] = pd.to_datetime(spotify_data['Release Date'])"
   ]
  },
  {
   "cell_type": "code",
   "execution_count": 13,
   "id": "7ab6b074-c721-46a5-93d3-9a567e0417da",
   "metadata": {},
   "outputs": [],
   "source": [
    "needed_cols = ['Track Score',\"Spotify Popularity\",'Spotify Playlist Count',\n",
    "               'YouTube Likes','TikTok Likes',\n",
    "               'Pandora Track Stations','Apple Music Playlist Count',\n",
    "               'Deezer Playlist Count', 'Amazon Playlist Count']"
   ]
  },
  {
   "cell_type": "code",
   "execution_count": 15,
   "id": "65dab70a-a57c-4936-8660-6b8fdfe55546",
   "metadata": {},
   "outputs": [],
   "source": [
    "sam_cols = [\"Apple Music Playlist Count\",\"Deezer Playlist Count\", \"Deezer Playlist Reach\", \n",
    "            \"Amazon Playlist Count\", \"Pandora Streams\",\"Pandora Track Stations\", \n",
    "            \"Shazam Counts\"]"
   ]
  },
  {
   "cell_type": "code",
   "execution_count": 17,
   "id": "6eedf9b7-2ecf-4226-a787-82e8f48d4091",
   "metadata": {},
   "outputs": [],
   "source": [
    "#Replacing NaN in columns where missing values are less in number with groupby of Artist or Album"
   ]
  },
  {
   "cell_type": "code",
   "execution_count": 19,
   "id": "d58fd69c-61e0-4a4f-9b2a-3e7598ea43fb",
   "metadata": {},
   "outputs": [],
   "source": [
    "for i in [\"Deezer Playlist Reach\",\"Pandora Streams\",\"Pandora Track Stations\", \"Shazam Counts\"]:\n",
    "    spotify_data[i] = spotify_data[i].str.replace(',','').replace(np.nan,0).astype('int')"
   ]
  },
  {
   "cell_type": "code",
   "execution_count": 21,
   "id": "353961cf-d6a1-4a8e-842d-67117fb6def2",
   "metadata": {},
   "outputs": [],
   "source": [
    "for i in [\"Apple Music Playlist Count\",\"Deezer Playlist Count\",\"Amazon Playlist Count\"]:\n",
    "    spotify_data[i] = spotify_data[i].replace(0, np.nan)\n",
    "    spotify_data[i] = spotify_data[i].fillna(spotify_data.groupby('Artist')[i].transform('mean'))"
   ]
  },
  {
   "cell_type": "code",
   "execution_count": 23,
   "id": "6a85aed2-538b-4952-8538-150efb34df00",
   "metadata": {},
   "outputs": [],
   "source": [
    "for i in [\"Deezer Playlist Reach\",\"Pandora Streams\",\"Pandora Track Stations\"]:\n",
    "    spotify_data[i] = spotify_data[i].replace(0, np.nan)\n",
    "    spotify_data[i] = spotify_data[i].fillna(spotify_data.groupby('Album Name')[i].transform('mean'))"
   ]
  },
  {
   "cell_type": "code",
   "execution_count": 33,
   "id": "0ccd7897-e501-40a9-94f5-41d90e57e19e",
   "metadata": {},
   "outputs": [
    {
     "name": "stdout",
     "output_type": "stream",
     "text": [
      "<class 'pandas.core.frame.DataFrame'>\n",
      "RangeIndex: 4600 entries, 0 to 4599\n",
      "Data columns (total 28 columns):\n",
      " #   Column                      Non-Null Count  Dtype         \n",
      "---  ------                      --------------  -----         \n",
      " 0   Track                       4600 non-null   object        \n",
      " 1   Album Name                  4600 non-null   object        \n",
      " 2   Artist                      4595 non-null   object        \n",
      " 3   Release Date                4600 non-null   datetime64[ns]\n",
      " 4   ISRC                        4600 non-null   object        \n",
      " 5   All Time Rank               4600 non-null   object        \n",
      " 6   Track Score                 4600 non-null   float64       \n",
      " 7   Spotify Streams             4487 non-null   object        \n",
      " 8   Spotify Playlist Count      4530 non-null   object        \n",
      " 9   Spotify Playlist Reach      4528 non-null   object        \n",
      " 10  Spotify Popularity          3796 non-null   float64       \n",
      " 11  YouTube Views               4292 non-null   object        \n",
      " 12  YouTube Likes               4285 non-null   object        \n",
      " 13  TikTok Posts                3427 non-null   object        \n",
      " 14  TikTok Likes                3620 non-null   object        \n",
      " 15  TikTok Views                3619 non-null   object        \n",
      " 16  YouTube Playlist Reach      3591 non-null   object        \n",
      " 17  Apple Music Playlist Count  4191 non-null   float64       \n",
      " 18  AirPlay Spins               4102 non-null   object        \n",
      " 19  SiriusXM Spins              2477 non-null   object        \n",
      " 20  Deezer Playlist Count       3947 non-null   float64       \n",
      " 21  Deezer Playlist Reach       3763 non-null   float64       \n",
      " 22  Amazon Playlist Count       3888 non-null   float64       \n",
      " 23  Pandora Streams             3583 non-null   float64       \n",
      " 24  Pandora Track Stations      3429 non-null   float64       \n",
      " 25  Soundcloud Streams          1267 non-null   object        \n",
      " 26  Shazam Counts               4600 non-null   int64         \n",
      " 27  Explicit Track              4600 non-null   int64         \n",
      "dtypes: datetime64[ns](1), float64(8), int64(2), object(17)\n",
      "memory usage: 1006.4+ KB\n"
     ]
    }
   ],
   "source": [
    "spotify_data.info()"
   ]
  },
  {
   "cell_type": "code",
   "execution_count": null,
   "id": "540eca39-7305-4691-bd3e-6aa2ba95e33d",
   "metadata": {},
   "outputs": [],
   "source": [
    "#Columns still have missing data even with groupby replacements, let's see what's the issue"
   ]
  },
  {
   "cell_type": "code",
   "execution_count": 25,
   "id": "77aea7de-adaa-4c13-945c-404f8042fc61",
   "metadata": {},
   "outputs": [
    {
     "data": {
      "text/plain": [
       "Artist\n",
       "\"XY\"                                            True\n",
       "$OHO BANI                                      False\n",
       "$uicideboy$                                    False\n",
       "&ME                                            False\n",
       "(G)I-DLE                                       False\n",
       "                                               ...  \n",
       "ýýýýýýýýýýýýýýý ýýýýýýýýýýýýýýý                False\n",
       "ýýýýýýýýýýýýýýý(ýýýýýýýýýýýýýýý)               False\n",
       "ýýýýýýýýýýýýýýýýýý                              True\n",
       "ýýýýýýýýýýýýýýýýýýýýý ýýýýýýýýýýýýýýýýýýýýý     True\n",
       "ýýýýýýýýýýýýýýýýýýýýýýýý                       False\n",
       "Name: Apple Music Playlist Count, Length: 1999, dtype: bool"
      ]
     },
     "execution_count": 25,
     "metadata": {},
     "output_type": "execute_result"
    }
   ],
   "source": [
    "(pd.isna(spotify_data.groupby('Artist')[\"Apple Music Playlist Count\"].mean()))"
   ]
  },
  {
   "cell_type": "code",
   "execution_count": 27,
   "id": "6123a532-c1ef-40a9-b39f-1520e31841d7",
   "metadata": {},
   "outputs": [
    {
     "data": {
      "text/html": [
       "<div>\n",
       "<style scoped>\n",
       "    .dataframe tbody tr th:only-of-type {\n",
       "        vertical-align: middle;\n",
       "    }\n",
       "\n",
       "    .dataframe tbody tr th {\n",
       "        vertical-align: top;\n",
       "    }\n",
       "\n",
       "    .dataframe thead th {\n",
       "        text-align: right;\n",
       "    }\n",
       "</style>\n",
       "<table border=\"1\" class=\"dataframe\">\n",
       "  <thead>\n",
       "    <tr style=\"text-align: right;\">\n",
       "      <th></th>\n",
       "      <th>Track</th>\n",
       "      <th>Album Name</th>\n",
       "      <th>Artist</th>\n",
       "      <th>Release Date</th>\n",
       "      <th>ISRC</th>\n",
       "      <th>All Time Rank</th>\n",
       "      <th>Track Score</th>\n",
       "      <th>Spotify Streams</th>\n",
       "      <th>Spotify Playlist Count</th>\n",
       "      <th>Spotify Playlist Reach</th>\n",
       "      <th>...</th>\n",
       "      <th>AirPlay Spins</th>\n",
       "      <th>SiriusXM Spins</th>\n",
       "      <th>Deezer Playlist Count</th>\n",
       "      <th>Deezer Playlist Reach</th>\n",
       "      <th>Amazon Playlist Count</th>\n",
       "      <th>Pandora Streams</th>\n",
       "      <th>Pandora Track Stations</th>\n",
       "      <th>Soundcloud Streams</th>\n",
       "      <th>Shazam Counts</th>\n",
       "      <th>Explicit Track</th>\n",
       "    </tr>\n",
       "  </thead>\n",
       "  <tbody>\n",
       "    <tr>\n",
       "      <th>4273</th>\n",
       "      <td>ýýýýýýýýýýýýýýýýýýýýýýýýýýý</td>\n",
       "      <td>ýýýýýýýýýýýýýýýýýýýýýýýýýýý - Single</td>\n",
       "      <td>ýýýýýýýýýýýýýýýýýý</td>\n",
       "      <td>2023-04-28</td>\n",
       "      <td>THSOH2302594</td>\n",
       "      <td>4,222</td>\n",
       "      <td>20.5</td>\n",
       "      <td>4,943,057</td>\n",
       "      <td>1,054</td>\n",
       "      <td>162,895</td>\n",
       "      <td>...</td>\n",
       "      <td>NaN</td>\n",
       "      <td>NaN</td>\n",
       "      <td>NaN</td>\n",
       "      <td>NaN</td>\n",
       "      <td>NaN</td>\n",
       "      <td>NaN</td>\n",
       "      <td>NaN</td>\n",
       "      <td>NaN</td>\n",
       "      <td>13291</td>\n",
       "      <td>0</td>\n",
       "    </tr>\n",
       "  </tbody>\n",
       "</table>\n",
       "<p>1 rows × 28 columns</p>\n",
       "</div>"
      ],
      "text/plain": [
       "                            Track                            Album Name  \\\n",
       "4273  ýýýýýýýýýýýýýýýýýýýýýýýýýýý  ýýýýýýýýýýýýýýýýýýýýýýýýýýý - Single   \n",
       "\n",
       "                  Artist Release Date          ISRC All Time Rank  \\\n",
       "4273  ýýýýýýýýýýýýýýýýýý   2023-04-28  THSOH2302594         4,222   \n",
       "\n",
       "      Track Score Spotify Streams Spotify Playlist Count  \\\n",
       "4273         20.5       4,943,057                  1,054   \n",
       "\n",
       "     Spotify Playlist Reach  ...  AirPlay Spins SiriusXM Spins  \\\n",
       "4273                162,895  ...            NaN            NaN   \n",
       "\n",
       "     Deezer Playlist Count Deezer Playlist Reach Amazon Playlist Count  \\\n",
       "4273                   NaN                   NaN                   NaN   \n",
       "\n",
       "     Pandora Streams Pandora Track Stations  Soundcloud Streams Shazam Counts  \\\n",
       "4273             NaN                    NaN                 NaN         13291   \n",
       "\n",
       "     Explicit Track  \n",
       "4273              0  \n",
       "\n",
       "[1 rows x 28 columns]"
      ]
     },
     "execution_count": 27,
     "metadata": {},
     "output_type": "execute_result"
    }
   ],
   "source": [
    "spotify_data[spotify_data['Artist'] == \"ýýýýýýýýýýýýýýýýýý\"]"
   ]
  },
  {
   "cell_type": "code",
   "execution_count": 29,
   "id": "ebf5b3bf-5b8a-43f4-9824-637d27cde6c3",
   "metadata": {},
   "outputs": [
    {
     "data": {
      "text/html": [
       "<div>\n",
       "<style scoped>\n",
       "    .dataframe tbody tr th:only-of-type {\n",
       "        vertical-align: middle;\n",
       "    }\n",
       "\n",
       "    .dataframe tbody tr th {\n",
       "        vertical-align: top;\n",
       "    }\n",
       "\n",
       "    .dataframe thead th {\n",
       "        text-align: right;\n",
       "    }\n",
       "</style>\n",
       "<table border=\"1\" class=\"dataframe\">\n",
       "  <thead>\n",
       "    <tr style=\"text-align: right;\">\n",
       "      <th></th>\n",
       "      <th>Track</th>\n",
       "      <th>Album Name</th>\n",
       "      <th>Artist</th>\n",
       "      <th>Release Date</th>\n",
       "      <th>ISRC</th>\n",
       "      <th>All Time Rank</th>\n",
       "      <th>Track Score</th>\n",
       "      <th>Spotify Streams</th>\n",
       "      <th>Spotify Playlist Count</th>\n",
       "      <th>Spotify Playlist Reach</th>\n",
       "      <th>...</th>\n",
       "      <th>AirPlay Spins</th>\n",
       "      <th>SiriusXM Spins</th>\n",
       "      <th>Deezer Playlist Count</th>\n",
       "      <th>Deezer Playlist Reach</th>\n",
       "      <th>Amazon Playlist Count</th>\n",
       "      <th>Pandora Streams</th>\n",
       "      <th>Pandora Track Stations</th>\n",
       "      <th>Soundcloud Streams</th>\n",
       "      <th>Shazam Counts</th>\n",
       "      <th>Explicit Track</th>\n",
       "    </tr>\n",
       "  </thead>\n",
       "  <tbody>\n",
       "    <tr>\n",
       "      <th>1525</th>\n",
       "      <td>ýýýýýýýýýýýýýýýýýýýýýýýýýýýýýý</td>\n",
       "      <td>ýýýýýýýýýýýýýýýýýýýýý ýýýýýýýýýýýýýýýýýýýýý ýý...</td>\n",
       "      <td>ýýýýýýýýýýýýýýýýýýýýý ýýýýýýýýýýýýýýýýýýýýý</td>\n",
       "      <td>2023-09-18</td>\n",
       "      <td>THSOH2307725</td>\n",
       "      <td>1,522</td>\n",
       "      <td>37.7</td>\n",
       "      <td>456,034</td>\n",
       "      <td>14</td>\n",
       "      <td>138</td>\n",
       "      <td>...</td>\n",
       "      <td>NaN</td>\n",
       "      <td>NaN</td>\n",
       "      <td>NaN</td>\n",
       "      <td>NaN</td>\n",
       "      <td>NaN</td>\n",
       "      <td>NaN</td>\n",
       "      <td>NaN</td>\n",
       "      <td>NaN</td>\n",
       "      <td>2065</td>\n",
       "      <td>0</td>\n",
       "    </tr>\n",
       "  </tbody>\n",
       "</table>\n",
       "<p>1 rows × 28 columns</p>\n",
       "</div>"
      ],
      "text/plain": [
       "                               Track  \\\n",
       "1525  ýýýýýýýýýýýýýýýýýýýýýýýýýýýýýý   \n",
       "\n",
       "                                             Album Name  \\\n",
       "1525  ýýýýýýýýýýýýýýýýýýýýý ýýýýýýýýýýýýýýýýýýýýý ýý...   \n",
       "\n",
       "                                           Artist Release Date          ISRC  \\\n",
       "1525  ýýýýýýýýýýýýýýýýýýýýý ýýýýýýýýýýýýýýýýýýýýý   2023-09-18  THSOH2307725   \n",
       "\n",
       "     All Time Rank  Track Score Spotify Streams Spotify Playlist Count  \\\n",
       "1525         1,522         37.7         456,034                     14   \n",
       "\n",
       "     Spotify Playlist Reach  ...  AirPlay Spins SiriusXM Spins  \\\n",
       "1525                    138  ...            NaN            NaN   \n",
       "\n",
       "     Deezer Playlist Count Deezer Playlist Reach Amazon Playlist Count  \\\n",
       "1525                   NaN                   NaN                   NaN   \n",
       "\n",
       "     Pandora Streams Pandora Track Stations  Soundcloud Streams Shazam Counts  \\\n",
       "1525             NaN                    NaN                 NaN          2065   \n",
       "\n",
       "     Explicit Track  \n",
       "1525              0  \n",
       "\n",
       "[1 rows x 28 columns]"
      ]
     },
     "execution_count": 29,
     "metadata": {},
     "output_type": "execute_result"
    }
   ],
   "source": [
    "spotify_data[spotify_data['Artist'] == \"ýýýýýýýýýýýýýýýýýýýýý ýýýýýýýýýýýýýýýýýýýýý\"]"
   ]
  },
  {
   "cell_type": "code",
   "execution_count": 31,
   "id": "04ee898a-bc43-4dca-a185-cd20917ab5e8",
   "metadata": {},
   "outputs": [
    {
     "data": {
      "text/html": [
       "<div>\n",
       "<style scoped>\n",
       "    .dataframe tbody tr th:only-of-type {\n",
       "        vertical-align: middle;\n",
       "    }\n",
       "\n",
       "    .dataframe tbody tr th {\n",
       "        vertical-align: top;\n",
       "    }\n",
       "\n",
       "    .dataframe thead th {\n",
       "        text-align: right;\n",
       "    }\n",
       "</style>\n",
       "<table border=\"1\" class=\"dataframe\">\n",
       "  <thead>\n",
       "    <tr style=\"text-align: right;\">\n",
       "      <th></th>\n",
       "      <th>Track</th>\n",
       "      <th>Album Name</th>\n",
       "      <th>Artist</th>\n",
       "      <th>Release Date</th>\n",
       "      <th>ISRC</th>\n",
       "      <th>All Time Rank</th>\n",
       "      <th>Track Score</th>\n",
       "      <th>Spotify Streams</th>\n",
       "      <th>Spotify Playlist Count</th>\n",
       "      <th>Spotify Playlist Reach</th>\n",
       "      <th>...</th>\n",
       "      <th>AirPlay Spins</th>\n",
       "      <th>SiriusXM Spins</th>\n",
       "      <th>Deezer Playlist Count</th>\n",
       "      <th>Deezer Playlist Reach</th>\n",
       "      <th>Amazon Playlist Count</th>\n",
       "      <th>Pandora Streams</th>\n",
       "      <th>Pandora Track Stations</th>\n",
       "      <th>Soundcloud Streams</th>\n",
       "      <th>Shazam Counts</th>\n",
       "      <th>Explicit Track</th>\n",
       "    </tr>\n",
       "  </thead>\n",
       "  <tbody>\n",
       "    <tr>\n",
       "      <th>2388</th>\n",
       "      <td>Come and Say - Original Mix</td>\n",
       "      <td>Relyt Conections 3</td>\n",
       "      <td>\"XY\"</td>\n",
       "      <td>2022-11-14</td>\n",
       "      <td>ES98I2200881</td>\n",
       "      <td>2,379</td>\n",
       "      <td>29.2</td>\n",
       "      <td>NaN</td>\n",
       "      <td>1</td>\n",
       "      <td>9</td>\n",
       "      <td>...</td>\n",
       "      <td>1</td>\n",
       "      <td>NaN</td>\n",
       "      <td>NaN</td>\n",
       "      <td>NaN</td>\n",
       "      <td>NaN</td>\n",
       "      <td>NaN</td>\n",
       "      <td>NaN</td>\n",
       "      <td>NaN</td>\n",
       "      <td>0</td>\n",
       "      <td>0</td>\n",
       "    </tr>\n",
       "  </tbody>\n",
       "</table>\n",
       "<p>1 rows × 28 columns</p>\n",
       "</div>"
      ],
      "text/plain": [
       "                            Track          Album Name Artist Release Date  \\\n",
       "2388  Come and Say - Original Mix  Relyt Conections 3   \"XY\"   2022-11-14   \n",
       "\n",
       "              ISRC All Time Rank  Track Score Spotify Streams  \\\n",
       "2388  ES98I2200881         2,379         29.2             NaN   \n",
       "\n",
       "     Spotify Playlist Count Spotify Playlist Reach  ...  AirPlay Spins  \\\n",
       "2388                      1                      9  ...              1   \n",
       "\n",
       "     SiriusXM Spins Deezer Playlist Count Deezer Playlist Reach  \\\n",
       "2388            NaN                   NaN                   NaN   \n",
       "\n",
       "     Amazon Playlist Count Pandora Streams Pandora Track Stations  \\\n",
       "2388                   NaN             NaN                    NaN   \n",
       "\n",
       "      Soundcloud Streams Shazam Counts Explicit Track  \n",
       "2388                 NaN             0              0  \n",
       "\n",
       "[1 rows x 28 columns]"
      ]
     },
     "execution_count": 31,
     "metadata": {},
     "output_type": "execute_result"
    }
   ],
   "source": [
    "spotify_data[spotify_data['Artist'] == '\"XY\"']"
   ]
  },
  {
   "cell_type": "code",
   "execution_count": 35,
   "id": "57f6895a-70fd-4e71-a01f-f203aea6d7f4",
   "metadata": {},
   "outputs": [],
   "source": [
    "#They don't even have any values to calculate the mean"
   ]
  },
  {
   "cell_type": "code",
   "execution_count": 37,
   "id": "7c2587d2-8e97-4d00-82ed-f06f2dacb41a",
   "metadata": {},
   "outputs": [],
   "source": [
    "#Replacing them with median as the data is skewed"
   ]
  },
  {
   "cell_type": "code",
   "execution_count": 41,
   "id": "515ecc9b-d8a5-4d06-9bcc-64f56ef3f369",
   "metadata": {},
   "outputs": [
    {
     "data": {
      "image/png": "[encoded data removed]",
      "text/plain": [
       "<Figure size 640x480 with 1 Axes>"
      ]
     },
     "metadata": {},
     "output_type": "display_data"
    }
   ],
   "source": [
    "plt.hist(spotify_data[\"Apple Music Playlist Count\"]);"
   ]
  },
  {
   "cell_type": "code",
   "execution_count": 43,
   "id": "19c2032f-36d4-408a-83f3-acb2d45d5696",
   "metadata": {},
   "outputs": [],
   "source": [
    "for i in [\"Apple Music Playlist Count\",\"Deezer Playlist Count\",\"Amazon Playlist Count\",\"Deezer Playlist Reach\"]:\n",
    "    spotify_data[i] = spotify_data[i].replace(np.nan, spotify_data[i].median())"
   ]
  },
  {
   "cell_type": "code",
   "execution_count": 45,
   "id": "e863240e-2d8f-44d2-82ec-27aca4bfb454",
   "metadata": {},
   "outputs": [],
   "source": [
    "for i in [\"Pandora Streams\",\"Pandora Track Stations\"]:\n",
    "    spotify_data[i] = spotify_data[i].replace(np.nan, 0)"
   ]
  },
  {
   "cell_type": "code",
   "execution_count": 47,
   "id": "6c1e4147-3e16-448a-8cbf-b76abe19b30f",
   "metadata": {},
   "outputs": [],
   "source": [
    "#selecting mon_cols from needed_cols for analysis"
   ]
  },
  {
   "cell_type": "code",
   "execution_count": 49,
   "id": "1c7bc8f0-dc47-4eaa-98c7-96f54639b868",
   "metadata": {},
   "outputs": [],
   "source": [
    "mon_cols = [\"Spotify Playlist Count\",\"YouTube Likes\",\"TikTok Likes\"]\n",
    "for i in mon_cols:\n",
    "    spotify_data[i] = spotify_data[i].str.replace(',','').replace(np.nan,0).astype('int')"
   ]
  },
  {
   "cell_type": "code",
   "execution_count": 51,
   "id": "ab44bf49-1063-40b5-917b-db5c510358a6",
   "metadata": {},
   "outputs": [],
   "source": [
    "for i in [\"Spotify Playlist Count\",\"YouTube Likes\",\"TikTok Likes\"]:\n",
    "    spotify_data[i] = spotify_data[i].replace(0, spotify_data[i].median())"
   ]
  },
  {
   "cell_type": "code",
   "execution_count": 53,
   "id": "a2342531-271d-4a72-9747-bad87b99239b",
   "metadata": {},
   "outputs": [],
   "source": [
    "#final set of columns"
   ]
  },
  {
   "cell_type": "code",
   "execution_count": 55,
   "id": "9808381a-8c15-4573-8f95-0803370705df",
   "metadata": {},
   "outputs": [],
   "source": [
    "contribute_df = spotify_data[['Track','Track Score','Spotify Playlist Count','YouTube Likes','TikTok Likes','Pandora Track Stations',\n",
    "                              'Apple Music Playlist Count','Deezer Playlist Count', 'Amazon Playlist Count']]"
   ]
  },
  {
   "cell_type": "code",
   "execution_count": 57,
   "id": "1fe8e5ca-fd62-4e8c-9508-9e2712f5480c",
   "metadata": {},
   "outputs": [
    {
     "data": {
      "image/png": "[encoded data removed]",
      "text/plain": [
       "<Figure size 1550x350 with 1 Axes>"
      ]
     },
     "metadata": {},
     "output_type": "display_data"
    }
   ],
   "source": [
    "plt.subplots(figsize=(15.5, 3.5))\n",
    "sns.boxplot(data=spotify_data[[\"Spotify Playlist Count\",\"Spotify Popularity\",\"YouTube Likes\",\"TikTok Likes\",\"Apple Music Playlist Count\",\"Deezer Playlist Count\",\"Amazon Playlist Count\",]]);"
   ]
  },
  {
   "cell_type": "code",
   "execution_count": 59,
   "id": "13cfd235-e3e4-4325-8dbf-edd8b0feb100",
   "metadata": {},
   "outputs": [],
   "source": [
    "#tiktok likes has a lot of outliers - so filtering the data"
   ]
  },
  {
   "cell_type": "code",
   "execution_count": 61,
   "id": "4ba9567a-66cf-49ba-8ea1-ff24a362cd76",
   "metadata": {},
   "outputs": [
    {
     "data": {
      "text/plain": [
       "count    4.600000e+03\n",
       "mean     9.134715e+07\n",
       "std      4.894411e+08\n",
       "min      3.000000e+00\n",
       "25%      9.401191e+06\n",
       "50%      1.271789e+07\n",
       "75%      6.721851e+07\n",
       "max      2.347422e+10\n",
       "Name: TikTok Likes, dtype: float64"
      ]
     },
     "execution_count": 61,
     "metadata": {},
     "output_type": "execute_result"
    }
   ],
   "source": [
    "spotify_data[\"TikTok Likes\"].describe()"
   ]
  },
  {
   "cell_type": "code",
   "execution_count": 65,
   "id": "04f6958b-1baa-4f3a-a7a6-03ce54672b2a",
   "metadata": {},
   "outputs": [
    {
     "data": {
      "image/png": "[encoded data removed]",
      "text/plain": [
       "<Figure size 640x480 with 1 Axes>"
      ]
     },
     "metadata": {},
     "output_type": "display_data"
    }
   ],
   "source": [
    "plt.hist(spotify_data[\"TikTok Likes\"]);"
   ]
  },
  {
   "cell_type": "code",
   "execution_count": 67,
   "id": "8b79a8c0-63ae-43e7-9ea2-74fd804fb8a1",
   "metadata": {},
   "outputs": [
    {
     "data": {
      "text/plain": [
       "<Axes: ylabel='Frequency'>"
      ]
     },
     "execution_count": 67,
     "metadata": {},
     "output_type": "execute_result"
    },
    {
     "data": {
      "image/png": "[encoded data removed]",
      "text/plain": [
       "<Figure size 640x480 with 1 Axes>"
      ]
     },
     "metadata": {},
     "output_type": "display_data"
    }
   ],
   "source": [
    "((spotify_data[spotify_data[\"TikTok Likes\"] <= 60000000])['TikTok Likes']).plot(kind='hist')"
   ]
  },
  {
   "cell_type": "code",
   "execution_count": 69,
   "id": "baa98d1d-30a9-466f-a85f-3852e3a87b36",
   "metadata": {},
   "outputs": [],
   "source": [
    "filtered_df = spotify_data[spotify_data[\"TikTok Likes\"] <= 60000000]"
   ]
  },
  {
   "cell_type": "code",
   "execution_count": 71,
   "id": "ab8a71d9-faab-4941-aaec-d1876595def2",
   "metadata": {},
   "outputs": [],
   "source": [
    "contribute_df = filtered_df[['Track','Track Score',\"Spotify Popularity\",'Spotify Playlist Count','YouTube Likes','TikTok Likes','Pandora Track Stations','Apple Music Playlist Count','Deezer Playlist Count', 'Amazon Playlist Count']]"
   ]
  },
  {
   "cell_type": "code",
   "execution_count": 73,
   "id": "620656c2-f350-4292-b5b5-8d9b4d36b874",
   "metadata": {},
   "outputs": [
    {
     "data": {
      "text/html": [
       "<div>\n",
       "<style scoped>\n",
       "    .dataframe tbody tr th:only-of-type {\n",
       "        vertical-align: middle;\n",
       "    }\n",
       "\n",
       "    .dataframe tbody tr th {\n",
       "        vertical-align: top;\n",
       "    }\n",
       "\n",
       "    .dataframe thead th {\n",
       "        text-align: right;\n",
       "    }\n",
       "</style>\n",
       "<table border=\"1\" class=\"dataframe\">\n",
       "  <thead>\n",
       "    <tr style=\"text-align: right;\">\n",
       "      <th></th>\n",
       "      <th>Track</th>\n",
       "      <th>Track Score</th>\n",
       "      <th>Spotify Popularity</th>\n",
       "      <th>Spotify Playlist Count</th>\n",
       "      <th>YouTube Likes</th>\n",
       "      <th>TikTok Likes</th>\n",
       "      <th>Pandora Track Stations</th>\n",
       "      <th>Apple Music Playlist Count</th>\n",
       "      <th>Deezer Playlist Count</th>\n",
       "      <th>Amazon Playlist Count</th>\n",
       "    </tr>\n",
       "  </thead>\n",
       "  <tbody>\n",
       "    <tr>\n",
       "      <th>1</th>\n",
       "      <td>Not Like Us</td>\n",
       "      <td>545.9</td>\n",
       "      <td>92.0</td>\n",
       "      <td>28113</td>\n",
       "      <td>3486739.0</td>\n",
       "      <td>35223547.0</td>\n",
       "      <td>28444.0</td>\n",
       "      <td>188.0</td>\n",
       "      <td>67.0</td>\n",
       "      <td>111.000000</td>\n",
       "    </tr>\n",
       "    <tr>\n",
       "      <th>4</th>\n",
       "      <td>Houdini</td>\n",
       "      <td>423.3</td>\n",
       "      <td>88.0</td>\n",
       "      <td>7223</td>\n",
       "      <td>3670188.0</td>\n",
       "      <td>12703314.5</td>\n",
       "      <td>7006.0</td>\n",
       "      <td>182.0</td>\n",
       "      <td>82.0</td>\n",
       "      <td>105.000000</td>\n",
       "    </tr>\n",
       "    <tr>\n",
       "      <th>6</th>\n",
       "      <td>Beautiful Things</td>\n",
       "      <td>407.2</td>\n",
       "      <td>86.0</td>\n",
       "      <td>73118</td>\n",
       "      <td>4120760.0</td>\n",
       "      <td>29584940.0</td>\n",
       "      <td>57372.0</td>\n",
       "      <td>280.0</td>\n",
       "      <td>168.0</td>\n",
       "      <td>154.000000</td>\n",
       "    </tr>\n",
       "    <tr>\n",
       "      <th>8</th>\n",
       "      <td>Danza Kuduro - Cover</td>\n",
       "      <td>355.7</td>\n",
       "      <td>NaN</td>\n",
       "      <td>1</td>\n",
       "      <td>1072084.5</td>\n",
       "      <td>12703314.5</td>\n",
       "      <td>0.0</td>\n",
       "      <td>28.0</td>\n",
       "      <td>15.0</td>\n",
       "      <td>17.000000</td>\n",
       "    </tr>\n",
       "    <tr>\n",
       "      <th>10</th>\n",
       "      <td>I Had Some Help (feat. Morgan Wallen)</td>\n",
       "      <td>322.1</td>\n",
       "      <td>91.0</td>\n",
       "      <td>16219</td>\n",
       "      <td>550191.0</td>\n",
       "      <td>184500.0</td>\n",
       "      <td>21172.0</td>\n",
       "      <td>157.0</td>\n",
       "      <td>60.0</td>\n",
       "      <td>114.000000</td>\n",
       "    </tr>\n",
       "    <tr>\n",
       "      <th>...</th>\n",
       "      <td>...</td>\n",
       "      <td>...</td>\n",
       "      <td>...</td>\n",
       "      <td>...</td>\n",
       "      <td>...</td>\n",
       "      <td>...</td>\n",
       "      <td>...</td>\n",
       "      <td>...</td>\n",
       "      <td>...</td>\n",
       "      <td>...</td>\n",
       "    </tr>\n",
       "    <tr>\n",
       "      <th>4595</th>\n",
       "      <td>For the Last Time</td>\n",
       "      <td>19.4</td>\n",
       "      <td>71.0</td>\n",
       "      <td>65770</td>\n",
       "      <td>1397590.0</td>\n",
       "      <td>20202000.0</td>\n",
       "      <td>13184.0</td>\n",
       "      <td>3.0</td>\n",
       "      <td>2.0</td>\n",
       "      <td>3.666667</td>\n",
       "    </tr>\n",
       "    <tr>\n",
       "      <th>4596</th>\n",
       "      <td>Dil Meri Na Sune</td>\n",
       "      <td>19.4</td>\n",
       "      <td>56.0</td>\n",
       "      <td>4602</td>\n",
       "      <td>5347766.0</td>\n",
       "      <td>1721.0</td>\n",
       "      <td>0.0</td>\n",
       "      <td>1.0</td>\n",
       "      <td>1.0</td>\n",
       "      <td>1.000000</td>\n",
       "    </tr>\n",
       "    <tr>\n",
       "      <th>4597</th>\n",
       "      <td>Grace (feat. 42 Dugg)</td>\n",
       "      <td>19.4</td>\n",
       "      <td>65.0</td>\n",
       "      <td>72066</td>\n",
       "      <td>1081402.0</td>\n",
       "      <td>5288677.0</td>\n",
       "      <td>28999.0</td>\n",
       "      <td>19.0</td>\n",
       "      <td>1.0</td>\n",
       "      <td>6.000000</td>\n",
       "    </tr>\n",
       "    <tr>\n",
       "      <th>4598</th>\n",
       "      <td>Nashe Si Chadh Gayi</td>\n",
       "      <td>19.4</td>\n",
       "      <td>66.0</td>\n",
       "      <td>14037</td>\n",
       "      <td>3868828.0</td>\n",
       "      <td>2534831.0</td>\n",
       "      <td>0.0</td>\n",
       "      <td>1.0</td>\n",
       "      <td>1.0</td>\n",
       "      <td>7.000000</td>\n",
       "    </tr>\n",
       "    <tr>\n",
       "      <th>4599</th>\n",
       "      <td>Me Acostumbre (feat. Bad Bunny)</td>\n",
       "      <td>19.4</td>\n",
       "      <td>64.0</td>\n",
       "      <td>32138</td>\n",
       "      <td>3826829.0</td>\n",
       "      <td>10055461.0</td>\n",
       "      <td>11320.0</td>\n",
       "      <td>11.0</td>\n",
       "      <td>4.0</td>\n",
       "      <td>4.000000</td>\n",
       "    </tr>\n",
       "  </tbody>\n",
       "</table>\n",
       "<p>3351 rows × 10 columns</p>\n",
       "</div>"
      ],
      "text/plain": [
       "                                      Track  Track Score  Spotify Popularity  \\\n",
       "1                               Not Like Us        545.9                92.0   \n",
       "4                                   Houdini        423.3                88.0   \n",
       "6                          Beautiful Things        407.2                86.0   \n",
       "8                      Danza Kuduro - Cover        355.7                 NaN   \n",
       "10    I Had Some Help (feat. Morgan Wallen)        322.1                91.0   \n",
       "...                                     ...          ...                 ...   \n",
       "4595                      For the Last Time         19.4                71.0   \n",
       "4596                       Dil Meri Na Sune         19.4                56.0   \n",
       "4597                  Grace (feat. 42 Dugg)         19.4                65.0   \n",
       "4598                    Nashe Si Chadh Gayi         19.4                66.0   \n",
       "4599        Me Acostumbre (feat. Bad Bunny)         19.4                64.0   \n",
       "\n",
       "      Spotify Playlist Count  YouTube Likes  TikTok Likes  \\\n",
       "1                      28113      3486739.0    35223547.0   \n",
       "4                       7223      3670188.0    12703314.5   \n",
       "6                      73118      4120760.0    29584940.0   \n",
       "8                          1      1072084.5    12703314.5   \n",
       "10                     16219       550191.0      184500.0   \n",
       "...                      ...            ...           ...   \n",
       "4595                   65770      1397590.0    20202000.0   \n",
       "4596                    4602      5347766.0        1721.0   \n",
       "4597                   72066      1081402.0     5288677.0   \n",
       "4598                   14037      3868828.0     2534831.0   \n",
       "4599                   32138      3826829.0    10055461.0   \n",
       "\n",
       "      Pandora Track Stations  Apple Music Playlist Count  \\\n",
       "1                    28444.0                       188.0   \n",
       "4                     7006.0                       182.0   \n",
       "6                    57372.0                       280.0   \n",
       "8                        0.0                        28.0   \n",
       "10                   21172.0                       157.0   \n",
       "...                      ...                         ...   \n",
       "4595                 13184.0                         3.0   \n",
       "4596                     0.0                         1.0   \n",
       "4597                 28999.0                        19.0   \n",
       "4598                     0.0                         1.0   \n",
       "4599                 11320.0                        11.0   \n",
       "\n",
       "      Deezer Playlist Count  Amazon Playlist Count  \n",
       "1                      67.0             111.000000  \n",
       "4                      82.0             105.000000  \n",
       "6                     168.0             154.000000  \n",
       "8                      15.0              17.000000  \n",
       "10                     60.0             114.000000  \n",
       "...                     ...                    ...  \n",
       "4595                    2.0               3.666667  \n",
       "4596                    1.0               1.000000  \n",
       "4597                    1.0               6.000000  \n",
       "4598                    1.0               7.000000  \n",
       "4599                    4.0               4.000000  \n",
       "\n",
       "[3351 rows x 10 columns]"
      ]
     },
     "execution_count": 73,
     "metadata": {},
     "output_type": "execute_result"
    }
   ],
   "source": [
    "contribute_df"
   ]
  },
  {
   "cell_type": "code",
   "execution_count": 75,
   "id": "93bbe5e4-6e55-4cd4-8874-236c39b2eaf3",
   "metadata": {},
   "outputs": [],
   "source": [
    "#Plotting 3351 songs popularity and their distribution can get messy so let's pick songs whose track score is >100"
   ]
  },
  {
   "cell_type": "code",
   "execution_count": 77,
   "id": "5db9838d-0032-4c79-8137-5ef6a9e0d5e8",
   "metadata": {},
   "outputs": [
    {
     "data": {
      "text/html": [
       "<div>\n",
       "<style scoped>\n",
       "    .dataframe tbody tr th:only-of-type {\n",
       "        vertical-align: middle;\n",
       "    }\n",
       "\n",
       "    .dataframe tbody tr th {\n",
       "        vertical-align: top;\n",
       "    }\n",
       "\n",
       "    .dataframe thead th {\n",
       "        text-align: right;\n",
       "    }\n",
       "</style>\n",
       "<table border=\"1\" class=\"dataframe\">\n",
       "  <thead>\n",
       "    <tr style=\"text-align: right;\">\n",
       "      <th></th>\n",
       "      <th>Track</th>\n",
       "      <th>Track Score</th>\n",
       "      <th>Spotify Popularity</th>\n",
       "      <th>Spotify Playlist Count</th>\n",
       "      <th>YouTube Likes</th>\n",
       "      <th>TikTok Likes</th>\n",
       "      <th>Pandora Track Stations</th>\n",
       "      <th>Apple Music Playlist Count</th>\n",
       "      <th>Deezer Playlist Count</th>\n",
       "      <th>Amazon Playlist Count</th>\n",
       "    </tr>\n",
       "  </thead>\n",
       "  <tbody>\n",
       "    <tr>\n",
       "      <th>1</th>\n",
       "      <td>Not Like Us</td>\n",
       "      <td>545.9</td>\n",
       "      <td>92.0</td>\n",
       "      <td>28113</td>\n",
       "      <td>3486739.0</td>\n",
       "      <td>35223547.0</td>\n",
       "      <td>28444.0</td>\n",
       "      <td>188.0</td>\n",
       "      <td>67.0</td>\n",
       "      <td>111.0</td>\n",
       "    </tr>\n",
       "    <tr>\n",
       "      <th>4</th>\n",
       "      <td>Houdini</td>\n",
       "      <td>423.3</td>\n",
       "      <td>88.0</td>\n",
       "      <td>7223</td>\n",
       "      <td>3670188.0</td>\n",
       "      <td>12703314.5</td>\n",
       "      <td>7006.0</td>\n",
       "      <td>182.0</td>\n",
       "      <td>82.0</td>\n",
       "      <td>105.0</td>\n",
       "    </tr>\n",
       "    <tr>\n",
       "      <th>6</th>\n",
       "      <td>Beautiful Things</td>\n",
       "      <td>407.2</td>\n",
       "      <td>86.0</td>\n",
       "      <td>73118</td>\n",
       "      <td>4120760.0</td>\n",
       "      <td>29584940.0</td>\n",
       "      <td>57372.0</td>\n",
       "      <td>280.0</td>\n",
       "      <td>168.0</td>\n",
       "      <td>154.0</td>\n",
       "    </tr>\n",
       "    <tr>\n",
       "      <th>8</th>\n",
       "      <td>Danza Kuduro - Cover</td>\n",
       "      <td>355.7</td>\n",
       "      <td>NaN</td>\n",
       "      <td>1</td>\n",
       "      <td>1072084.5</td>\n",
       "      <td>12703314.5</td>\n",
       "      <td>0.0</td>\n",
       "      <td>28.0</td>\n",
       "      <td>15.0</td>\n",
       "      <td>17.0</td>\n",
       "    </tr>\n",
       "    <tr>\n",
       "      <th>10</th>\n",
       "      <td>I Had Some Help (feat. Morgan Wallen)</td>\n",
       "      <td>322.1</td>\n",
       "      <td>91.0</td>\n",
       "      <td>16219</td>\n",
       "      <td>550191.0</td>\n",
       "      <td>184500.0</td>\n",
       "      <td>21172.0</td>\n",
       "      <td>157.0</td>\n",
       "      <td>60.0</td>\n",
       "      <td>114.0</td>\n",
       "    </tr>\n",
       "    <tr>\n",
       "      <th>...</th>\n",
       "      <td>...</td>\n",
       "      <td>...</td>\n",
       "      <td>...</td>\n",
       "      <td>...</td>\n",
       "      <td>...</td>\n",
       "      <td>...</td>\n",
       "      <td>...</td>\n",
       "      <td>...</td>\n",
       "      <td>...</td>\n",
       "      <td>...</td>\n",
       "    </tr>\n",
       "    <tr>\n",
       "      <th>234</th>\n",
       "      <td>Favorite Song</td>\n",
       "      <td>101.4</td>\n",
       "      <td>62.0</td>\n",
       "      <td>45668</td>\n",
       "      <td>1670867.0</td>\n",
       "      <td>11127302.0</td>\n",
       "      <td>71027.0</td>\n",
       "      <td>43.0</td>\n",
       "      <td>4.0</td>\n",
       "      <td>9.0</td>\n",
       "    </tr>\n",
       "    <tr>\n",
       "      <th>235</th>\n",
       "      <td>Si No Quieres No</td>\n",
       "      <td>101.4</td>\n",
       "      <td>85.0</td>\n",
       "      <td>5423</td>\n",
       "      <td>889014.0</td>\n",
       "      <td>14500.0</td>\n",
       "      <td>3601.0</td>\n",
       "      <td>34.0</td>\n",
       "      <td>8.0</td>\n",
       "      <td>15.0</td>\n",
       "    </tr>\n",
       "    <tr>\n",
       "      <th>236</th>\n",
       "      <td>Mele Kalikimaka</td>\n",
       "      <td>101.3</td>\n",
       "      <td>NaN</td>\n",
       "      <td>52</td>\n",
       "      <td>1072084.5</td>\n",
       "      <td>12703314.5</td>\n",
       "      <td>0.0</td>\n",
       "      <td>28.0</td>\n",
       "      <td>15.0</td>\n",
       "      <td>17.0</td>\n",
       "    </tr>\n",
       "    <tr>\n",
       "      <th>238</th>\n",
       "      <td>Voz Emplumada del Monte</td>\n",
       "      <td>100.3</td>\n",
       "      <td>16.0</td>\n",
       "      <td>80</td>\n",
       "      <td>2113492.0</td>\n",
       "      <td>12703314.5</td>\n",
       "      <td>0.0</td>\n",
       "      <td>28.0</td>\n",
       "      <td>15.0</td>\n",
       "      <td>17.0</td>\n",
       "    </tr>\n",
       "    <tr>\n",
       "      <th>239</th>\n",
       "      <td>Is It Over Now? (Taylor's Version) (From The V...</td>\n",
       "      <td>100.2</td>\n",
       "      <td>NaN</td>\n",
       "      <td>20404</td>\n",
       "      <td>266969.0</td>\n",
       "      <td>12641848.0</td>\n",
       "      <td>6762.0</td>\n",
       "      <td>38.0</td>\n",
       "      <td>27.0</td>\n",
       "      <td>38.0</td>\n",
       "    </tr>\n",
       "  </tbody>\n",
       "</table>\n",
       "<p>107 rows × 10 columns</p>\n",
       "</div>"
      ],
      "text/plain": [
       "                                                 Track  Track Score  \\\n",
       "1                                          Not Like Us        545.9   \n",
       "4                                              Houdini        423.3   \n",
       "6                                     Beautiful Things        407.2   \n",
       "8                                 Danza Kuduro - Cover        355.7   \n",
       "10               I Had Some Help (feat. Morgan Wallen)        322.1   \n",
       "..                                                 ...          ...   \n",
       "234                                      Favorite Song        101.4   \n",
       "235                                   Si No Quieres No        101.4   \n",
       "236                                    Mele Kalikimaka        101.3   \n",
       "238                            Voz Emplumada del Monte        100.3   \n",
       "239  Is It Over Now? (Taylor's Version) (From The V...        100.2   \n",
       "\n",
       "     Spotify Popularity  Spotify Playlist Count  YouTube Likes  TikTok Likes  \\\n",
       "1                  92.0                   28113      3486739.0    35223547.0   \n",
       "4                  88.0                    7223      3670188.0    12703314.5   \n",
       "6                  86.0                   73118      4120760.0    29584940.0   \n",
       "8                   NaN                       1      1072084.5    12703314.5   \n",
       "10                 91.0                   16219       550191.0      184500.0   \n",
       "..                  ...                     ...            ...           ...   \n",
       "234                62.0                   45668      1670867.0    11127302.0   \n",
       "235                85.0                    5423       889014.0       14500.0   \n",
       "236                 NaN                      52      1072084.5    12703314.5   \n",
       "238                16.0                      80      2113492.0    12703314.5   \n",
       "239                 NaN                   20404       266969.0    12641848.0   \n",
       "\n",
       "     Pandora Track Stations  Apple Music Playlist Count  \\\n",
       "1                   28444.0                       188.0   \n",
       "4                    7006.0                       182.0   \n",
       "6                   57372.0                       280.0   \n",
       "8                       0.0                        28.0   \n",
       "10                  21172.0                       157.0   \n",
       "..                      ...                         ...   \n",
       "234                 71027.0                        43.0   \n",
       "235                  3601.0                        34.0   \n",
       "236                     0.0                        28.0   \n",
       "238                     0.0                        28.0   \n",
       "239                  6762.0                        38.0   \n",
       "\n",
       "     Deezer Playlist Count  Amazon Playlist Count  \n",
       "1                     67.0                  111.0  \n",
       "4                     82.0                  105.0  \n",
       "6                    168.0                  154.0  \n",
       "8                     15.0                   17.0  \n",
       "10                    60.0                  114.0  \n",
       "..                     ...                    ...  \n",
       "234                    4.0                    9.0  \n",
       "235                    8.0                   15.0  \n",
       "236                   15.0                   17.0  \n",
       "238                   15.0                   17.0  \n",
       "239                   27.0                   38.0  \n",
       "\n",
       "[107 rows x 10 columns]"
      ]
     },
     "execution_count": 77,
     "metadata": {},
     "output_type": "execute_result"
    }
   ],
   "source": [
    "contribute_df[contribute_df['Track Score']>100]"
   ]
  },
  {
   "cell_type": "code",
   "execution_count": 79,
   "id": "a5151872-a722-4cf2-92ee-cb0844709acf",
   "metadata": {},
   "outputs": [
    {
     "data": {
      "text/html": [
       "<div>\n",
       "<style scoped>\n",
       "    .dataframe tbody tr th:only-of-type {\n",
       "        vertical-align: middle;\n",
       "    }\n",
       "\n",
       "    .dataframe tbody tr th {\n",
       "        vertical-align: top;\n",
       "    }\n",
       "\n",
       "    .dataframe thead th {\n",
       "        text-align: right;\n",
       "    }\n",
       "</style>\n",
       "<table border=\"1\" class=\"dataframe\">\n",
       "  <thead>\n",
       "    <tr style=\"text-align: right;\">\n",
       "      <th></th>\n",
       "      <th>Track</th>\n",
       "      <th>Track Score</th>\n",
       "      <th>Spotify Popularity</th>\n",
       "      <th>Category</th>\n",
       "      <th>Counts &amp; Likes</th>\n",
       "    </tr>\n",
       "  </thead>\n",
       "  <tbody>\n",
       "    <tr>\n",
       "      <th>0</th>\n",
       "      <td>Not Like Us</td>\n",
       "      <td>545.9</td>\n",
       "      <td>92.0</td>\n",
       "      <td>Spotify Playlist Count</td>\n",
       "      <td>28113.0</td>\n",
       "    </tr>\n",
       "    <tr>\n",
       "      <th>1</th>\n",
       "      <td>Houdini</td>\n",
       "      <td>423.3</td>\n",
       "      <td>88.0</td>\n",
       "      <td>Spotify Playlist Count</td>\n",
       "      <td>7223.0</td>\n",
       "    </tr>\n",
       "    <tr>\n",
       "      <th>2</th>\n",
       "      <td>Beautiful Things</td>\n",
       "      <td>407.2</td>\n",
       "      <td>86.0</td>\n",
       "      <td>Spotify Playlist Count</td>\n",
       "      <td>73118.0</td>\n",
       "    </tr>\n",
       "    <tr>\n",
       "      <th>3</th>\n",
       "      <td>Danza Kuduro - Cover</td>\n",
       "      <td>355.7</td>\n",
       "      <td>NaN</td>\n",
       "      <td>Spotify Playlist Count</td>\n",
       "      <td>1.0</td>\n",
       "    </tr>\n",
       "    <tr>\n",
       "      <th>4</th>\n",
       "      <td>I Had Some Help (feat. Morgan Wallen)</td>\n",
       "      <td>322.1</td>\n",
       "      <td>91.0</td>\n",
       "      <td>Spotify Playlist Count</td>\n",
       "      <td>16219.0</td>\n",
       "    </tr>\n",
       "    <tr>\n",
       "      <th>...</th>\n",
       "      <td>...</td>\n",
       "      <td>...</td>\n",
       "      <td>...</td>\n",
       "      <td>...</td>\n",
       "      <td>...</td>\n",
       "    </tr>\n",
       "    <tr>\n",
       "      <th>744</th>\n",
       "      <td>Favorite Song</td>\n",
       "      <td>101.4</td>\n",
       "      <td>62.0</td>\n",
       "      <td>Amazon Playlist Count</td>\n",
       "      <td>9.0</td>\n",
       "    </tr>\n",
       "    <tr>\n",
       "      <th>745</th>\n",
       "      <td>Si No Quieres No</td>\n",
       "      <td>101.4</td>\n",
       "      <td>85.0</td>\n",
       "      <td>Amazon Playlist Count</td>\n",
       "      <td>15.0</td>\n",
       "    </tr>\n",
       "    <tr>\n",
       "      <th>746</th>\n",
       "      <td>Mele Kalikimaka</td>\n",
       "      <td>101.3</td>\n",
       "      <td>NaN</td>\n",
       "      <td>Amazon Playlist Count</td>\n",
       "      <td>17.0</td>\n",
       "    </tr>\n",
       "    <tr>\n",
       "      <th>747</th>\n",
       "      <td>Voz Emplumada del Monte</td>\n",
       "      <td>100.3</td>\n",
       "      <td>16.0</td>\n",
       "      <td>Amazon Playlist Count</td>\n",
       "      <td>17.0</td>\n",
       "    </tr>\n",
       "    <tr>\n",
       "      <th>748</th>\n",
       "      <td>Is It Over Now? (Taylor's Version) (From The V...</td>\n",
       "      <td>100.2</td>\n",
       "      <td>NaN</td>\n",
       "      <td>Amazon Playlist Count</td>\n",
       "      <td>38.0</td>\n",
       "    </tr>\n",
       "  </tbody>\n",
       "</table>\n",
       "<p>749 rows × 5 columns</p>\n",
       "</div>"
      ],
      "text/plain": [
       "                                                 Track  Track Score  \\\n",
       "0                                          Not Like Us        545.9   \n",
       "1                                              Houdini        423.3   \n",
       "2                                     Beautiful Things        407.2   \n",
       "3                                 Danza Kuduro - Cover        355.7   \n",
       "4                I Had Some Help (feat. Morgan Wallen)        322.1   \n",
       "..                                                 ...          ...   \n",
       "744                                      Favorite Song        101.4   \n",
       "745                                   Si No Quieres No        101.4   \n",
       "746                                    Mele Kalikimaka        101.3   \n",
       "747                            Voz Emplumada del Monte        100.3   \n",
       "748  Is It Over Now? (Taylor's Version) (From The V...        100.2   \n",
       "\n",
       "     Spotify Popularity                Category  Counts & Likes  \n",
       "0                  92.0  Spotify Playlist Count         28113.0  \n",
       "1                  88.0  Spotify Playlist Count          7223.0  \n",
       "2                  86.0  Spotify Playlist Count         73118.0  \n",
       "3                   NaN  Spotify Playlist Count             1.0  \n",
       "4                  91.0  Spotify Playlist Count         16219.0  \n",
       "..                  ...                     ...             ...  \n",
       "744                62.0   Amazon Playlist Count             9.0  \n",
       "745                85.0   Amazon Playlist Count            15.0  \n",
       "746                 NaN   Amazon Playlist Count            17.0  \n",
       "747                16.0   Amazon Playlist Count            17.0  \n",
       "748                 NaN   Amazon Playlist Count            38.0  \n",
       "\n",
       "[749 rows x 5 columns]"
      ]
     },
     "execution_count": 79,
     "metadata": {},
     "output_type": "execute_result"
    }
   ],
   "source": [
    "df_melted = contribute_df[contribute_df['Track Score']>100].melt(id_vars=[\"Track\", 'Track Score','Spotify Popularity'], var_name=\"Category\", value_name=\"Counts & Likes\")\n",
    "df_melted"
   ]
  },
  {
   "cell_type": "code",
   "execution_count": 87,
   "id": "b2c3f5b9-a012-4479-97a6-80700939281a",
   "metadata": {},
   "outputs": [],
   "source": [
    "df_filtered = df_melted[(df_melted['Counts & Likes'] > 0)]"
   ]
  },
  {
   "cell_type": "code",
   "execution_count": 93,
   "id": "b8118efb-6411-425c-bfb1-03d05f9e8f3d",
   "metadata": {},
   "outputs": [],
   "source": [
    "df_filtered = df_filtered[df_filtered['Spotify Popularity'].notnull()]"
   ]
  },
  {
   "cell_type": "code",
   "execution_count": 131,
   "id": "84555750-95f7-4f20-ab85-978a090be578",
   "metadata": {},
   "outputs": [],
   "source": [
    "df_filtered.to_csv('EDA-Treemap.csv',index=False)"
   ]
  },
  {
   "cell_type": "code",
   "execution_count": 135,
   "id": "39591b02-1dad-489f-84c7-6fc34c1a03d7",
   "metadata": {},
   "outputs": [
    {
     "data": {
      "application/vnd.plotly.v1+json": {
       "config": {
        "plotlyServerURL": "https://plot.ly"
       },
       "data": [
        {
         "branchvalues": "total",
         "customdata": [
          [
           16
          ],
          [
           73
          ],
          [
           62
          ],
          [
           85
          ],
          [
           77
          ],
          [
           79
          ],
          [
           69
          ],
          [
           12
          ],
          [
           62
          ],
          [
           77
          ],
          [
           68
          ],
          [
           28
          ],
          [
           78
          ],
          [
           80
          ],
          [
           87
          ],
          [
           83
          ],
          [
           87
          ],
          [
           78
          ],
          [
           19
          ],
          [
           79
          ],
          [
           86
          ],
          [
           75
          ],
          [
           83
          ],
          [
           78
          ],
          [
           80
          ],
          [
           71
          ],
          [
           82
          ],
          [
           85
          ],
          [
           2
          ],
          [
           86
          ],
          [
           81
          ],
          [
           78
          ],
          [
           1
          ],
          [
           84
          ],
          [
           3
          ],
          [
           74
          ],
          [
           16
          ],
          [
           78
          ],
          [
           1
          ],
          [
           40
          ],
          [
           86
          ],
          [
           87
          ],
          [
           1
          ],
          [
           80
          ],
          [
           85
          ],
          [
           74
          ],
          [
           84
          ],
          [
           76
          ],
          [
           43
          ],
          [
           83
          ],
          [
           86
          ],
          [
           74
          ],
          [
           90
          ],
          [
           78
          ],
          [
           4
          ],
          [
           6
          ],
          [
           84
          ],
          [
           9
          ],
          [
           13
          ],
          [
           77
          ],
          [
           25
          ],
          [
           86
          ],
          [
           80
          ],
          [
           83
          ],
          [
           83
          ],
          [
           87
          ],
          [
           96
          ],
          [
           82
          ],
          [
           87
          ],
          [
           89
          ],
          [
           12
          ],
          [
           88
          ],
          [
           92
          ],
          [
           91
          ],
          [
           86
          ],
          [
           88
          ],
          [
           92
          ],
          [
           16
          ],
          [
           73
          ],
          [
           62
          ],
          [
           85
          ],
          [
           77
          ],
          [
           79
          ],
          [
           69
          ],
          [
           12
          ],
          [
           62
          ],
          [
           77
          ],
          [
           68
          ],
          [
           28
          ],
          [
           78
          ],
          [
           80
          ],
          [
           87
          ],
          [
           83
          ],
          [
           87
          ],
          [
           78
          ],
          [
           19
          ],
          [
           79
          ],
          [
           86
          ],
          [
           75
          ],
          [
           83
          ],
          [
           78
          ],
          [
           80
          ],
          [
           71
          ],
          [
           82
          ],
          [
           85
          ],
          [
           2
          ],
          [
           86
          ],
          [
           81
          ],
          [
           78
          ],
          [
           1
          ],
          [
           84
          ],
          [
           3
          ],
          [
           74
          ],
          [
           16
          ],
          [
           78
          ],
          [
           1
          ],
          [
           40
          ],
          [
           86
          ],
          [
           87
          ],
          [
           1
          ],
          [
           80
          ],
          [
           85
          ],
          [
           74
          ],
          [
           84
          ],
          [
           76
          ],
          [
           43
          ],
          [
           83
          ],
          [
           86
          ],
          [
           74
          ],
          [
           90
          ],
          [
           78
          ],
          [
           4
          ],
          [
           6
          ],
          [
           84
          ],
          [
           9
          ],
          [
           13
          ],
          [
           77
          ],
          [
           25
          ],
          [
           86
          ],
          [
           80
          ],
          [
           83
          ],
          [
           83
          ],
          [
           87
          ],
          [
           96
          ],
          [
           82
          ],
          [
           87
          ],
          [
           89
          ],
          [
           12
          ],
          [
           88
          ],
          [
           92
          ],
          [
           91
          ],
          [
           86
          ],
          [
           88
          ],
          [
           92
          ],
          [
           16
          ],
          [
           73
          ],
          [
           62
          ],
          [
           85
          ],
          [
           77
          ],
          [
           79
          ],
          [
           69
          ],
          [
           12
          ],
          [
           62
          ],
          [
           77
          ],
          [
           68
          ],
          [
           28
          ],
          [
           78
          ],
          [
           80
          ],
          [
           87
          ],
          [
           83
          ],
          [
           87
          ],
          [
           78
          ],
          [
           19
          ],
          [
           79
          ],
          [
           86
          ],
          [
           75
          ],
          [
           83
          ],
          [
           78
          ],
          [
           80
          ],
          [
           71
          ],
          [
           82
          ],
          [
           85
          ],
          [
           2
          ],
          [
           86
          ],
          [
           81
          ],
          [
           78
          ],
          [
           1
          ],
          [
           84
          ],
          [
           3
          ],
          [
           74
          ],
          [
           16
          ],
          [
           78
          ],
          [
           1
          ],
          [
           40
          ],
          [
           86
          ],
          [
           87
          ],
          [
           1
          ],
          [
           80
          ],
          [
           85
          ],
          [
           74
          ],
          [
           84
          ],
          [
           76
          ],
          [
           43
          ],
          [
           83
          ],
          [
           86
          ],
          [
           74
          ],
          [
           90
          ],
          [
           78
          ],
          [
           4
          ],
          [
           6
          ],
          [
           84
          ],
          [
           9
          ],
          [
           13
          ],
          [
           77
          ],
          [
           25
          ],
          [
           86
          ],
          [
           80
          ],
          [
           83
          ],
          [
           83
          ],
          [
           87
          ],
          [
           96
          ],
          [
           82
          ],
          [
           87
          ],
          [
           89
          ],
          [
           12
          ],
          [
           88
          ],
          [
           92
          ],
          [
           91
          ],
          [
           86
          ],
          [
           88
          ],
          [
           92
          ],
          [
           73
          ],
          [
           62
          ],
          [
           85
          ],
          [
           77
          ],
          [
           79
          ],
          [
           69
          ],
          [
           12
          ],
          [
           62
          ],
          [
           77
          ],
          [
           68
          ],
          [
           78
          ],
          [
           87
          ],
          [
           83
          ],
          [
           87
          ],
          [
           78
          ],
          [
           19
          ],
          [
           79
          ],
          [
           86
          ],
          [
           75
          ],
          [
           83
          ],
          [
           78
          ],
          [
           80
          ],
          [
           71
          ],
          [
           82
          ],
          [
           85
          ],
          [
           86
          ],
          [
           81
          ],
          [
           78
          ],
          [
           84
          ],
          [
           78
          ],
          [
           40
          ],
          [
           86
          ],
          [
           87
          ],
          [
           80
          ],
          [
           85
          ],
          [
           74
          ],
          [
           84
          ],
          [
           76
          ],
          [
           83
          ],
          [
           86
          ],
          [
           74
          ],
          [
           90
          ],
          [
           78
          ],
          [
           84
          ],
          [
           9
          ],
          [
           77
          ],
          [
           86
          ],
          [
           80
          ],
          [
           83
          ],
          [
           83
          ],
          [
           87
          ],
          [
           96
          ],
          [
           82
          ],
          [
           87
          ],
          [
           89
          ],
          [
           88
          ],
          [
           92
          ],
          [
           91
          ],
          [
           86
          ],
          [
           88
          ],
          [
           92
          ],
          [
           16
          ],
          [
           73
          ],
          [
           62
          ],
          [
           85
          ],
          [
           77
          ],
          [
           79
          ],
          [
           69
          ],
          [
           12
          ],
          [
           62
          ],
          [
           77
          ],
          [
           68
          ],
          [
           28
          ],
          [
           78
          ],
          [
           80
          ],
          [
           87
          ],
          [
           83
          ],
          [
           87
          ],
          [
           78
          ],
          [
           19
          ],
          [
           79
          ],
          [
           86
          ],
          [
           75
          ],
          [
           83
          ],
          [
           78
          ],
          [
           80
          ],
          [
           71
          ],
          [
           82
          ],
          [
           85
          ],
          [
           2
          ],
          [
           86
          ],
          [
           81
          ],
          [
           78
          ],
          [
           1
          ],
          [
           84
          ],
          [
           3
          ],
          [
           74
          ],
          [
           16
          ],
          [
           78
          ],
          [
           1
          ],
          [
           40
          ],
          [
           86
          ],
          [
           87
          ],
          [
           1
          ],
          [
           80
          ],
          [
           85
          ],
          [
           74
          ],
          [
           84
          ],
          [
           76
          ],
          [
           43
          ],
          [
           83
          ],
          [
           86
          ],
          [
           74
          ],
          [
           90
          ],
          [
           78
          ],
          [
           4
          ],
          [
           6
          ],
          [
           84
          ],
          [
           9
          ],
          [
           13
          ],
          [
           77
          ],
          [
           25
          ],
          [
           86
          ],
          [
           80
          ],
          [
           83
          ],
          [
           83
          ],
          [
           87
          ],
          [
           96
          ],
          [
           82
          ],
          [
           87
          ],
          [
           89
          ],
          [
           12
          ],
          [
           88
          ],
          [
           92
          ],
          [
           91
          ],
          [
           86
          ],
          [
           88
          ],
          [
           92
          ],
          [
           16
          ],
          [
           73
          ],
          [
           62
          ],
          [
           85
          ],
          [
           77
          ],
          [
           79
          ],
          [
           69
          ],
          [
           12
          ],
          [
           62
          ],
          [
           77
          ],
          [
           68
          ],
          [
           28
          ],
          [
           78
          ],
          [
           80
          ],
          [
           87
          ],
          [
           83
          ],
          [
           87
          ],
          [
           78
          ],
          [
           19
          ],
          [
           79
          ],
          [
           86
          ],
          [
           75
          ],
          [
           83
          ],
          [
           78
          ],
          [
           80
          ],
          [
           71
          ],
          [
           82
          ],
          [
           85
          ],
          [
           2
          ],
          [
           86
          ],
          [
           81
          ],
          [
           78
          ],
          [
           1
          ],
          [
           84
          ],
          [
           3
          ],
          [
           74
          ],
          [
           16
          ],
          [
           78
          ],
          [
           1
          ],
          [
           40
          ],
          [
           86
          ],
          [
           87
          ],
          [
           1
          ],
          [
           80
          ],
          [
           85
          ],
          [
           74
          ],
          [
           84
          ],
          [
           76
          ],
          [
           43
          ],
          [
           83
          ],
          [
           86
          ],
          [
           74
          ],
          [
           90
          ],
          [
           78
          ],
          [
           4
          ],
          [
           6
          ],
          [
           84
          ],
          [
           9
          ],
          [
           13
          ],
          [
           77
          ],
          [
           25
          ],
          [
           86
          ],
          [
           80
          ],
          [
           83
          ],
          [
           83
          ],
          [
           87
          ],
          [
           96
          ],
          [
           82
          ],
          [
           87
          ],
          [
           89
          ],
          [
           12
          ],
          [
           88
          ],
          [
           92
          ],
          [
           91
          ],
          [
           86
          ],
          [
           88
          ],
          [
           92
          ],
          [
           16
          ],
          [
           73
          ],
          [
           62
          ],
          [
           85
          ],
          [
           77
          ],
          [
           79
          ],
          [
           69
          ],
          [
           12
          ],
          [
           62
          ],
          [
           77
          ],
          [
           68
          ],
          [
           28
          ],
          [
           78
          ],
          [
           80
          ],
          [
           87
          ],
          [
           83
          ],
          [
           87
          ],
          [
           78
          ],
          [
           19
          ],
          [
           79
          ],
          [
           86
          ],
          [
           75
          ],
          [
           83
          ],
          [
           78
          ],
          [
           80
          ],
          [
           71
          ],
          [
           82
          ],
          [
           85
          ],
          [
           2
          ],
          [
           86
          ],
          [
           81
          ],
          [
           78
          ],
          [
           1
          ],
          [
           84
          ],
          [
           3
          ],
          [
           74
          ],
          [
           16
          ],
          [
           78
          ],
          [
           1
          ],
          [
           40
          ],
          [
           86
          ],
          [
           87
          ],
          [
           1
          ],
          [
           80
          ],
          [
           85
          ],
          [
           74
          ],
          [
           84
          ],
          [
           76
          ],
          [
           43
          ],
          [
           83
          ],
          [
           86
          ],
          [
           74
          ],
          [
           90
          ],
          [
           78
          ],
          [
           4
          ],
          [
           6
          ],
          [
           84
          ],
          [
           9
          ],
          [
           13
          ],
          [
           77
          ],
          [
           25
          ],
          [
           86
          ],
          [
           80
          ],
          [
           83
          ],
          [
           83
          ],
          [
           87
          ],
          [
           96
          ],
          [
           82
          ],
          [
           87
          ],
          [
           89
          ],
          [
           12
          ],
          [
           88
          ],
          [
           92
          ],
          [
           91
          ],
          [
           86
          ],
          [
           88
          ],
          [
           92
          ],
          [
           16
          ],
          [
           73
          ],
          [
           62
          ],
          [
           85
          ],
          [
           77
          ],
          [
           79
          ],
          [
           69
          ],
          [
           12
          ],
          [
           62
          ],
          [
           77
          ],
          [
           68
          ],
          [
           28
          ],
          [
           78
          ],
          [
           80
          ],
          [
           87
          ],
          [
           83
          ],
          [
           87
          ],
          [
           78
          ],
          [
           19
          ],
          [
           79
          ],
          [
           86
          ],
          [
           75
          ],
          [
           83
          ],
          [
           78
          ],
          [
           80
          ],
          [
           71
          ],
          [
           82
          ],
          [
           85
          ],
          [
           2
          ],
          [
           86
          ],
          [
           81
          ],
          [
           78
          ],
          [
           1
          ],
          [
           84
          ],
          [
           3
          ],
          [
           74
          ],
          [
           16
          ],
          [
           78
          ],
          [
           1
          ],
          [
           39.99999999999999
          ],
          [
           86
          ],
          [
           87
          ],
          [
           1
          ],
          [
           80
          ],
          [
           85
          ],
          [
           74
          ],
          [
           84
          ],
          [
           76
          ],
          [
           43
          ],
          [
           83
          ],
          [
           86
          ],
          [
           74
          ],
          [
           90
          ],
          [
           78
          ],
          [
           4
          ],
          [
           6
          ],
          [
           84
          ],
          [
           9
          ],
          [
           13
          ],
          [
           77
          ],
          [
           25
          ],
          [
           86
          ],
          [
           80
          ],
          [
           83
          ],
          [
           83
          ],
          [
           87
          ],
          [
           96
          ],
          [
           82
          ],
          [
           87
          ],
          [
           89
          ],
          [
           12
          ],
          [
           88
          ],
          [
           92
          ],
          [
           91
          ],
          [
           86
          ],
          [
           88
          ],
          [
           92
          ],
          [
           96
          ],
          [
           1
          ],
          [
           2
          ],
          [
           74
          ],
          [
           6
          ],
          [
           3
          ],
          [
           86
          ],
          [
           80
          ],
          [
           84
          ],
          [
           90
          ],
          [
           77
          ],
          [
           74
          ],
          [
           80
          ],
          [
           73
          ],
          [
           16
          ],
          [
           78
          ],
          [
           74
          ],
          [
           71
          ],
          [
           86
          ],
          [
           86
          ],
          [
           62
          ],
          [
           89
          ],
          [
           1
          ],
          [
           75
          ],
          [
           82.42860748851184
          ],
          [
           79
          ],
          [
           84
          ],
          [
           91
          ],
          [
           83
          ],
          [
           12
          ],
          [
           68
          ],
          [
           86
          ],
          [
           92
          ],
          [
           83
          ],
          [
           43
          ],
          [
           88
          ],
          [
           87
          ],
          [
           1
          ],
          [
           78
          ],
          [
           78
          ],
          [
           86
          ],
          [
           28
          ],
          [
           13
          ],
          [
           92
          ],
          [
           78
          ],
          [
           83
          ],
          [
           62
          ],
          [
           25
          ],
          [
           85
          ],
          [
           83
          ],
          [
           82
          ],
          [
           82
          ],
          [
           81
          ],
          [
           87
          ],
          [
           39.99999999999999
          ],
          [
           79
          ],
          [
           78
          ],
          [
           85
          ],
          [
           87
          ],
          [
           9
          ],
          [
           77
          ],
          [
           78
          ],
          [
           4
          ],
          [
           19
          ],
          [
           85
          ],
          [
           76
          ],
          [
           84
          ],
          [
           69
          ],
          [
           80
          ],
          [
           16
          ],
          [
           83
          ],
          [
           87
          ],
          [
           12
          ],
          [
           86
          ],
          [
           77
          ],
          [
           87
          ]
         ],
         "domain": {
          "x": [
           0,
           1
          ],
          "y": [
           0,
           1
          ]
         },
         "hovertemplate": "labels=%{label}<br>Counts & Likes=%{value}<br>parent=%{parent}<br>id=%{id}<br>Spotify Popularity=%{color}<extra></extra>",
         "ids": [
          "Voz Emplumada del Monte/100.3/Amazon Playlist Count",
          "Con Calma/101.4/Amazon Playlist Count",
          "Favorite Song/101.4/Amazon Playlist Count",
          "Si No Quieres No/101.4/Amazon Playlist Count",
          "rockstar (feat. 21 Savage)/101.8/Amazon Playlist Count",
          "How Sweet/102.3/Amazon Playlist Count",
          "Used To Be Young/102.4/Amazon Playlist Count",
          "Illusion/103.1/Amazon Playlist Count",
          "Panda/104.2/Amazon Playlist Count",
          "Superhero (Heroes & Villains)/104.4/Amazon Playlist Count",
          "KING KONG/104.5/Amazon Playlist Count",
          "Milf Song/104.5/Amazon Playlist Count",
          "Shallow/106.9/Amazon Playlist Count",
          "Vois sur ton chemin - Techno Mix/107.8/Amazon Playlist Count",
          "Whatever She Wants/108.4/Amazon Playlist Count",
          "Whatever/109.0/Amazon Playlist Count",
          "Stargazing/109.8/Amazon Playlist Count",
          "Ojitos Lindos/110.7/Amazon Playlist Count",
          "This Wish - From \"Wish\"/110.9/Amazon Playlist Count",
          "Segï¿½ï¿½n Qu/111.8/Amazon Playlist Count",
          "LUNA/112.6/Amazon Playlist Count",
          "Havana (feat. Young Thug)/112.8/Amazon Playlist Count",
          "PERRO NEGRO/114.2/Amazon Playlist Count",
          "EL AMOR DE SU VIDA/115.9/Amazon Playlist Count",
          "Circles/116.0/Amazon Playlist Count",
          "Eyes Closed/116.6/Amazon Playlist Count",
          "QLONA/120.7/Amazon Playlist Count",
          "Too Sweet/121.2/Amazon Playlist Count",
          "Again/122.5/Amazon Playlist Count",
          "Family Matters/122.7/Amazon Playlist Count",
          "SPOT!/122.8/Amazon Playlist Count",
          "Lucid Dreams/123.9/Amazon Playlist Count",
          "Abc/126.6/Amazon Playlist Count",
          "I Don't Wanna Wait/126.9/Amazon Playlist Count",
          "Back/128.0/Amazon Playlist Count",
          "Casca de Bala/128.5/Amazon Playlist Count",
          "Drained of Color/134.0/Amazon Playlist Count",
          "MI EX TENï¿½ï¿½A RA/136.2/Amazon Playlist Count",
          "Losing Interest - Original Mix/136.4/Amazon Playlist Count",
          "Save Your Tears - Live/137.7/Amazon Playlist Count",
          "FE!N/137.8/Amazon Playlist Count",
          "Saturn/142.8/Amazon Playlist Count",
          "Hands/143.9/Amazon Playlist Count",
          "Bling-Bang-Bang-Born/144.0/Amazon Playlist Count",
          "Pedro/144.6/Amazon Playlist Count",
          "Armageddon/147.4/Amazon Playlist Count",
          "Type Shit/148.1/Amazon Playlist Count",
          "Training Season/148.9/Amazon Playlist Count",
          "Laxed (Siren Beat)/150.5/Amazon Playlist Count",
          "La Diabla/155.9/Amazon Playlist Count",
          "Magnetic/161.0/Amazon Playlist Count",
          "Ella Baila Sola/166.5/Amazon Playlist Count",
          "CHIHIRO/167.8/Amazon Playlist Count",
          "TQG/167.8/Amazon Playlist Count",
          "The Way We Move - Extended Mix/173.6/Amazon Playlist Count",
          "Babba/176.2/Amazon Playlist Count",
          "CARNIVAL/179.6/Amazon Playlist Count",
          "Stereo Love - Melodic/187.9/Amazon Playlist Count",
          "Mitu/194.3/Amazon Playlist Count",
          "Calm Down (with Selena Gomez)/198.0/Amazon Playlist Count",
          "Panda Basi/200.3/Amazon Playlist Count",
          "euphoria/202.1/Amazon Playlist Count",
          "Houdini/205.1/Amazon Playlist Count",
          "Please Please Please/205.7/Amazon Playlist Count",
          "I'm Good (Blue)/209.6/Amazon Playlist Count",
          "Lose Control/224.1/Amazon Playlist Count",
          "A Bar Song (Tipsy)/226.4/Amazon Playlist Count",
          "SHEESH/237.5/Amazon Playlist Count",
          "we can't be friends (wait for your love)/262.8/Amazon Playlist Count",
          "Fortnight (feat. Post Malone)/297.6/Amazon Playlist Count",
          "bathroom floor/301.6/Amazon Playlist Count",
          "Like That/308.2/Amazon Playlist Count",
          "LUNCH/316.3/Amazon Playlist Count",
          "I Had Some Help (feat. Morgan Wallen)/322.1/Amazon Playlist Count",
          "Beautiful Things/407.2/Amazon Playlist Count",
          "Houdini/423.3/Amazon Playlist Count",
          "Not Like Us/545.9/Amazon Playlist Count",
          "Voz Emplumada del Monte/100.3/Apple Music Playlist Count",
          "Con Calma/101.4/Apple Music Playlist Count",
          "Favorite Song/101.4/Apple Music Playlist Count",
          "Si No Quieres No/101.4/Apple Music Playlist Count",
          "rockstar (feat. 21 Savage)/101.8/Apple Music Playlist Count",
          "How Sweet/102.3/Apple Music Playlist Count",
          "Used To Be Young/102.4/Apple Music Playlist Count",
          "Illusion/103.1/Apple Music Playlist Count",
          "Panda/104.2/Apple Music Playlist Count",
          "Superhero (Heroes & Villains)/104.4/Apple Music Playlist Count",
          "KING KONG/104.5/Apple Music Playlist Count",
          "Milf Song/104.5/Apple Music Playlist Count",
          "Shallow/106.9/Apple Music Playlist Count",
          "Vois sur ton chemin - Techno Mix/107.8/Apple Music Playlist Count",
          "Whatever She Wants/108.4/Apple Music Playlist Count",
          "Whatever/109.0/Apple Music Playlist Count",
          "Stargazing/109.8/Apple Music Playlist Count",
          "Ojitos Lindos/110.7/Apple Music Playlist Count",
          "This Wish - From \"Wish\"/110.9/Apple Music Playlist Count",
          "Segï¿½ï¿½n Qu/111.8/Apple Music Playlist Count",
          "LUNA/112.6/Apple Music Playlist Count",
          "Havana (feat. Young Thug)/112.8/Apple Music Playlist Count",
          "PERRO NEGRO/114.2/Apple Music Playlist Count",
          "EL AMOR DE SU VIDA/115.9/Apple Music Playlist Count",
          "Circles/116.0/Apple Music Playlist Count",
          "Eyes Closed/116.6/Apple Music Playlist Count",
          "QLONA/120.7/Apple Music Playlist Count",
          "Too Sweet/121.2/Apple Music Playlist Count",
          "Again/122.5/Apple Music Playlist Count",
          "Family Matters/122.7/Apple Music Playlist Count",
          "SPOT!/122.8/Apple Music Playlist Count",
          "Lucid Dreams/123.9/Apple Music Playlist Count",
          "Abc/126.6/Apple Music Playlist Count",
          "I Don't Wanna Wait/126.9/Apple Music Playlist Count",
          "Back/128.0/Apple Music Playlist Count",
          "Casca de Bala/128.5/Apple Music Playlist Count",
          "Drained of Color/134.0/Apple Music Playlist Count",
          "MI EX TENï¿½ï¿½A RA/136.2/Apple Music Playlist Count",
          "Losing Interest - Original Mix/136.4/Apple Music Playlist Count",
          "Save Your Tears - Live/137.7/Apple Music Playlist Count",
          "FE!N/137.8/Apple Music Playlist Count",
          "Saturn/142.8/Apple Music Playlist Count",
          "Hands/143.9/Apple Music Playlist Count",
          "Bling-Bang-Bang-Born/144.0/Apple Music Playlist Count",
          "Pedro/144.6/Apple Music Playlist Count",
          "Armageddon/147.4/Apple Music Playlist Count",
          "Type Shit/148.1/Apple Music Playlist Count",
          "Training Season/148.9/Apple Music Playlist Count",
          "Laxed (Siren Beat)/150.5/Apple Music Playlist Count",
          "La Diabla/155.9/Apple Music Playlist Count",
          "Magnetic/161.0/Apple Music Playlist Count",
          "Ella Baila Sola/166.5/Apple Music Playlist Count",
          "CHIHIRO/167.8/Apple Music Playlist Count",
          "TQG/167.8/Apple Music Playlist Count",
          "The Way We Move - Extended Mix/173.6/Apple Music Playlist Count",
          "Babba/176.2/Apple Music Playlist Count",
          "CARNIVAL/179.6/Apple Music Playlist Count",
          "Stereo Love - Melodic/187.9/Apple Music Playlist Count",
          "Mitu/194.3/Apple Music Playlist Count",
          "Calm Down (with Selena Gomez)/198.0/Apple Music Playlist Count",
          "Panda Basi/200.3/Apple Music Playlist Count",
          "euphoria/202.1/Apple Music Playlist Count",
          "Houdini/205.1/Apple Music Playlist Count",
          "Please Please Please/205.7/Apple Music Playlist Count",
          "I'm Good (Blue)/209.6/Apple Music Playlist Count",
          "Lose Control/224.1/Apple Music Playlist Count",
          "A Bar Song (Tipsy)/226.4/Apple Music Playlist Count",
          "SHEESH/237.5/Apple Music Playlist Count",
          "we can't be friends (wait for your love)/262.8/Apple Music Playlist Count",
          "Fortnight (feat. Post Malone)/297.6/Apple Music Playlist Count",
          "bathroom floor/301.6/Apple Music Playlist Count",
          "Like That/308.2/Apple Music Playlist Count",
          "LUNCH/316.3/Apple Music Playlist Count",
          "I Had Some Help (feat. Morgan Wallen)/322.1/Apple Music Playlist Count",
          "Beautiful Things/407.2/Apple Music Playlist Count",
          "Houdini/423.3/Apple Music Playlist Count",
          "Not Like Us/545.9/Apple Music Playlist Count",
          "Voz Emplumada del Monte/100.3/Deezer Playlist Count",
          "Con Calma/101.4/Deezer Playlist Count",
          "Favorite Song/101.4/Deezer Playlist Count",
          "Si No Quieres No/101.4/Deezer Playlist Count",
          "rockstar (feat. 21 Savage)/101.8/Deezer Playlist Count",
          "How Sweet/102.3/Deezer Playlist Count",
          "Used To Be Young/102.4/Deezer Playlist Count",
          "Illusion/103.1/Deezer Playlist Count",
          "Panda/104.2/Deezer Playlist Count",
          "Superhero (Heroes & Villains)/104.4/Deezer Playlist Count",
          "KING KONG/104.5/Deezer Playlist Count",
          "Milf Song/104.5/Deezer Playlist Count",
          "Shallow/106.9/Deezer Playlist Count",
          "Vois sur ton chemin - Techno Mix/107.8/Deezer Playlist Count",
          "Whatever She Wants/108.4/Deezer Playlist Count",
          "Whatever/109.0/Deezer Playlist Count",
          "Stargazing/109.8/Deezer Playlist Count",
          "Ojitos Lindos/110.7/Deezer Playlist Count",
          "This Wish - From \"Wish\"/110.9/Deezer Playlist Count",
          "Segï¿½ï¿½n Qu/111.8/Deezer Playlist Count",
          "LUNA/112.6/Deezer Playlist Count",
          "Havana (feat. Young Thug)/112.8/Deezer Playlist Count",
          "PERRO NEGRO/114.2/Deezer Playlist Count",
          "EL AMOR DE SU VIDA/115.9/Deezer Playlist Count",
          "Circles/116.0/Deezer Playlist Count",
          "Eyes Closed/116.6/Deezer Playlist Count",
          "QLONA/120.7/Deezer Playlist Count",
          "Too Sweet/121.2/Deezer Playlist Count",
          "Again/122.5/Deezer Playlist Count",
          "Family Matters/122.7/Deezer Playlist Count",
          "SPOT!/122.8/Deezer Playlist Count",
          "Lucid Dreams/123.9/Deezer Playlist Count",
          "Abc/126.6/Deezer Playlist Count",
          "I Don't Wanna Wait/126.9/Deezer Playlist Count",
          "Back/128.0/Deezer Playlist Count",
          "Casca de Bala/128.5/Deezer Playlist Count",
          "Drained of Color/134.0/Deezer Playlist Count",
          "MI EX TENï¿½ï¿½A RA/136.2/Deezer Playlist Count",
          "Losing Interest - Original Mix/136.4/Deezer Playlist Count",
          "Save Your Tears - Live/137.7/Deezer Playlist Count",
          "FE!N/137.8/Deezer Playlist Count",
          "Saturn/142.8/Deezer Playlist Count",
          "Hands/143.9/Deezer Playlist Count",
          "Bling-Bang-Bang-Born/144.0/Deezer Playlist Count",
          "Pedro/144.6/Deezer Playlist Count",
          "Armageddon/147.4/Deezer Playlist Count",
          "Type Shit/148.1/Deezer Playlist Count",
          "Training Season/148.9/Deezer Playlist Count",
          "Laxed (Siren Beat)/150.5/Deezer Playlist Count",
          "La Diabla/155.9/Deezer Playlist Count",
          "Magnetic/161.0/Deezer Playlist Count",
          "Ella Baila Sola/166.5/Deezer Playlist Count",
          "CHIHIRO/167.8/Deezer Playlist Count",
          "TQG/167.8/Deezer Playlist Count",
          "The Way We Move - Extended Mix/173.6/Deezer Playlist Count",
          "Babba/176.2/Deezer Playlist Count",
          "CARNIVAL/179.6/Deezer Playlist Count",
          "Stereo Love - Melodic/187.9/Deezer Playlist Count",
          "Mitu/194.3/Deezer Playlist Count",
          "Calm Down (with Selena Gomez)/198.0/Deezer Playlist Count",
          "Panda Basi/200.3/Deezer Playlist Count",
          "euphoria/202.1/Deezer Playlist Count",
          "Houdini/205.1/Deezer Playlist Count",
          "Please Please Please/205.7/Deezer Playlist Count",
          "I'm Good (Blue)/209.6/Deezer Playlist Count",
          "Lose Control/224.1/Deezer Playlist Count",
          "A Bar Song (Tipsy)/226.4/Deezer Playlist Count",
          "SHEESH/237.5/Deezer Playlist Count",
          "we can't be friends (wait for your love)/262.8/Deezer Playlist Count",
          "Fortnight (feat. Post Malone)/297.6/Deezer Playlist Count",
          "bathroom floor/301.6/Deezer Playlist Count",
          "Like That/308.2/Deezer Playlist Count",
          "LUNCH/316.3/Deezer Playlist Count",
          "I Had Some Help (feat. Morgan Wallen)/322.1/Deezer Playlist Count",
          "Beautiful Things/407.2/Deezer Playlist Count",
          "Houdini/423.3/Deezer Playlist Count",
          "Not Like Us/545.9/Deezer Playlist Count",
          "Con Calma/101.4/Pandora Track Stations",
          "Favorite Song/101.4/Pandora Track Stations",
          "Si No Quieres No/101.4/Pandora Track Stations",
          "rockstar (feat. 21 Savage)/101.8/Pandora Track Stations",
          "How Sweet/102.3/Pandora Track Stations",
          "Used To Be Young/102.4/Pandora Track Stations",
          "Illusion/103.1/Pandora Track Stations",
          "Panda/104.2/Pandora Track Stations",
          "Superhero (Heroes & Villains)/104.4/Pandora Track Stations",
          "KING KONG/104.5/Pandora Track Stations",
          "Shallow/106.9/Pandora Track Stations",
          "Whatever She Wants/108.4/Pandora Track Stations",
          "Whatever/109.0/Pandora Track Stations",
          "Stargazing/109.8/Pandora Track Stations",
          "Ojitos Lindos/110.7/Pandora Track Stations",
          "This Wish - From \"Wish\"/110.9/Pandora Track Stations",
          "Segï¿½ï¿½n Qu/111.8/Pandora Track Stations",
          "LUNA/112.6/Pandora Track Stations",
          "Havana (feat. Young Thug)/112.8/Pandora Track Stations",
          "PERRO NEGRO/114.2/Pandora Track Stations",
          "EL AMOR DE SU VIDA/115.9/Pandora Track Stations",
          "Circles/116.0/Pandora Track Stations",
          "Eyes Closed/116.6/Pandora Track Stations",
          "QLONA/120.7/Pandora Track Stations",
          "Too Sweet/121.2/Pandora Track Stations",
          "Family Matters/122.7/Pandora Track Stations",
          "SPOT!/122.8/Pandora Track Stations",
          "Lucid Dreams/123.9/Pandora Track Stations",
          "I Don't Wanna Wait/126.9/Pandora Track Stations",
          "MI EX TENï¿½ï¿½A RA/136.2/Pandora Track Stations",
          "Save Your Tears - Live/137.7/Pandora Track Stations",
          "FE!N/137.8/Pandora Track Stations",
          "Saturn/142.8/Pandora Track Stations",
          "Bling-Bang-Bang-Born/144.0/Pandora Track Stations",
          "Pedro/144.6/Pandora Track Stations",
          "Armageddon/147.4/Pandora Track Stations",
          "Type Shit/148.1/Pandora Track Stations",
          "Training Season/148.9/Pandora Track Stations",
          "La Diabla/155.9/Pandora Track Stations",
          "Magnetic/161.0/Pandora Track Stations",
          "Ella Baila Sola/166.5/Pandora Track Stations",
          "CHIHIRO/167.8/Pandora Track Stations",
          "TQG/167.8/Pandora Track Stations",
          "CARNIVAL/179.6/Pandora Track Stations",
          "Stereo Love - Melodic/187.9/Pandora Track Stations",
          "Calm Down (with Selena Gomez)/198.0/Pandora Track Stations",
          "euphoria/202.1/Pandora Track Stations",
          "Houdini/205.1/Pandora Track Stations",
          "Please Please Please/205.7/Pandora Track Stations",
          "I'm Good (Blue)/209.6/Pandora Track Stations",
          "Lose Control/224.1/Pandora Track Stations",
          "A Bar Song (Tipsy)/226.4/Pandora Track Stations",
          "SHEESH/237.5/Pandora Track Stations",
          "we can't be friends (wait for your love)/262.8/Pandora Track Stations",
          "Fortnight (feat. Post Malone)/297.6/Pandora Track Stations",
          "Like That/308.2/Pandora Track Stations",
          "LUNCH/316.3/Pandora Track Stations",
          "I Had Some Help (feat. Morgan Wallen)/322.1/Pandora Track Stations",
          "Beautiful Things/407.2/Pandora Track Stations",
          "Houdini/423.3/Pandora Track Stations",
          "Not Like Us/545.9/Pandora Track Stations",
          "Voz Emplumada del Monte/100.3/Spotify Playlist Count",
          "Con Calma/101.4/Spotify Playlist Count",
          "Favorite Song/101.4/Spotify Playlist Count",
          "Si No Quieres No/101.4/Spotify Playlist Count",
          "rockstar (feat. 21 Savage)/101.8/Spotify Playlist Count",
          "How Sweet/102.3/Spotify Playlist Count",
          "Used To Be Young/102.4/Spotify Playlist Count",
          "Illusion/103.1/Spotify Playlist Count",
          "Panda/104.2/Spotify Playlist Count",
          "Superhero (Heroes & Villains)/104.4/Spotify Playlist Count",
          "KING KONG/104.5/Spotify Playlist Count",
          "Milf Song/104.5/Spotify Playlist Count",
          "Shallow/106.9/Spotify Playlist Count",
          "Vois sur ton chemin - Techno Mix/107.8/Spotify Playlist Count",
          "Whatever She Wants/108.4/Spotify Playlist Count",
          "Whatever/109.0/Spotify Playlist Count",
          "Stargazing/109.8/Spotify Playlist Count",
          "Ojitos Lindos/110.7/Spotify Playlist Count",
          "This Wish - From \"Wish\"/110.9/Spotify Playlist Count",
          "Segï¿½ï¿½n Qu/111.8/Spotify Playlist Count",
          "LUNA/112.6/Spotify Playlist Count",
          "Havana (feat. Young Thug)/112.8/Spotify Playlist Count",
          "PERRO NEGRO/114.2/Spotify Playlist Count",
          "EL AMOR DE SU VIDA/115.9/Spotify Playlist Count",
          "Circles/116.0/Spotify Playlist Count",
          "Eyes Closed/116.6/Spotify Playlist Count",
          "QLONA/120.7/Spotify Playlist Count",
          "Too Sweet/121.2/Spotify Playlist Count",
          "Again/122.5/Spotify Playlist Count",
          "Family Matters/122.7/Spotify Playlist Count",
          "SPOT!/122.8/Spotify Playlist Count",
          "Lucid Dreams/123.9/Spotify Playlist Count",
          "Abc/126.6/Spotify Playlist Count",
          "I Don't Wanna Wait/126.9/Spotify Playlist Count",
          "Back/128.0/Spotify Playlist Count",
          "Casca de Bala/128.5/Spotify Playlist Count",
          "Drained of Color/134.0/Spotify Playlist Count",
          "MI EX TENï¿½ï¿½A RA/136.2/Spotify Playlist Count",
          "Losing Interest - Original Mix/136.4/Spotify Playlist Count",
          "Save Your Tears - Live/137.7/Spotify Playlist Count",
          "FE!N/137.8/Spotify Playlist Count",
          "Saturn/142.8/Spotify Playlist Count",
          "Hands/143.9/Spotify Playlist Count",
          "Bling-Bang-Bang-Born/144.0/Spotify Playlist Count",
          "Pedro/144.6/Spotify Playlist Count",
          "Armageddon/147.4/Spotify Playlist Count",
          "Type Shit/148.1/Spotify Playlist Count",
          "Training Season/148.9/Spotify Playlist Count",
          "Laxed (Siren Beat)/150.5/Spotify Playlist Count",
          "La Diabla/155.9/Spotify Playlist Count",
          "Magnetic/161.0/Spotify Playlist Count",
          "Ella Baila Sola/166.5/Spotify Playlist Count",
          "CHIHIRO/167.8/Spotify Playlist Count",
          "TQG/167.8/Spotify Playlist Count",
          "The Way We Move - Extended Mix/173.6/Spotify Playlist Count",
          "Babba/176.2/Spotify Playlist Count",
          "CARNIVAL/179.6/Spotify Playlist Count",
          "Stereo Love - Melodic/187.9/Spotify Playlist Count",
          "Mitu/194.3/Spotify Playlist Count",
          "Calm Down (with Selena Gomez)/198.0/Spotify Playlist Count",
          "Panda Basi/200.3/Spotify Playlist Count",
          "euphoria/202.1/Spotify Playlist Count",
          "Houdini/205.1/Spotify Playlist Count",
          "Please Please Please/205.7/Spotify Playlist Count",
          "I'm Good (Blue)/209.6/Spotify Playlist Count",
          "Lose Control/224.1/Spotify Playlist Count",
          "A Bar Song (Tipsy)/226.4/Spotify Playlist Count",
          "SHEESH/237.5/Spotify Playlist Count",
          "we can't be friends (wait for your love)/262.8/Spotify Playlist Count",
          "Fortnight (feat. Post Malone)/297.6/Spotify Playlist Count",
          "bathroom floor/301.6/Spotify Playlist Count",
          "Like That/308.2/Spotify Playlist Count",
          "LUNCH/316.3/Spotify Playlist Count",
          "I Had Some Help (feat. Morgan Wallen)/322.1/Spotify Playlist Count",
          "Beautiful Things/407.2/Spotify Playlist Count",
          "Houdini/423.3/Spotify Playlist Count",
          "Not Like Us/545.9/Spotify Playlist Count",
          "Voz Emplumada del Monte/100.3/TikTok Likes",
          "Con Calma/101.4/TikTok Likes",
          "Favorite Song/101.4/TikTok Likes",
          "Si No Quieres No/101.4/TikTok Likes",
          "rockstar (feat. 21 Savage)/101.8/TikTok Likes",
          "How Sweet/102.3/TikTok Likes",
          "Used To Be Young/102.4/TikTok Likes",
          "Illusion/103.1/TikTok Likes",
          "Panda/104.2/TikTok Likes",
          "Superhero (Heroes & Villains)/104.4/TikTok Likes",
          "KING KONG/104.5/TikTok Likes",
          "Milf Song/104.5/TikTok Likes",
          "Shallow/106.9/TikTok Likes",
          "Vois sur ton chemin - Techno Mix/107.8/TikTok Likes",
          "Whatever She Wants/108.4/TikTok Likes",
          "Whatever/109.0/TikTok Likes",
          "Stargazing/109.8/TikTok Likes",
          "Ojitos Lindos/110.7/TikTok Likes",
          "This Wish - From \"Wish\"/110.9/TikTok Likes",
          "Segï¿½ï¿½n Qu/111.8/TikTok Likes",
          "LUNA/112.6/TikTok Likes",
          "Havana (feat. Young Thug)/112.8/TikTok Likes",
          "PERRO NEGRO/114.2/TikTok Likes",
          "EL AMOR DE SU VIDA/115.9/TikTok Likes",
          "Circles/116.0/TikTok Likes",
          "Eyes Closed/116.6/TikTok Likes",
          "QLONA/120.7/TikTok Likes",
          "Too Sweet/121.2/TikTok Likes",
          "Again/122.5/TikTok Likes",
          "Family Matters/122.7/TikTok Likes",
          "SPOT!/122.8/TikTok Likes",
          "Lucid Dreams/123.9/TikTok Likes",
          "Abc/126.6/TikTok Likes",
          "I Don't Wanna Wait/126.9/TikTok Likes",
          "Back/128.0/TikTok Likes",
          "Casca de Bala/128.5/TikTok Likes",
          "Drained of Color/134.0/TikTok Likes",
          "MI EX TENï¿½ï¿½A RA/136.2/TikTok Likes",
          "Losing Interest - Original Mix/136.4/TikTok Likes",
          "Save Your Tears - Live/137.7/TikTok Likes",
          "FE!N/137.8/TikTok Likes",
          "Saturn/142.8/TikTok Likes",
          "Hands/143.9/TikTok Likes",
          "Bling-Bang-Bang-Born/144.0/TikTok Likes",
          "Pedro/144.6/TikTok Likes",
          "Armageddon/147.4/TikTok Likes",
          "Type Shit/148.1/TikTok Likes",
          "Training Season/148.9/TikTok Likes",
          "Laxed (Siren Beat)/150.5/TikTok Likes",
          "La Diabla/155.9/TikTok Likes",
          "Magnetic/161.0/TikTok Likes",
          "Ella Baila Sola/166.5/TikTok Likes",
          "CHIHIRO/167.8/TikTok Likes",
          "TQG/167.8/TikTok Likes",
          "The Way We Move - Extended Mix/173.6/TikTok Likes",
          "Babba/176.2/TikTok Likes",
          "CARNIVAL/179.6/TikTok Likes",
          "Stereo Love - Melodic/187.9/TikTok Likes",
          "Mitu/194.3/TikTok Likes",
          "Calm Down (with Selena Gomez)/198.0/TikTok Likes",
          "Panda Basi/200.3/TikTok Likes",
          "euphoria/202.1/TikTok Likes",
          "Houdini/205.1/TikTok Likes",
          "Please Please Please/205.7/TikTok Likes",
          "I'm Good (Blue)/209.6/TikTok Likes",
          "Lose Control/224.1/TikTok Likes",
          "A Bar Song (Tipsy)/226.4/TikTok Likes",
          "SHEESH/237.5/TikTok Likes",
          "we can't be friends (wait for your love)/262.8/TikTok Likes",
          "Fortnight (feat. Post Malone)/297.6/TikTok Likes",
          "bathroom floor/301.6/TikTok Likes",
          "Like That/308.2/TikTok Likes",
          "LUNCH/316.3/TikTok Likes",
          "I Had Some Help (feat. Morgan Wallen)/322.1/TikTok Likes",
          "Beautiful Things/407.2/TikTok Likes",
          "Houdini/423.3/TikTok Likes",
          "Not Like Us/545.9/TikTok Likes",
          "Voz Emplumada del Monte/100.3/YouTube Likes",
          "Con Calma/101.4/YouTube Likes",
          "Favorite Song/101.4/YouTube Likes",
          "Si No Quieres No/101.4/YouTube Likes",
          "rockstar (feat. 21 Savage)/101.8/YouTube Likes",
          "How Sweet/102.3/YouTube Likes",
          "Used To Be Young/102.4/YouTube Likes",
          "Illusion/103.1/YouTube Likes",
          "Panda/104.2/YouTube Likes",
          "Superhero (Heroes & Villains)/104.4/YouTube Likes",
          "KING KONG/104.5/YouTube Likes",
          "Milf Song/104.5/YouTube Likes",
          "Shallow/106.9/YouTube Likes",
          "Vois sur ton chemin - Techno Mix/107.8/YouTube Likes",
          "Whatever She Wants/108.4/YouTube Likes",
          "Whatever/109.0/YouTube Likes",
          "Stargazing/109.8/YouTube Likes",
          "Ojitos Lindos/110.7/YouTube Likes",
          "This Wish - From \"Wish\"/110.9/YouTube Likes",
          "Segï¿½ï¿½n Qu/111.8/YouTube Likes",
          "LUNA/112.6/YouTube Likes",
          "Havana (feat. Young Thug)/112.8/YouTube Likes",
          "PERRO NEGRO/114.2/YouTube Likes",
          "EL AMOR DE SU VIDA/115.9/YouTube Likes",
          "Circles/116.0/YouTube Likes",
          "Eyes Closed/116.6/YouTube Likes",
          "QLONA/120.7/YouTube Likes",
          "Too Sweet/121.2/YouTube Likes",
          "Again/122.5/YouTube Likes",
          "Family Matters/122.7/YouTube Likes",
          "SPOT!/122.8/YouTube Likes",
          "Lucid Dreams/123.9/YouTube Likes",
          "Abc/126.6/YouTube Likes",
          "I Don't Wanna Wait/126.9/YouTube Likes",
          "Back/128.0/YouTube Likes",
          "Casca de Bala/128.5/YouTube Likes",
          "Drained of Color/134.0/YouTube Likes",
          "MI EX TENï¿½ï¿½A RA/136.2/YouTube Likes",
          "Losing Interest - Original Mix/136.4/YouTube Likes",
          "Save Your Tears - Live/137.7/YouTube Likes",
          "FE!N/137.8/YouTube Likes",
          "Saturn/142.8/YouTube Likes",
          "Hands/143.9/YouTube Likes",
          "Bling-Bang-Bang-Born/144.0/YouTube Likes",
          "Pedro/144.6/YouTube Likes",
          "Armageddon/147.4/YouTube Likes",
          "Type Shit/148.1/YouTube Likes",
          "Training Season/148.9/YouTube Likes",
          "Laxed (Siren Beat)/150.5/YouTube Likes",
          "La Diabla/155.9/YouTube Likes",
          "Magnetic/161.0/YouTube Likes",
          "Ella Baila Sola/166.5/YouTube Likes",
          "CHIHIRO/167.8/YouTube Likes",
          "TQG/167.8/YouTube Likes",
          "The Way We Move - Extended Mix/173.6/YouTube Likes",
          "Babba/176.2/YouTube Likes",
          "CARNIVAL/179.6/YouTube Likes",
          "Stereo Love - Melodic/187.9/YouTube Likes",
          "Mitu/194.3/YouTube Likes",
          "Calm Down (with Selena Gomez)/198.0/YouTube Likes",
          "Panda Basi/200.3/YouTube Likes",
          "euphoria/202.1/YouTube Likes",
          "Houdini/205.1/YouTube Likes",
          "Please Please Please/205.7/YouTube Likes",
          "I'm Good (Blue)/209.6/YouTube Likes",
          "Lose Control/224.1/YouTube Likes",
          "A Bar Song (Tipsy)/226.4/YouTube Likes",
          "SHEESH/237.5/YouTube Likes",
          "we can't be friends (wait for your love)/262.8/YouTube Likes",
          "Fortnight (feat. Post Malone)/297.6/YouTube Likes",
          "bathroom floor/301.6/YouTube Likes",
          "Like That/308.2/YouTube Likes",
          "LUNCH/316.3/YouTube Likes",
          "I Had Some Help (feat. Morgan Wallen)/322.1/YouTube Likes",
          "Beautiful Things/407.2/YouTube Likes",
          "Houdini/423.3/YouTube Likes",
          "Not Like Us/545.9/YouTube Likes",
          "Voz Emplumada del Monte/100.3",
          "Con Calma/101.4",
          "Favorite Song/101.4",
          "Si No Quieres No/101.4",
          "rockstar (feat. 21 Savage)/101.8",
          "How Sweet/102.3",
          "Used To Be Young/102.4",
          "Illusion/103.1",
          "Panda/104.2",
          "Superhero (Heroes & Villains)/104.4",
          "KING KONG/104.5",
          "Milf Song/104.5",
          "Shallow/106.9",
          "Vois sur ton chemin - Techno Mix/107.8",
          "Whatever She Wants/108.4",
          "Whatever/109.0",
          "Stargazing/109.8",
          "Ojitos Lindos/110.7",
          "This Wish - From \"Wish\"/110.9",
          "Segï¿½ï¿½n Qu/111.8",
          "LUNA/112.6",
          "Havana (feat. Young Thug)/112.8",
          "PERRO NEGRO/114.2",
          "EL AMOR DE SU VIDA/115.9",
          "Circles/116.0",
          "Eyes Closed/116.6",
          "QLONA/120.7",
          "Too Sweet/121.2",
          "Again/122.5",
          "Family Matters/122.7",
          "SPOT!/122.8",
          "Lucid Dreams/123.9",
          "Abc/126.6",
          "I Don't Wanna Wait/126.9",
          "Back/128.0",
          "Casca de Bala/128.5",
          "Drained of Color/134.0",
          "MI EX TENï¿½ï¿½A RA/136.2",
          "Losing Interest - Original Mix/136.4",
          "Save Your Tears - Live/137.7",
          "FE!N/137.8",
          "Saturn/142.8",
          "Hands/143.9",
          "Bling-Bang-Bang-Born/144.0",
          "Pedro/144.6",
          "Armageddon/147.4",
          "Type Shit/148.1",
          "Training Season/148.9",
          "Laxed (Siren Beat)/150.5",
          "La Diabla/155.9",
          "Magnetic/161.0",
          "Ella Baila Sola/166.5",
          "CHIHIRO/167.8",
          "TQG/167.8",
          "The Way We Move - Extended Mix/173.6",
          "Babba/176.2",
          "CARNIVAL/179.6",
          "Stereo Love - Melodic/187.9",
          "Mitu/194.3",
          "Calm Down (with Selena Gomez)/198.0",
          "Panda Basi/200.3",
          "euphoria/202.1",
          "Houdini/205.1",
          "Please Please Please/205.7",
          "I'm Good (Blue)/209.6",
          "Lose Control/224.1",
          "A Bar Song (Tipsy)/226.4",
          "SHEESH/237.5",
          "we can't be friends (wait for your love)/262.8",
          "Fortnight (feat. Post Malone)/297.6",
          "bathroom floor/301.6",
          "Like That/308.2",
          "LUNCH/316.3",
          "I Had Some Help (feat. Morgan Wallen)/322.1",
          "Beautiful Things/407.2",
          "Houdini/423.3",
          "Not Like Us/545.9",
          "A Bar Song (Tipsy)",
          "Abc",
          "Again",
          "Armageddon",
          "Babba",
          "Back",
          "Beautiful Things",
          "Bling-Bang-Bang-Born",
          "CARNIVAL",
          "CHIHIRO",
          "Calm Down (with Selena Gomez)",
          "Casca de Bala",
          "Circles",
          "Con Calma",
          "Drained of Color",
          "EL AMOR DE SU VIDA",
          "Ella Baila Sola",
          "Eyes Closed",
          "FE!N",
          "Family Matters",
          "Favorite Song",
          "Fortnight (feat. Post Malone)",
          "Hands",
          "Havana (feat. Young Thug)",
          "Houdini",
          "How Sweet",
          "I Don't Wanna Wait",
          "I Had Some Help (feat. Morgan Wallen)",
          "I'm Good (Blue)",
          "Illusion",
          "KING KONG",
          "LUNA",
          "LUNCH",
          "La Diabla",
          "Laxed (Siren Beat)",
          "Like That",
          "Lose Control",
          "Losing Interest - Original Mix",
          "Lucid Dreams",
          "MI EX TENï¿½ï¿½A RA",
          "Magnetic",
          "Milf Song",
          "Mitu",
          "Not Like Us",
          "Ojitos Lindos",
          "PERRO NEGRO",
          "Panda",
          "Panda Basi",
          "Pedro",
          "Please Please Please",
          "QLONA",
          "SHEESH",
          "SPOT!",
          "Saturn",
          "Save Your Tears - Live",
          "Segï¿½ï¿½n Qu",
          "Shallow",
          "Si No Quieres No",
          "Stargazing",
          "Stereo Love - Melodic",
          "Superhero (Heroes & Villains)",
          "TQG",
          "The Way We Move - Extended Mix",
          "This Wish - From \"Wish\"",
          "Too Sweet",
          "Training Season",
          "Type Shit",
          "Used To Be Young",
          "Vois sur ton chemin - Techno Mix",
          "Voz Emplumada del Monte",
          "Whatever",
          "Whatever She Wants",
          "bathroom floor",
          "euphoria",
          "rockstar (feat. 21 Savage)",
          "we can't be friends (wait for your love)"
         ],
         "labels": [
          "Amazon Playlist Count",
          "Amazon Playlist Count",
          "Amazon Playlist Count",
          "Amazon Playlist Count",
          "Amazon Playlist Count",
          "Amazon Playlist Count",
          "Amazon Playlist Count",
          "Amazon Playlist Count",
          "Amazon Playlist Count",
          "Amazon Playlist Count",
          "Amazon Playlist Count",
          "Amazon Playlist Count",
          "Amazon Playlist Count",
          "Amazon Playlist Count",
          "Amazon Playlist Count",
          "Amazon Playlist Count",
          "Amazon Playlist Count",
          "Amazon Playlist Count",
          "Amazon Playlist Count",
          "Amazon Playlist Count",
          "Amazon Playlist Count",
          "Amazon Playlist Count",
          "Amazon Playlist Count",
          "Amazon Playlist Count",
          "Amazon Playlist Count",
          "Amazon Playlist Count",
          "Amazon Playlist Count",
          "Amazon Playlist Count",
          "Amazon Playlist Count",
          "Amazon Playlist Count",
          "Amazon Playlist Count",
          "Amazon Playlist Count",
          "Amazon Playlist Count",
          "Amazon Playlist Count",
          "Amazon Playlist Count",
          "Amazon Playlist Count",
          "Amazon Playlist Count",
          "Amazon Playlist Count",
          "Amazon Playlist Count",
          "Amazon Playlist Count",
          "Amazon Playlist Count",
          "Amazon Playlist Count",
          "Amazon Playlist Count",
          "Amazon Playlist Count",
          "Amazon Playlist Count",
          "Amazon Playlist Count",
          "Amazon Playlist Count",
          "Amazon Playlist Count",
          "Amazon Playlist Count",
          "Amazon Playlist Count",
          "Amazon Playlist Count",
          "Amazon Playlist Count",
          "Amazon Playlist Count",
          "Amazon Playlist Count",
          "Amazon Playlist Count",
          "Amazon Playlist Count",
          "Amazon Playlist Count",
          "Amazon Playlist Count",
          "Amazon Playlist Count",
          "Amazon Playlist Count",
          "Amazon Playlist Count",
          "Amazon Playlist Count",
          "Amazon Playlist Count",
          "Amazon Playlist Count",
          "Amazon Playlist Count",
          "Amazon Playlist Count",
          "Amazon Playlist Count",
          "Amazon Playlist Count",
          "Amazon Playlist Count",
          "Amazon Playlist Count",
          "Amazon Playlist Count",
          "Amazon Playlist Count",
          "Amazon Playlist Count",
          "Amazon Playlist Count",
          "Amazon Playlist Count",
          "Amazon Playlist Count",
          "Amazon Playlist Count",
          "Apple Music Playlist Count",
          "Apple Music Playlist Count",
          "Apple Music Playlist Count",
          "Apple Music Playlist Count",
          "Apple Music Playlist Count",
          "Apple Music Playlist Count",
          "Apple Music Playlist Count",
          "Apple Music Playlist Count",
          "Apple Music Playlist Count",
          "Apple Music Playlist Count",
          "Apple Music Playlist Count",
          "Apple Music Playlist Count",
          "Apple Music Playlist Count",
          "Apple Music Playlist Count",
          "Apple Music Playlist Count",
          "Apple Music Playlist Count",
          "Apple Music Playlist Count",
          "Apple Music Playlist Count",
          "Apple Music Playlist Count",
          "Apple Music Playlist Count",
          "Apple Music Playlist Count",
          "Apple Music Playlist Count",
          "Apple Music Playlist Count",
          "Apple Music Playlist Count",
          "Apple Music Playlist Count",
          "Apple Music Playlist Count",
          "Apple Music Playlist Count",
          "Apple Music Playlist Count",
          "Apple Music Playlist Count",
          "Apple Music Playlist Count",
          "Apple Music Playlist Count",
          "Apple Music Playlist Count",
          "Apple Music Playlist Count",
          "Apple Music Playlist Count",
          "Apple Music Playlist Count",
          "Apple Music Playlist Count",
          "Apple Music Playlist Count",
          "Apple Music Playlist Count",
          "Apple Music Playlist Count",
          "Apple Music Playlist Count",
          "Apple Music Playlist Count",
          "Apple Music Playlist Count",
          "Apple Music Playlist Count",
          "Apple Music Playlist Count",
          "Apple Music Playlist Count",
          "Apple Music Playlist Count",
          "Apple Music Playlist Count",
          "Apple Music Playlist Count",
          "Apple Music Playlist Count",
          "Apple Music Playlist Count",
          "Apple Music Playlist Count",
          "Apple Music Playlist Count",
          "Apple Music Playlist Count",
          "Apple Music Playlist Count",
          "Apple Music Playlist Count",
          "Apple Music Playlist Count",
          "Apple Music Playlist Count",
          "Apple Music Playlist Count",
          "Apple Music Playlist Count",
          "Apple Music Playlist Count",
          "Apple Music Playlist Count",
          "Apple Music Playlist Count",
          "Apple Music Playlist Count",
          "Apple Music Playlist Count",
          "Apple Music Playlist Count",
          "Apple Music Playlist Count",
          "Apple Music Playlist Count",
          "Apple Music Playlist Count",
          "Apple Music Playlist Count",
          "Apple Music Playlist Count",
          "Apple Music Playlist Count",
          "Apple Music Playlist Count",
          "Apple Music Playlist Count",
          "Apple Music Playlist Count",
          "Apple Music Playlist Count",
          "Apple Music Playlist Count",
          "Apple Music Playlist Count",
          "Deezer Playlist Count",
          "Deezer Playlist Count",
          "Deezer Playlist Count",
          "Deezer Playlist Count",
          "Deezer Playlist Count",
          "Deezer Playlist Count",
          "Deezer Playlist Count",
          "Deezer Playlist Count",
          "Deezer Playlist Count",
          "Deezer Playlist Count",
          "Deezer Playlist Count",
          "Deezer Playlist Count",
          "Deezer Playlist Count",
          "Deezer Playlist Count",
          "Deezer Playlist Count",
          "Deezer Playlist Count",
          "Deezer Playlist Count",
          "Deezer Playlist Count",
          "Deezer Playlist Count",
          "Deezer Playlist Count",
          "Deezer Playlist Count",
          "Deezer Playlist Count",
          "Deezer Playlist Count",
          "Deezer Playlist Count",
          "Deezer Playlist Count",
          "Deezer Playlist Count",
          "Deezer Playlist Count",
          "Deezer Playlist Count",
          "Deezer Playlist Count",
          "Deezer Playlist Count",
          "Deezer Playlist Count",
          "Deezer Playlist Count",
          "Deezer Playlist Count",
          "Deezer Playlist Count",
          "Deezer Playlist Count",
          "Deezer Playlist Count",
          "Deezer Playlist Count",
          "Deezer Playlist Count",
          "Deezer Playlist Count",
          "Deezer Playlist Count",
          "Deezer Playlist Count",
          "Deezer Playlist Count",
          "Deezer Playlist Count",
          "Deezer Playlist Count",
          "Deezer Playlist Count",
          "Deezer Playlist Count",
          "Deezer Playlist Count",
          "Deezer Playlist Count",
          "Deezer Playlist Count",
          "Deezer Playlist Count",
          "Deezer Playlist Count",
          "Deezer Playlist Count",
          "Deezer Playlist Count",
          "Deezer Playlist Count",
          "Deezer Playlist Count",
          "Deezer Playlist Count",
          "Deezer Playlist Count",
          "Deezer Playlist Count",
          "Deezer Playlist Count",
          "Deezer Playlist Count",
          "Deezer Playlist Count",
          "Deezer Playlist Count",
          "Deezer Playlist Count",
          "Deezer Playlist Count",
          "Deezer Playlist Count",
          "Deezer Playlist Count",
          "Deezer Playlist Count",
          "Deezer Playlist Count",
          "Deezer Playlist Count",
          "Deezer Playlist Count",
          "Deezer Playlist Count",
          "Deezer Playlist Count",
          "Deezer Playlist Count",
          "Deezer Playlist Count",
          "Deezer Playlist Count",
          "Deezer Playlist Count",
          "Deezer Playlist Count",
          "Pandora Track Stations",
          "Pandora Track Stations",
          "Pandora Track Stations",
          "Pandora Track Stations",
          "Pandora Track Stations",
          "Pandora Track Stations",
          "Pandora Track Stations",
          "Pandora Track Stations",
          "Pandora Track Stations",
          "Pandora Track Stations",
          "Pandora Track Stations",
          "Pandora Track Stations",
          "Pandora Track Stations",
          "Pandora Track Stations",
          "Pandora Track Stations",
          "Pandora Track Stations",
          "Pandora Track Stations",
          "Pandora Track Stations",
          "Pandora Track Stations",
          "Pandora Track Stations",
          "Pandora Track Stations",
          "Pandora Track Stations",
          "Pandora Track Stations",
          "Pandora Track Stations",
          "Pandora Track Stations",
          "Pandora Track Stations",
          "Pandora Track Stations",
          "Pandora Track Stations",
          "Pandora Track Stations",
          "Pandora Track Stations",
          "Pandora Track Stations",
          "Pandora Track Stations",
          "Pandora Track Stations",
          "Pandora Track Stations",
          "Pandora Track Stations",
          "Pandora Track Stations",
          "Pandora Track Stations",
          "Pandora Track Stations",
          "Pandora Track Stations",
          "Pandora Track Stations",
          "Pandora Track Stations",
          "Pandora Track Stations",
          "Pandora Track Stations",
          "Pandora Track Stations",
          "Pandora Track Stations",
          "Pandora Track Stations",
          "Pandora Track Stations",
          "Pandora Track Stations",
          "Pandora Track Stations",
          "Pandora Track Stations",
          "Pandora Track Stations",
          "Pandora Track Stations",
          "Pandora Track Stations",
          "Pandora Track Stations",
          "Pandora Track Stations",
          "Pandora Track Stations",
          "Pandora Track Stations",
          "Pandora Track Stations",
          "Pandora Track Stations",
          "Pandora Track Stations",
          "Pandora Track Stations",
          "Spotify Playlist Count",
          "Spotify Playlist Count",
          "Spotify Playlist Count",
          "Spotify Playlist Count",
          "Spotify Playlist Count",
          "Spotify Playlist Count",
          "Spotify Playlist Count",
          "Spotify Playlist Count",
          "Spotify Playlist Count",
          "Spotify Playlist Count",
          "Spotify Playlist Count",
          "Spotify Playlist Count",
          "Spotify Playlist Count",
          "Spotify Playlist Count",
          "Spotify Playlist Count",
          "Spotify Playlist Count",
          "Spotify Playlist Count",
          "Spotify Playlist Count",
          "Spotify Playlist Count",
          "Spotify Playlist Count",
          "Spotify Playlist Count",
          "Spotify Playlist Count",
          "Spotify Playlist Count",
          "Spotify Playlist Count",
          "Spotify Playlist Count",
          "Spotify Playlist Count",
          "Spotify Playlist Count",
          "Spotify Playlist Count",
          "Spotify Playlist Count",
          "Spotify Playlist Count",
          "Spotify Playlist Count",
          "Spotify Playlist Count",
          "Spotify Playlist Count",
          "Spotify Playlist Count",
          "Spotify Playlist Count",
          "Spotify Playlist Count",
          "Spotify Playlist Count",
          "Spotify Playlist Count",
          "Spotify Playlist Count",
          "Spotify Playlist Count",
          "Spotify Playlist Count",
          "Spotify Playlist Count",
          "Spotify Playlist Count",
          "Spotify Playlist Count",
          "Spotify Playlist Count",
          "Spotify Playlist Count",
          "Spotify Playlist Count",
          "Spotify Playlist Count",
          "Spotify Playlist Count",
          "Spotify Playlist Count",
          "Spotify Playlist Count",
          "Spotify Playlist Count",
          "Spotify Playlist Count",
          "Spotify Playlist Count",
          "Spotify Playlist Count",
          "Spotify Playlist Count",
          "Spotify Playlist Count",
          "Spotify Playlist Count",
          "Spotify Playlist Count",
          "Spotify Playlist Count",
          "Spotify Playlist Count",
          "Spotify Playlist Count",
          "Spotify Playlist Count",
          "Spotify Playlist Count",
          "Spotify Playlist Count",
          "Spotify Playlist Count",
          "Spotify Playlist Count",
          "Spotify Playlist Count",
          "Spotify Playlist Count",
          "Spotify Playlist Count",
          "Spotify Playlist Count",
          "Spotify Playlist Count",
          "Spotify Playlist Count",
          "Spotify Playlist Count",
          "Spotify Playlist Count",
          "Spotify Playlist Count",
          "Spotify Playlist Count",
          "TikTok Likes",
          "TikTok Likes",
          "TikTok Likes",
          "TikTok Likes",
          "TikTok Likes",
          "TikTok Likes",
          "TikTok Likes",
          "TikTok Likes",
          "TikTok Likes",
          "TikTok Likes",
          "TikTok Likes",
          "TikTok Likes",
          "TikTok Likes",
          "TikTok Likes",
          "TikTok Likes",
          "TikTok Likes",
          "TikTok Likes",
          "TikTok Likes",
          "TikTok Likes",
          "TikTok Likes",
          "TikTok Likes",
          "TikTok Likes",
          "TikTok Likes",
          "TikTok Likes",
          "TikTok Likes",
          "TikTok Likes",
          "TikTok Likes",
          "TikTok Likes",
          "TikTok Likes",
          "TikTok Likes",
          "TikTok Likes",
          "TikTok Likes",
          "TikTok Likes",
          "TikTok Likes",
          "TikTok Likes",
          "TikTok Likes",
          "TikTok Likes",
          "TikTok Likes",
          "TikTok Likes",
          "TikTok Likes",
          "TikTok Likes",
          "TikTok Likes",
          "TikTok Likes",
          "TikTok Likes",
          "TikTok Likes",
          "TikTok Likes",
          "TikTok Likes",
          "TikTok Likes",
          "TikTok Likes",
          "TikTok Likes",
          "TikTok Likes",
          "TikTok Likes",
          "TikTok Likes",
          "TikTok Likes",
          "TikTok Likes",
          "TikTok Likes",
          "TikTok Likes",
          "TikTok Likes",
          "TikTok Likes",
          "TikTok Likes",
          "TikTok Likes",
          "TikTok Likes",
          "TikTok Likes",
          "TikTok Likes",
          "TikTok Likes",
          "TikTok Likes",
          "TikTok Likes",
          "TikTok Likes",
          "TikTok Likes",
          "TikTok Likes",
          "TikTok Likes",
          "TikTok Likes",
          "TikTok Likes",
          "TikTok Likes",
          "TikTok Likes",
          "TikTok Likes",
          "TikTok Likes",
          "YouTube Likes",
          "YouTube Likes",
          "YouTube Likes",
          "YouTube Likes",
          "YouTube Likes",
          "YouTube Likes",
          "YouTube Likes",
          "YouTube Likes",
          "YouTube Likes",
          "YouTube Likes",
          "YouTube Likes",
          "YouTube Likes",
          "YouTube Likes",
          "YouTube Likes",
          "YouTube Likes",
          "YouTube Likes",
          "YouTube Likes",
          "YouTube Likes",
          "YouTube Likes",
          "YouTube Likes",
          "YouTube Likes",
          "YouTube Likes",
          "YouTube Likes",
          "YouTube Likes",
          "YouTube Likes",
          "YouTube Likes",
          "YouTube Likes",
          "YouTube Likes",
          "YouTube Likes",
          "YouTube Likes",
          "YouTube Likes",
          "YouTube Likes",
          "YouTube Likes",
          "YouTube Likes",
          "YouTube Likes",
          "YouTube Likes",
          "YouTube Likes",
          "YouTube Likes",
          "YouTube Likes",
          "YouTube Likes",
          "YouTube Likes",
          "YouTube Likes",
          "YouTube Likes",
          "YouTube Likes",
          "YouTube Likes",
          "YouTube Likes",
          "YouTube Likes",
          "YouTube Likes",
          "YouTube Likes",
          "YouTube Likes",
          "YouTube Likes",
          "YouTube Likes",
          "YouTube Likes",
          "YouTube Likes",
          "YouTube Likes",
          "YouTube Likes",
          "YouTube Likes",
          "YouTube Likes",
          "YouTube Likes",
          "YouTube Likes",
          "YouTube Likes",
          "YouTube Likes",
          "YouTube Likes",
          "YouTube Likes",
          "YouTube Likes",
          "YouTube Likes",
          "YouTube Likes",
          "YouTube Likes",
          "YouTube Likes",
          "YouTube Likes",
          "YouTube Likes",
          "YouTube Likes",
          "YouTube Likes",
          "YouTube Likes",
          "YouTube Likes",
          "YouTube Likes",
          "YouTube Likes",
          "100.3",
          "101.4",
          "101.4",
          "101.4",
          "101.8",
          "102.3",
          "102.4",
          "103.1",
          "104.2",
          "104.4",
          "104.5",
          "104.5",
          "106.9",
          "107.8",
          "108.4",
          "109.0",
          "109.8",
          "110.7",
          "110.9",
          "111.8",
          "112.6",
          "112.8",
          "114.2",
          "115.9",
          "116.0",
          "116.6",
          "120.7",
          "121.2",
          "122.5",
          "122.7",
          "122.8",
          "123.9",
          "126.6",
          "126.9",
          "128.0",
          "128.5",
          "134.0",
          "136.2",
          "136.4",
          "137.7",
          "137.8",
          "142.8",
          "143.9",
          "144.0",
          "144.6",
          "147.4",
          "148.1",
          "148.9",
          "150.5",
          "155.9",
          "161.0",
          "166.5",
          "167.8",
          "167.8",
          "173.6",
          "176.2",
          "179.6",
          "187.9",
          "194.3",
          "198.0",
          "200.3",
          "202.1",
          "205.1",
          "205.7",
          "209.6",
          "224.1",
          "226.4",
          "237.5",
          "262.8",
          "297.6",
          "301.6",
          "308.2",
          "316.3",
          "322.1",
          "407.2",
          "423.3",
          "545.9",
          "A Bar Song (Tipsy)",
          "Abc",
          "Again",
          "Armageddon",
          "Babba",
          "Back",
          "Beautiful Things",
          "Bling-Bang-Bang-Born",
          "CARNIVAL",
          "CHIHIRO",
          "Calm Down (with Selena Gomez)",
          "Casca de Bala",
          "Circles",
          "Con Calma",
          "Drained of Color",
          "EL AMOR DE SU VIDA",
          "Ella Baila Sola",
          "Eyes Closed",
          "FE!N",
          "Family Matters",
          "Favorite Song",
          "Fortnight (feat. Post Malone)",
          "Hands",
          "Havana (feat. Young Thug)",
          "Houdini",
          "How Sweet",
          "I Don't Wanna Wait",
          "I Had Some Help (feat. Morgan Wallen)",
          "I'm Good (Blue)",
          "Illusion",
          "KING KONG",
          "LUNA",
          "LUNCH",
          "La Diabla",
          "Laxed (Siren Beat)",
          "Like That",
          "Lose Control",
          "Losing Interest - Original Mix",
          "Lucid Dreams",
          "MI EX TENï¿½ï¿½A RA",
          "Magnetic",
          "Milf Song",
          "Mitu",
          "Not Like Us",
          "Ojitos Lindos",
          "PERRO NEGRO",
          "Panda",
          "Panda Basi",
          "Pedro",
          "Please Please Please",
          "QLONA",
          "SHEESH",
          "SPOT!",
          "Saturn",
          "Save Your Tears - Live",
          "Segï¿½ï¿½n Qu",
          "Shallow",
          "Si No Quieres No",
          "Stargazing",
          "Stereo Love - Melodic",
          "Superhero (Heroes & Villains)",
          "TQG",
          "The Way We Move - Extended Mix",
          "This Wish - From \"Wish\"",
          "Too Sweet",
          "Training Season",
          "Type Shit",
          "Used To Be Young",
          "Vois sur ton chemin - Techno Mix",
          "Voz Emplumada del Monte",
          "Whatever",
          "Whatever She Wants",
          "bathroom floor",
          "euphoria",
          "rockstar (feat. 21 Savage)",
          "we can't be friends (wait for your love)"
         ],
         "marker": {
          "coloraxis": "coloraxis",
          "colors": [
           16,
           73,
           62,
           85,
           77,
           79,
           69,
           12,
           62,
           77,
           68,
           28,
           78,
           80,
           87,
           83,
           87,
           78,
           19,
           79,
           86,
           75,
           83,
           78,
           80,
           71,
           82,
           85,
           2,
           86,
           81,
           78,
           1,
           84,
           3,
           74,
           16,
           78,
           1,
           40,
           86,
           87,
           1,
           80,
           85,
           74,
           84,
           76,
           43,
           83,
           86,
           74,
           90,
           78,
           4,
           6,
           84,
           9,
           13,
           77,
           25,
           86,
           80,
           83,
           83,
           87,
           96,
           82,
           87,
           89,
           12,
           88,
           92,
           91,
           86,
           88,
           92,
           16,
           73,
           62,
           85,
           77,
           79,
           69,
           12,
           62,
           77,
           68,
           28,
           78,
           80,
           87,
           83,
           87,
           78,
           19,
           79,
           86,
           75,
           83,
           78,
           80,
           71,
           82,
           85,
           2,
           86,
           81,
           78,
           1,
           84,
           3,
           74,
           16,
           78,
           1,
           40,
           86,
           87,
           1,
           80,
           85,
           74,
           84,
           76,
           43,
           83,
           86,
           74,
           90,
           78,
           4,
           6,
           84,
           9,
           13,
           77,
           25,
           86,
           80,
           83,
           83,
           87,
           96,
           82,
           87,
           89,
           12,
           88,
           92,
           91,
           86,
           88,
           92,
           16,
           73,
           62,
           85,
           77,
           79,
           69,
           12,
           62,
           77,
           68,
           28,
           78,
           80,
           87,
           83,
           87,
           78,
           19,
           79,
           86,
           75,
           83,
           78,
           80,
           71,
           82,
           85,
           2,
           86,
           81,
           78,
           1,
           84,
           3,
           74,
           16,
           78,
           1,
           40,
           86,
           87,
           1,
           80,
           85,
           74,
           84,
           76,
           43,
           83,
           86,
           74,
           90,
           78,
           4,
           6,
           84,
           9,
           13,
           77,
           25,
           86,
           80,
           83,
           83,
           87,
           96,
           82,
           87,
           89,
           12,
           88,
           92,
           91,
           86,
           88,
           92,
           73,
           62,
           85,
           77,
           79,
           69,
           12,
           62,
           77,
           68,
           78,
           87,
           83,
           87,
           78,
           19,
           79,
           86,
           75,
           83,
           78,
           80,
           71,
           82,
           85,
           86,
           81,
           78,
           84,
           78,
           40,
           86,
           87,
           80,
           85,
           74,
           84,
           76,
           83,
           86,
           74,
           90,
           78,
           84,
           9,
           77,
           86,
           80,
           83,
           83,
           87,
           96,
           82,
           87,
           89,
           88,
           92,
           91,
           86,
           88,
           92,
           16,
           73,
           62,
           85,
           77,
           79,
           69,
           12,
           62,
           77,
           68,
           28,
           78,
           80,
           87,
           83,
           87,
           78,
           19,
           79,
           86,
           75,
           83,
           78,
           80,
           71,
           82,
           85,
           2,
           86,
           81,
           78,
           1,
           84,
           3,
           74,
           16,
           78,
           1,
           40,
           86,
           87,
           1,
           80,
           85,
           74,
           84,
           76,
           43,
           83,
           86,
           74,
           90,
           78,
           4,
           6,
           84,
           9,
           13,
           77,
           25,
           86,
           80,
           83,
           83,
           87,
           96,
           82,
           87,
           89,
           12,
           88,
           92,
           91,
           86,
           88,
           92,
           16,
           73,
           62,
           85,
           77,
           79,
           69,
           12,
           62,
           77,
           68,
           28,
           78,
           80,
           87,
           83,
           87,
           78,
           19,
           79,
           86,
           75,
           83,
           78,
           80,
           71,
           82,
           85,
           2,
           86,
           81,
           78,
           1,
           84,
           3,
           74,
           16,
           78,
           1,
           40,
           86,
           87,
           1,
           80,
           85,
           74,
           84,
           76,
           43,
           83,
           86,
           74,
           90,
           78,
           4,
           6,
           84,
           9,
           13,
           77,
           25,
           86,
           80,
           83,
           83,
           87,
           96,
           82,
           87,
           89,
           12,
           88,
           92,
           91,
           86,
           88,
           92,
           16,
           73,
           62,
           85,
           77,
           79,
           69,
           12,
           62,
           77,
           68,
           28,
           78,
           80,
           87,
           83,
           87,
           78,
           19,
           79,
           86,
           75,
           83,
           78,
           80,
           71,
           82,
           85,
           2,
           86,
           81,
           78,
           1,
           84,
           3,
           74,
           16,
           78,
           1,
           40,
           86,
           87,
           1,
           80,
           85,
           74,
           84,
           76,
           43,
           83,
           86,
           74,
           90,
           78,
           4,
           6,
           84,
           9,
           13,
           77,
           25,
           86,
           80,
           83,
           83,
           87,
           96,
           82,
           87,
           89,
           12,
           88,
           92,
           91,
           86,
           88,
           92,
           16,
           73,
           62,
           85,
           77,
           79,
           69,
           12,
           62,
           77,
           68,
           28,
           78,
           80,
           87,
           83,
           87,
           78,
           19,
           79,
           86,
           75,
           83,
           78,
           80,
           71,
           82,
           85,
           2,
           86,
           81,
           78,
           1,
           84,
           3,
           74,
           16,
           78,
           1,
           39.99999999999999,
           86,
           87,
           1,
           80,
           85,
           74,
           84,
           76,
           43,
           83,
           86,
           74,
           90,
           78,
           4,
           6,
           84,
           9,
           13,
           77,
           25,
           86,
           80,
           83,
           83,
           87,
           96,
           82,
           87,
           89,
           12,
           88,
           92,
           91,
           86,
           88,
           92,
           96,
           1,
           2,
           74,
           6,
           3,
           86,
           80,
           84,
           90,
           77,
           74,
           80,
           73,
           16,
           78,
           74,
           71,
           86,
           86,
           62,
           89,
           1,
           75,
           82.42860748851184,
           79,
           84,
           91,
           83,
           12,
           68,
           86,
           92,
           83,
           43,
           88,
           87,
           1,
           78,
           78,
           86,
           28,
           13,
           92,
           78,
           83,
           62,
           25,
           85,
           83,
           82,
           82,
           81,
           87,
           39.99999999999999,
           79,
           78,
           85,
           87,
           9,
           77,
           78,
           4,
           19,
           85,
           76,
           84,
           69,
           80,
           16,
           83,
           87,
           12,
           86,
           77,
           87
          ]
         },
         "name": "",
         "parents": [
          "Voz Emplumada del Monte/100.3",
          "Con Calma/101.4",
          "Favorite Song/101.4",
          "Si No Quieres No/101.4",
          "rockstar (feat. 21 Savage)/101.8",
          "How Sweet/102.3",
          "Used To Be Young/102.4",
          "Illusion/103.1",
          "Panda/104.2",
          "Superhero (Heroes & Villains)/104.4",
          "KING KONG/104.5",
          "Milf Song/104.5",
          "Shallow/106.9",
          "Vois sur ton chemin - Techno Mix/107.8",
          "Whatever She Wants/108.4",
          "Whatever/109.0",
          "Stargazing/109.8",
          "Ojitos Lindos/110.7",
          "This Wish - From \"Wish\"/110.9",
          "Segï¿½ï¿½n Qu/111.8",
          "LUNA/112.6",
          "Havana (feat. Young Thug)/112.8",
          "PERRO NEGRO/114.2",
          "EL AMOR DE SU VIDA/115.9",
          "Circles/116.0",
          "Eyes Closed/116.6",
          "QLONA/120.7",
          "Too Sweet/121.2",
          "Again/122.5",
          "Family Matters/122.7",
          "SPOT!/122.8",
          "Lucid Dreams/123.9",
          "Abc/126.6",
          "I Don't Wanna Wait/126.9",
          "Back/128.0",
          "Casca de Bala/128.5",
          "Drained of Color/134.0",
          "MI EX TENï¿½ï¿½A RA/136.2",
          "Losing Interest - Original Mix/136.4",
          "Save Your Tears - Live/137.7",
          "FE!N/137.8",
          "Saturn/142.8",
          "Hands/143.9",
          "Bling-Bang-Bang-Born/144.0",
          "Pedro/144.6",
          "Armageddon/147.4",
          "Type Shit/148.1",
          "Training Season/148.9",
          "Laxed (Siren Beat)/150.5",
          "La Diabla/155.9",
          "Magnetic/161.0",
          "Ella Baila Sola/166.5",
          "CHIHIRO/167.8",
          "TQG/167.8",
          "The Way We Move - Extended Mix/173.6",
          "Babba/176.2",
          "CARNIVAL/179.6",
          "Stereo Love - Melodic/187.9",
          "Mitu/194.3",
          "Calm Down (with Selena Gomez)/198.0",
          "Panda Basi/200.3",
          "euphoria/202.1",
          "Houdini/205.1",
          "Please Please Please/205.7",
          "I'm Good (Blue)/209.6",
          "Lose Control/224.1",
          "A Bar Song (Tipsy)/226.4",
          "SHEESH/237.5",
          "we can't be friends (wait for your love)/262.8",
          "Fortnight (feat. Post Malone)/297.6",
          "bathroom floor/301.6",
          "Like That/308.2",
          "LUNCH/316.3",
          "I Had Some Help (feat. Morgan Wallen)/322.1",
          "Beautiful Things/407.2",
          "Houdini/423.3",
          "Not Like Us/545.9",
          "Voz Emplumada del Monte/100.3",
          "Con Calma/101.4",
          "Favorite Song/101.4",
          "Si No Quieres No/101.4",
          "rockstar (feat. 21 Savage)/101.8",
          "How Sweet/102.3",
          "Used To Be Young/102.4",
          "Illusion/103.1",
          "Panda/104.2",
          "Superhero (Heroes & Villains)/104.4",
          "KING KONG/104.5",
          "Milf Song/104.5",
          "Shallow/106.9",
          "Vois sur ton chemin - Techno Mix/107.8",
          "Whatever She Wants/108.4",
          "Whatever/109.0",
          "Stargazing/109.8",
          "Ojitos Lindos/110.7",
          "This Wish - From \"Wish\"/110.9",
          "Segï¿½ï¿½n Qu/111.8",
          "LUNA/112.6",
          "Havana (feat. Young Thug)/112.8",
          "PERRO NEGRO/114.2",
          "EL AMOR DE SU VIDA/115.9",
          "Circles/116.0",
          "Eyes Closed/116.6",
          "QLONA/120.7",
          "Too Sweet/121.2",
          "Again/122.5",
          "Family Matters/122.7",
          "SPOT!/122.8",
          "Lucid Dreams/123.9",
          "Abc/126.6",
          "I Don't Wanna Wait/126.9",
          "Back/128.0",
          "Casca de Bala/128.5",
          "Drained of Color/134.0",
          "MI EX TENï¿½ï¿½A RA/136.2",
          "Losing Interest - Original Mix/136.4",
          "Save Your Tears - Live/137.7",
          "FE!N/137.8",
          "Saturn/142.8",
          "Hands/143.9",
          "Bling-Bang-Bang-Born/144.0",
          "Pedro/144.6",
          "Armageddon/147.4",
          "Type Shit/148.1",
          "Training Season/148.9",
          "Laxed (Siren Beat)/150.5",
          "La Diabla/155.9",
          "Magnetic/161.0",
          "Ella Baila Sola/166.5",
          "CHIHIRO/167.8",
          "TQG/167.8",
          "The Way We Move - Extended Mix/173.6",
          "Babba/176.2",
          "CARNIVAL/179.6",
          "Stereo Love - Melodic/187.9",
          "Mitu/194.3",
          "Calm Down (with Selena Gomez)/198.0",
          "Panda Basi/200.3",
          "euphoria/202.1",
          "Houdini/205.1",
          "Please Please Please/205.7",
          "I'm Good (Blue)/209.6",
          "Lose Control/224.1",
          "A Bar Song (Tipsy)/226.4",
          "SHEESH/237.5",
          "we can't be friends (wait for your love)/262.8",
          "Fortnight (feat. Post Malone)/297.6",
          "bathroom floor/301.6",
          "Like That/308.2",
          "LUNCH/316.3",
          "I Had Some Help (feat. Morgan Wallen)/322.1",
          "Beautiful Things/407.2",
          "Houdini/423.3",
          "Not Like Us/545.9",
          "Voz Emplumada del Monte/100.3",
          "Con Calma/101.4",
          "Favorite Song/101.4",
          "Si No Quieres No/101.4",
          "rockstar (feat. 21 Savage)/101.8",
          "How Sweet/102.3",
          "Used To Be Young/102.4",
          "Illusion/103.1",
          "Panda/104.2",
          "Superhero (Heroes & Villains)/104.4",
          "KING KONG/104.5",
          "Milf Song/104.5",
          "Shallow/106.9",
          "Vois sur ton chemin - Techno Mix/107.8",
          "Whatever She Wants/108.4",
          "Whatever/109.0",
          "Stargazing/109.8",
          "Ojitos Lindos/110.7",
          "This Wish - From \"Wish\"/110.9",
          "Segï¿½ï¿½n Qu/111.8",
          "LUNA/112.6",
          "Havana (feat. Young Thug)/112.8",
          "PERRO NEGRO/114.2",
          "EL AMOR DE SU VIDA/115.9",
          "Circles/116.0",
          "Eyes Closed/116.6",
          "QLONA/120.7",
          "Too Sweet/121.2",
          "Again/122.5",
          "Family Matters/122.7",
          "SPOT!/122.8",
          "Lucid Dreams/123.9",
          "Abc/126.6",
          "I Don't Wanna Wait/126.9",
          "Back/128.0",
          "Casca de Bala/128.5",
          "Drained of Color/134.0",
          "MI EX TENï¿½ï¿½A RA/136.2",
          "Losing Interest - Original Mix/136.4",
          "Save Your Tears - Live/137.7",
          "FE!N/137.8",
          "Saturn/142.8",
          "Hands/143.9",
          "Bling-Bang-Bang-Born/144.0",
          "Pedro/144.6",
          "Armageddon/147.4",
          "Type Shit/148.1",
          "Training Season/148.9",
          "Laxed (Siren Beat)/150.5",
          "La Diabla/155.9",
          "Magnetic/161.0",
          "Ella Baila Sola/166.5",
          "CHIHIRO/167.8",
          "TQG/167.8",
          "The Way We Move - Extended Mix/173.6",
          "Babba/176.2",
          "CARNIVAL/179.6",
          "Stereo Love - Melodic/187.9",
          "Mitu/194.3",
          "Calm Down (with Selena Gomez)/198.0",
          "Panda Basi/200.3",
          "euphoria/202.1",
          "Houdini/205.1",
          "Please Please Please/205.7",
          "I'm Good (Blue)/209.6",
          "Lose Control/224.1",
          "A Bar Song (Tipsy)/226.4",
          "SHEESH/237.5",
          "we can't be friends (wait for your love)/262.8",
          "Fortnight (feat. Post Malone)/297.6",
          "bathroom floor/301.6",
          "Like That/308.2",
          "LUNCH/316.3",
          "I Had Some Help (feat. Morgan Wallen)/322.1",
          "Beautiful Things/407.2",
          "Houdini/423.3",
          "Not Like Us/545.9",
          "Con Calma/101.4",
          "Favorite Song/101.4",
          "Si No Quieres No/101.4",
          "rockstar (feat. 21 Savage)/101.8",
          "How Sweet/102.3",
          "Used To Be Young/102.4",
          "Illusion/103.1",
          "Panda/104.2",
          "Superhero (Heroes & Villains)/104.4",
          "KING KONG/104.5",
          "Shallow/106.9",
          "Whatever She Wants/108.4",
          "Whatever/109.0",
          "Stargazing/109.8",
          "Ojitos Lindos/110.7",
          "This Wish - From \"Wish\"/110.9",
          "Segï¿½ï¿½n Qu/111.8",
          "LUNA/112.6",
          "Havana (feat. Young Thug)/112.8",
          "PERRO NEGRO/114.2",
          "EL AMOR DE SU VIDA/115.9",
          "Circles/116.0",
          "Eyes Closed/116.6",
          "QLONA/120.7",
          "Too Sweet/121.2",
          "Family Matters/122.7",
          "SPOT!/122.8",
          "Lucid Dreams/123.9",
          "I Don't Wanna Wait/126.9",
          "MI EX TENï¿½ï¿½A RA/136.2",
          "Save Your Tears - Live/137.7",
          "FE!N/137.8",
          "Saturn/142.8",
          "Bling-Bang-Bang-Born/144.0",
          "Pedro/144.6",
          "Armageddon/147.4",
          "Type Shit/148.1",
          "Training Season/148.9",
          "La Diabla/155.9",
          "Magnetic/161.0",
          "Ella Baila Sola/166.5",
          "CHIHIRO/167.8",
          "TQG/167.8",
          "CARNIVAL/179.6",
          "Stereo Love - Melodic/187.9",
          "Calm Down (with Selena Gomez)/198.0",
          "euphoria/202.1",
          "Houdini/205.1",
          "Please Please Please/205.7",
          "I'm Good (Blue)/209.6",
          "Lose Control/224.1",
          "A Bar Song (Tipsy)/226.4",
          "SHEESH/237.5",
          "we can't be friends (wait for your love)/262.8",
          "Fortnight (feat. Post Malone)/297.6",
          "Like That/308.2",
          "LUNCH/316.3",
          "I Had Some Help (feat. Morgan Wallen)/322.1",
          "Beautiful Things/407.2",
          "Houdini/423.3",
          "Not Like Us/545.9",
          "Voz Emplumada del Monte/100.3",
          "Con Calma/101.4",
          "Favorite Song/101.4",
          "Si No Quieres No/101.4",
          "rockstar (feat. 21 Savage)/101.8",
          "How Sweet/102.3",
          "Used To Be Young/102.4",
          "Illusion/103.1",
          "Panda/104.2",
          "Superhero (Heroes & Villains)/104.4",
          "KING KONG/104.5",
          "Milf Song/104.5",
          "Shallow/106.9",
          "Vois sur ton chemin - Techno Mix/107.8",
          "Whatever She Wants/108.4",
          "Whatever/109.0",
          "Stargazing/109.8",
          "Ojitos Lindos/110.7",
          "This Wish - From \"Wish\"/110.9",
          "Segï¿½ï¿½n Qu/111.8",
          "LUNA/112.6",
          "Havana (feat. Young Thug)/112.8",
          "PERRO NEGRO/114.2",
          "EL AMOR DE SU VIDA/115.9",
          "Circles/116.0",
          "Eyes Closed/116.6",
          "QLONA/120.7",
          "Too Sweet/121.2",
          "Again/122.5",
          "Family Matters/122.7",
          "SPOT!/122.8",
          "Lucid Dreams/123.9",
          "Abc/126.6",
          "I Don't Wanna Wait/126.9",
          "Back/128.0",
          "Casca de Bala/128.5",
          "Drained of Color/134.0",
          "MI EX TENï¿½ï¿½A RA/136.2",
          "Losing Interest - Original Mix/136.4",
          "Save Your Tears - Live/137.7",
          "FE!N/137.8",
          "Saturn/142.8",
          "Hands/143.9",
          "Bling-Bang-Bang-Born/144.0",
          "Pedro/144.6",
          "Armageddon/147.4",
          "Type Shit/148.1",
          "Training Season/148.9",
          "Laxed (Siren Beat)/150.5",
          "La Diabla/155.9",
          "Magnetic/161.0",
          "Ella Baila Sola/166.5",
          "CHIHIRO/167.8",
          "TQG/167.8",
          "The Way We Move - Extended Mix/173.6",
          "Babba/176.2",
          "CARNIVAL/179.6",
          "Stereo Love - Melodic/187.9",
          "Mitu/194.3",
          "Calm Down (with Selena Gomez)/198.0",
          "Panda Basi/200.3",
          "euphoria/202.1",
          "Houdini/205.1",
          "Please Please Please/205.7",
          "I'm Good (Blue)/209.6",
          "Lose Control/224.1",
          "A Bar Song (Tipsy)/226.4",
          "SHEESH/237.5",
          "we can't be friends (wait for your love)/262.8",
          "Fortnight (feat. Post Malone)/297.6",
          "bathroom floor/301.6",
          "Like That/308.2",
          "LUNCH/316.3",
          "I Had Some Help (feat. Morgan Wallen)/322.1",
          "Beautiful Things/407.2",
          "Houdini/423.3",
          "Not Like Us/545.9",
          "Voz Emplumada del Monte/100.3",
          "Con Calma/101.4",
          "Favorite Song/101.4",
          "Si No Quieres No/101.4",
          "rockstar (feat. 21 Savage)/101.8",
          "How Sweet/102.3",
          "Used To Be Young/102.4",
          "Illusion/103.1",
          "Panda/104.2",
          "Superhero (Heroes & Villains)/104.4",
          "KING KONG/104.5",
          "Milf Song/104.5",
          "Shallow/106.9",
          "Vois sur ton chemin - Techno Mix/107.8",
          "Whatever She Wants/108.4",
          "Whatever/109.0",
          "Stargazing/109.8",
          "Ojitos Lindos/110.7",
          "This Wish - From \"Wish\"/110.9",
          "Segï¿½ï¿½n Qu/111.8",
          "LUNA/112.6",
          "Havana (feat. Young Thug)/112.8",
          "PERRO NEGRO/114.2",
          "EL AMOR DE SU VIDA/115.9",
          "Circles/116.0",
          "Eyes Closed/116.6",
          "QLONA/120.7",
          "Too Sweet/121.2",
          "Again/122.5",
          "Family Matters/122.7",
          "SPOT!/122.8",
          "Lucid Dreams/123.9",
          "Abc/126.6",
          "I Don't Wanna Wait/126.9",
          "Back/128.0",
          "Casca de Bala/128.5",
          "Drained of Color/134.0",
          "MI EX TENï¿½ï¿½A RA/136.2",
          "Losing Interest - Original Mix/136.4",
          "Save Your Tears - Live/137.7",
          "FE!N/137.8",
          "Saturn/142.8",
          "Hands/143.9",
          "Bling-Bang-Bang-Born/144.0",
          "Pedro/144.6",
          "Armageddon/147.4",
          "Type Shit/148.1",
          "Training Season/148.9",
          "Laxed (Siren Beat)/150.5",
          "La Diabla/155.9",
          "Magnetic/161.0",
          "Ella Baila Sola/166.5",
          "CHIHIRO/167.8",
          "TQG/167.8",
          "The Way We Move - Extended Mix/173.6",
          "Babba/176.2",
          "CARNIVAL/179.6",
          "Stereo Love - Melodic/187.9",
          "Mitu/194.3",
          "Calm Down (with Selena Gomez)/198.0",
          "Panda Basi/200.3",
          "euphoria/202.1",
          "Houdini/205.1",
          "Please Please Please/205.7",
          "I'm Good (Blue)/209.6",
          "Lose Control/224.1",
          "A Bar Song (Tipsy)/226.4",
          "SHEESH/237.5",
          "we can't be friends (wait for your love)/262.8",
          "Fortnight (feat. Post Malone)/297.6",
          "bathroom floor/301.6",
          "Like That/308.2",
          "LUNCH/316.3",
          "I Had Some Help (feat. Morgan Wallen)/322.1",
          "Beautiful Things/407.2",
          "Houdini/423.3",
          "Not Like Us/545.9",
          "Voz Emplumada del Monte/100.3",
          "Con Calma/101.4",
          "Favorite Song/101.4",
          "Si No Quieres No/101.4",
          "rockstar (feat. 21 Savage)/101.8",
          "How Sweet/102.3",
          "Used To Be Young/102.4",
          "Illusion/103.1",
          "Panda/104.2",
          "Superhero (Heroes & Villains)/104.4",
          "KING KONG/104.5",
          "Milf Song/104.5",
          "Shallow/106.9",
          "Vois sur ton chemin - Techno Mix/107.8",
          "Whatever She Wants/108.4",
          "Whatever/109.0",
          "Stargazing/109.8",
          "Ojitos Lindos/110.7",
          "This Wish - From \"Wish\"/110.9",
          "Segï¿½ï¿½n Qu/111.8",
          "LUNA/112.6",
          "Havana (feat. Young Thug)/112.8",
          "PERRO NEGRO/114.2",
          "EL AMOR DE SU VIDA/115.9",
          "Circles/116.0",
          "Eyes Closed/116.6",
          "QLONA/120.7",
          "Too Sweet/121.2",
          "Again/122.5",
          "Family Matters/122.7",
          "SPOT!/122.8",
          "Lucid Dreams/123.9",
          "Abc/126.6",
          "I Don't Wanna Wait/126.9",
          "Back/128.0",
          "Casca de Bala/128.5",
          "Drained of Color/134.0",
          "MI EX TENï¿½ï¿½A RA/136.2",
          "Losing Interest - Original Mix/136.4",
          "Save Your Tears - Live/137.7",
          "FE!N/137.8",
          "Saturn/142.8",
          "Hands/143.9",
          "Bling-Bang-Bang-Born/144.0",
          "Pedro/144.6",
          "Armageddon/147.4",
          "Type Shit/148.1",
          "Training Season/148.9",
          "Laxed (Siren Beat)/150.5",
          "La Diabla/155.9",
          "Magnetic/161.0",
          "Ella Baila Sola/166.5",
          "CHIHIRO/167.8",
          "TQG/167.8",
          "The Way We Move - Extended Mix/173.6",
          "Babba/176.2",
          "CARNIVAL/179.6",
          "Stereo Love - Melodic/187.9",
          "Mitu/194.3",
          "Calm Down (with Selena Gomez)/198.0",
          "Panda Basi/200.3",
          "euphoria/202.1",
          "Houdini/205.1",
          "Please Please Please/205.7",
          "I'm Good (Blue)/209.6",
          "Lose Control/224.1",
          "A Bar Song (Tipsy)/226.4",
          "SHEESH/237.5",
          "we can't be friends (wait for your love)/262.8",
          "Fortnight (feat. Post Malone)/297.6",
          "bathroom floor/301.6",
          "Like That/308.2",
          "LUNCH/316.3",
          "I Had Some Help (feat. Morgan Wallen)/322.1",
          "Beautiful Things/407.2",
          "Houdini/423.3",
          "Not Like Us/545.9",
          "Voz Emplumada del Monte",
          "Con Calma",
          "Favorite Song",
          "Si No Quieres No",
          "rockstar (feat. 21 Savage)",
          "How Sweet",
          "Used To Be Young",
          "Illusion",
          "Panda",
          "Superhero (Heroes & Villains)",
          "KING KONG",
          "Milf Song",
          "Shallow",
          "Vois sur ton chemin - Techno Mix",
          "Whatever She Wants",
          "Whatever",
          "Stargazing",
          "Ojitos Lindos",
          "This Wish - From \"Wish\"",
          "Segï¿½ï¿½n Qu",
          "LUNA",
          "Havana (feat. Young Thug)",
          "PERRO NEGRO",
          "EL AMOR DE SU VIDA",
          "Circles",
          "Eyes Closed",
          "QLONA",
          "Too Sweet",
          "Again",
          "Family Matters",
          "SPOT!",
          "Lucid Dreams",
          "Abc",
          "I Don't Wanna Wait",
          "Back",
          "Casca de Bala",
          "Drained of Color",
          "MI EX TENï¿½ï¿½A RA",
          "Losing Interest - Original Mix",
          "Save Your Tears - Live",
          "FE!N",
          "Saturn",
          "Hands",
          "Bling-Bang-Bang-Born",
          "Pedro",
          "Armageddon",
          "Type Shit",
          "Training Season",
          "Laxed (Siren Beat)",
          "La Diabla",
          "Magnetic",
          "Ella Baila Sola",
          "CHIHIRO",
          "TQG",
          "The Way We Move - Extended Mix",
          "Babba",
          "CARNIVAL",
          "Stereo Love - Melodic",
          "Mitu",
          "Calm Down (with Selena Gomez)",
          "Panda Basi",
          "euphoria",
          "Houdini",
          "Please Please Please",
          "I'm Good (Blue)",
          "Lose Control",
          "A Bar Song (Tipsy)",
          "SHEESH",
          "we can't be friends (wait for your love)",
          "Fortnight (feat. Post Malone)",
          "bathroom floor",
          "Like That",
          "LUNCH",
          "I Had Some Help (feat. Morgan Wallen)",
          "Beautiful Things",
          "Houdini",
          "Not Like Us",
          "",
          "",
          "",
          "",
          "",
          "",
          "",
          "",
          "",
          "",
          "",
          "",
          "",
          "",
          "",
          "",
          "",
          "",
          "",
          "",
          "",
          "",
          "",
          "",
          "",
          "",
          "",
          "",
          "",
          "",
          "",
          "",
          "",
          "",
          "",
          "",
          "",
          "",
          "",
          "",
          "",
          "",
          "",
          "",
          "",
          "",
          "",
          "",
          "",
          "",
          "",
          "",
          "",
          "",
          "",
          "",
          "",
          "",
          "",
          "",
          "",
          "",
          "",
          "",
          "",
          "",
          "",
          "",
          "",
          "",
          "",
          "",
          "",
          "",
          "",
          ""
         ],
         "type": "treemap",
         "values": [
          17,
          46,
          9,
          15,
          47,
          62,
          62,
          75,
          14,
          41,
          25,
          17,
          95,
          23,
          65,
          109,
          109,
          49,
          20,
          29,
          31,
          95,
          44,
          27,
          69,
          68,
          83,
          108,
          17,
          60,
          20,
          36,
          17,
          133,
          17,
          11,
          17,
          38,
          17,
          37.125,
          38,
          87,
          17,
          17,
          54,
          33,
          47,
          116,
          1,
          26,
          44,
          61,
          59,
          131,
          17,
          17,
          29,
          17,
          17,
          146,
          17,
          31,
          127,
          98,
          168,
          120,
          146,
          26,
          126,
          134,
          17,
          109,
          163,
          114,
          154,
          105,
          111,
          28,
          184,
          43,
          34,
          235,
          58,
          97,
          113,
          245,
          56,
          10,
          28,
          261,
          56,
          61,
          111,
          120,
          91,
          36,
          50,
          80,
          342,
          67,
          27,
          355,
          132,
          72,
          235,
          28,
          38,
          27,
          153,
          28,
          87,
          28,
          11,
          28,
          56,
          28,
          151.03703703703704,
          87,
          120,
          28,
          53,
          107,
          37,
          99,
          162,
          15,
          29,
          67,
          83,
          185,
          138,
          28,
          2,
          42,
          28,
          28,
          316,
          28,
          65,
          174,
          199,
          285,
          215,
          149,
          36,
          194,
          221,
          1,
          153,
          244,
          157,
          280,
          182,
          188,
          15,
          87,
          4,
          8,
          122,
          8,
          64,
          74,
          63,
          13,
          5,
          15,
          158,
          52,
          31,
          171,
          93,
          42,
          4,
          60,
          64,
          541,
          51,
          22,
          311,
          32,
          57,
          85,
          15,
          16,
          2,
          54,
          15,
          128,
          15,
          32,
          15,
          29,
          15,
          70.11538461538461,
          46,
          103,
          15,
          18,
          158,
          5,
          41,
          127,
          5,
          34,
          9,
          24,
          53,
          84,
          15,
          15,
          11,
          15,
          15,
          112,
          15,
          20,
          146,
          73,
          207,
          133,
          58,
          3,
          117,
          99,
          15,
          55,
          138,
          60,
          168,
          82,
          67,
          69412,
          71027,
          3601,
          632152,
          100,
          10442,
          522,
          1442436,
          16722,
          4,
          651760,
          6101,
          568,
          548,
          17651,
          2942,
          8715,
          1179,
          772600,
          3684,
          9094,
          212174,
          6969,
          12492,
          23005,
          2302,
          98,
          552552,
          442,
          9932,
          1165,
          6510,
          7496,
          1928,
          482,
          48,
          4527,
          3796,
          29401,
          1207,
          53890,
          698,
          16511,
          11303,
          885123,
          41487,
          4843,
          3694,
          758,
          31235,
          72429,
          30180,
          592,
          7689,
          13437,
          18364,
          1219,
          21172,
          57372,
          7006,
          28444,
          80,
          160122,
          45668,
          5423,
          352745,
          1940,
          30639,
          7430,
          170002,
          166277,
          207,
          1176,
          221822,
          119783,
          23181,
          17551,
          9406,
          152592,
          2673,
          32236,
          40628,
          194332,
          61138,
          24891,
          332437,
          44730,
          56104,
          22396,
          2,
          8696,
          3407,
          339306,
          5,
          10564,
          92,
          2052,
          635,
          23959,
          5,
          545,
          129923,
          21104,
          8,
          22222,
          27654,
          1262,
          28064,
          16811,
          7240,
          27544,
          11500,
          129463,
          11028,
          78554,
          38,
          252,
          53842,
          2,
          42,
          163876,
          249,
          17168,
          45300,
          2572,
          262248,
          88239,
          25766,
          3479,
          26203,
          12784,
          277,
          43025,
          13800,
          16219,
          73118,
          7223,
          28113,
          12703314.5,
          26028684,
          11127302,
          14500,
          40652322,
          12703314.5,
          33519594,
          4057,
          33020704,
          14181961,
          12703314.5,
          1476436,
          11103476,
          1804060,
          22398663,
          12703314.5,
          279000,
          14518451,
          50776319,
          12703314.5,
          5128004,
          53911465,
          49332435,
          32754141,
          26892604,
          38959591,
          58820722,
          12703314.5,
          12703314.5,
          12703314.5,
          46645177,
          44442433,
          12703314.5,
          4419373,
          102828,
          853176,
          422,
          46080266,
          12703314.5,
          12703314.5,
          13787343,
          12703314.5,
          188,
          22950364,
          12703314.5,
          12703314.5,
          12703314.5,
          34572688,
          9239474,
          414833,
          57656713,
          550073,
          12703314.5,
          15048444,
          12703314.5,
          12703314.5,
          12703314.5,
          12703314.5,
          12703314.5,
          48035,
          36666,
          12703314.5,
          35970610,
          188200,
          54258768,
          49060857,
          27811667,
          48327004,
          12703314.5,
          25348800,
          1088,
          12703314.5,
          45889000,
          184500,
          29584940,
          12703314.5,
          35223547,
          2113492,
          16913257,
          1670867,
          889014,
          23334015,
          965652,
          1364492,
          60459,
          22334292,
          1750863,
          931230,
          3631067,
          15274815,
          491577,
          254004,
          522558,
          167936,
          5587691,
          84565,
          1369288,
          1019744,
          32333846,
          738123,
          1569516,
          8490012,
          1074684,
          1174349,
          218957,
          1072084.5,
          1034563,
          2531168,
          9384427,
          2066653,
          124326,
          5670850,
          427441,
          1072084.5,
          2202866,
          1072084.5,
          9304666,
          1990342,
          349660,
          7208467,
          4392933,
          717214,
          1257935,
          672789,
          961957,
          201210,
          2750086,
          2596912,
          3831236,
          997411,
          8953293,
          5708577,
          6076902,
          449112,
          1072084.5,
          8162101,
          8099187,
          1072084.5,
          1846535,
          1575378,
          1026097,
          4324989,
          1504385,
          837616,
          4907193,
          3080503,
          2484083,
          16785489,
          1456177,
          1307290,
          550191,
          4120760,
          3670188,
          3486739,
          14816946.5,
          43171792,
          12914920,
          912595,
          64971638,
          13671134.5,
          34925390,
          72730,
          56967756,
          16115933,
          13634795.5,
          5108739,
          27252387,
          2415551,
          22682106,
          13244382.5,
          457212,
          20276567,
          50866559,
          14113692.5,
          6189730,
          87213221,
          50135542,
          34357718,
          35927962,
          40086206,
          60063879,
          12968100.5,
          13775461,
          13748989.5,
          49179899,
          54718961,
          14770032.5,
          4555053,
          5773830,
          1282723,
          1073201.5,
          48317146,
          13775464,
          22009948.777421653,
          15914289,
          13081884.5,
          7208723,
          27367535,
          13448983.5,
          13962634.5,
          13408881.5,
          35555657,
          9447945,
          3221953,
          60266452,
          4564830,
          13712748.5,
          24097155,
          18411989.5,
          18780502.5,
          13217653.5,
          14660584,
          20865517.5,
          8353159,
          1109059.5,
          14571976.5,
          37595429,
          1217997,
          58877900,
          50726378,
          28705582,
          53238333,
          15818146.5,
          27859558,
          16786887,
          14221197.5,
          47211854,
          772413,
          33836792,
          16388100.5,
          38767209,
          28705582,
          14770032.5,
          13775461,
          13962634.5,
          18780502.5,
          5773830,
          33836792,
          27367535,
          13217653.5,
          13712748.5,
          8353159,
          1282723,
          35927962,
          43171792,
          1073201.5,
          34357718,
          4564830,
          40086206,
          15914289,
          13748989.5,
          12914920,
          27859558,
          7208723,
          87213221,
          53983529.5,
          13671134.5,
          4555053,
          772413,
          58877900,
          72730,
          13634795.5,
          6189730,
          47211854,
          3221953,
          9447945,
          14221197.5,
          50726378,
          13775464,
          54718961,
          48317146,
          60266452,
          5108739,
          20865517.5,
          38767209,
          20276567,
          50135542,
          56967756,
          1109059.5,
          13448983.5,
          1217997,
          60063879,
          53238333,
          49179899,
          13081884.5,
          22009948.777421653,
          14113692.5,
          27252387,
          912595,
          457212,
          14660584,
          16115933,
          24097155,
          18411989.5,
          50866559,
          12968100.5,
          35555657,
          13408881.5,
          34925390,
          2415551,
          14816946.5,
          13244382.5,
          22682106,
          16786887,
          14571976.5,
          64971638,
          15818146.5
         ]
        }
       ],
       "layout": {
        "autosize": false,
        "coloraxis": {
         "colorbar": {
          "title": {
           "text": "Spotify Popularity"
          }
         },
         "colorscale": [
          [
           0,
           "#440154"
          ],
          [
           0.1111111111111111,
           "#482878"
          ],
          [
           0.2222222222222222,
           "#3e4989"
          ],
          [
           0.3333333333333333,
           "#31688e"
          ],
          [
           0.4444444444444444,
           "#26828e"
          ],
          [
           0.5555555555555556,
           "#1f9e89"
          ],
          [
           0.6666666666666666,
           "#35b779"
          ],
          [
           0.7777777777777778,
           "#6ece58"
          ],
          [
           0.8888888888888888,
           "#b5de2b"
          ],
          [
           1,
           "#fde725"
          ]
         ]
        },
        "height": 800,
        "legend": {
         "tracegroupgap": 0
        },
        "template": {
         "data": {
          "bar": [
           {
            "error_x": {
             "color": "#2a3f5f"
            },
            "error_y": {
             "color": "#2a3f5f"
            },
            "marker": {
             "line": {
              "color": "#E5ECF6",
              "width": 0.5
             },
             "pattern": {
              "fillmode": "overlay",
              "size": 10,
              "solidity": 0.2
             }
            },
            "type": "bar"
           }
          ],
          "barpolar": [
           {
            "marker": {
             "line": {
              "color": "#E5ECF6",
              "width": 0.5
             },
             "pattern": {
              "fillmode": "overlay",
              "size": 10,
              "solidity": 0.2
             }
            },
            "type": "barpolar"
           }
          ],
          "carpet": [
           {
            "aaxis": {
             "endlinecolor": "#2a3f5f",
             "gridcolor": "white",
             "linecolor": "white",
             "minorgridcolor": "white",
             "startlinecolor": "#2a3f5f"
            },
            "baxis": {
             "endlinecolor": "#2a3f5f",
             "gridcolor": "white",
             "linecolor": "white",
             "minorgridcolor": "white",
             "startlinecolor": "#2a3f5f"
            },
            "type": "carpet"
           }
          ],
          "choropleth": [
           {
            "colorbar": {
             "outlinewidth": 0,
             "ticks": ""
            },
            "type": "choropleth"
           }
          ],
          "contour": [
           {
            "colorbar": {
             "outlinewidth": 0,
             "ticks": ""
            },
            "colorscale": [
             [
              0,
              "#0d0887"
             ],
             [
              0.1111111111111111,
              "#46039f"
             ],
             [
              0.2222222222222222,
              "#7201a8"
             ],
             [
              0.3333333333333333,
              "#9c179e"
             ],
             [
              0.4444444444444444,
              "#bd3786"
             ],
             [
              0.5555555555555556,
              "#d8576b"
             ],
             [
              0.6666666666666666,
              "#ed7953"
             ],
             [
              0.7777777777777778,
              "#fb9f3a"
             ],
             [
              0.8888888888888888,
              "#fdca26"
             ],
             [
              1,
              "#f0f921"
             ]
            ],
            "type": "contour"
           }
          ],
          "contourcarpet": [
           {
            "colorbar": {
             "outlinewidth": 0,
             "ticks": ""
            },
            "type": "contourcarpet"
           }
          ],
          "heatmap": [
           {
            "colorbar": {
             "outlinewidth": 0,
             "ticks": ""
            },
            "colorscale": [
             [
              0,
              "#0d0887"
             ],
             [
              0.1111111111111111,
              "#46039f"
             ],
             [
              0.2222222222222222,
              "#7201a8"
             ],
             [
              0.3333333333333333,
              "#9c179e"
             ],
             [
              0.4444444444444444,
              "#bd3786"
             ],
             [
              0.5555555555555556,
              "#d8576b"
             ],
             [
              0.6666666666666666,
              "#ed7953"
             ],
             [
              0.7777777777777778,
              "#fb9f3a"
             ],
             [
              0.8888888888888888,
              "#fdca26"
             ],
             [
              1,
              "#f0f921"
             ]
            ],
            "type": "heatmap"
           }
          ],
          "heatmapgl": [
           {
            "colorbar": {
             "outlinewidth": 0,
             "ticks": ""
            },
            "colorscale": [
             [
              0,
              "#0d0887"
             ],
             [
              0.1111111111111111,
              "#46039f"
             ],
             [
              0.2222222222222222,
              "#7201a8"
             ],
             [
              0.3333333333333333,
              "#9c179e"
             ],
             [
              0.4444444444444444,
              "#bd3786"
             ],
             [
              0.5555555555555556,
              "#d8576b"
             ],
             [
              0.6666666666666666,
              "#ed7953"
             ],
             [
              0.7777777777777778,
              "#fb9f3a"
             ],
             [
              0.8888888888888888,
              "#fdca26"
             ],
             [
              1,
              "#f0f921"
             ]
            ],
            "type": "heatmapgl"
           }
          ],
          "histogram": [
           {
            "marker": {
             "pattern": {
              "fillmode": "overlay",
              "size": 10,
              "solidity": 0.2
             }
            },
            "type": "histogram"
           }
          ],
          "histogram2d": [
           {
            "colorbar": {
             "outlinewidth": 0,
             "ticks": ""
            },
            "colorscale": [
             [
              0,
              "#0d0887"
             ],
             [
              0.1111111111111111,
              "#46039f"
             ],
             [
              0.2222222222222222,
              "#7201a8"
             ],
             [
              0.3333333333333333,
              "#9c179e"
             ],
             [
              0.4444444444444444,
              "#bd3786"
             ],
             [
              0.5555555555555556,
              "#d8576b"
             ],
             [
              0.6666666666666666,
              "#ed7953"
             ],
             [
              0.7777777777777778,
              "#fb9f3a"
             ],
             [
              0.8888888888888888,
              "#fdca26"
             ],
             [
              1,
              "#f0f921"
             ]
            ],
            "type": "histogram2d"
           }
          ],
          "histogram2dcontour": [
           {
            "colorbar": {
             "outlinewidth": 0,
             "ticks": ""
            },
            "colorscale": [
             [
              0,
              "#0d0887"
             ],
             [
              0.1111111111111111,
              "#46039f"
             ],
             [
              0.2222222222222222,
              "#7201a8"
             ],
             [
              0.3333333333333333,
              "#9c179e"
             ],
             [
              0.4444444444444444,
              "#bd3786"
             ],
             [
              0.5555555555555556,
              "#d8576b"
             ],
             [
              0.6666666666666666,
              "#ed7953"
             ],
             [
              0.7777777777777778,
              "#fb9f3a"
             ],
             [
              0.8888888888888888,
              "#fdca26"
             ],
             [
              1,
              "#f0f921"
             ]
            ],
            "type": "histogram2dcontour"
           }
          ],
          "mesh3d": [
           {
            "colorbar": {
             "outlinewidth": 0,
             "ticks": ""
            },
            "type": "mesh3d"
           }
          ],
          "parcoords": [
           {
            "line": {
             "colorbar": {
              "outlinewidth": 0,
              "ticks": ""
             }
            },
            "type": "parcoords"
           }
          ],
          "pie": [
           {
            "automargin": true,
            "type": "pie"
           }
          ],
          "scatter": [
           {
            "fillpattern": {
             "fillmode": "overlay",
             "size": 10,
             "solidity": 0.2
            },
            "type": "scatter"
           }
          ],
          "scatter3d": [
           {
            "line": {
             "colorbar": {
              "outlinewidth": 0,
              "ticks": ""
             }
            },
            "marker": {
             "colorbar": {
              "outlinewidth": 0,
              "ticks": ""
             }
            },
            "type": "scatter3d"
           }
          ],
          "scattercarpet": [
           {
            "marker": {
             "colorbar": {
              "outlinewidth": 0,
              "ticks": ""
             }
            },
            "type": "scattercarpet"
           }
          ],
          "scattergeo": [
           {
            "marker": {
             "colorbar": {
              "outlinewidth": 0,
              "ticks": ""
             }
            },
            "type": "scattergeo"
           }
          ],
          "scattergl": [
           {
            "marker": {
             "colorbar": {
              "outlinewidth": 0,
              "ticks": ""
             }
            },
            "type": "scattergl"
           }
          ],
          "scattermapbox": [
           {
            "marker": {
             "colorbar": {
              "outlinewidth": 0,
              "ticks": ""
             }
            },
            "type": "scattermapbox"
           }
          ],
          "scatterpolar": [
           {
            "marker": {
             "colorbar": {
              "outlinewidth": 0,
              "ticks": ""
             }
            },
            "type": "scatterpolar"
           }
          ],
          "scatterpolargl": [
           {
            "marker": {
             "colorbar": {
              "outlinewidth": 0,
              "ticks": ""
             }
            },
            "type": "scatterpolargl"
           }
          ],
          "scatterternary": [
           {
            "marker": {
             "colorbar": {
              "outlinewidth": 0,
              "ticks": ""
             }
            },
            "type": "scatterternary"
           }
          ],
          "surface": [
           {
            "colorbar": {
             "outlinewidth": 0,
             "ticks": ""
            },
            "colorscale": [
             [
              0,
              "#0d0887"
             ],
             [
              0.1111111111111111,
              "#46039f"
             ],
             [
              0.2222222222222222,
              "#7201a8"
             ],
             [
              0.3333333333333333,
              "#9c179e"
             ],
             [
              0.4444444444444444,
              "#bd3786"
             ],
             [
              0.5555555555555556,
              "#d8576b"
             ],
             [
              0.6666666666666666,
              "#ed7953"
             ],
             [
              0.7777777777777778,
              "#fb9f3a"
             ],
             [
              0.8888888888888888,
              "#fdca26"
             ],
             [
              1,
              "#f0f921"
             ]
            ],
            "type": "surface"
           }
          ],
          "table": [
           {
            "cells": {
             "fill": {
              "color": "#EBF0F8"
             },
             "line": {
              "color": "white"
             }
            },
            "header": {
             "fill": {
              "color": "#C8D4E3"
             },
             "line": {
              "color": "white"
             }
            },
            "type": "table"
           }
          ]
         },
         "layout": {
          "annotationdefaults": {
           "arrowcolor": "#2a3f5f",
           "arrowhead": 0,
           "arrowwidth": 1
          },
          "autotypenumbers": "strict",
          "coloraxis": {
           "colorbar": {
            "outlinewidth": 0,
            "ticks": ""
           }
          },
          "colorscale": {
           "diverging": [
            [
             0,
             "#8e0152"
            ],
            [
             0.1,
             "#c51b7d"
            ],
            [
             0.2,
             "#de77ae"
            ],
            [
             0.3,
             "#f1b6da"
            ],
            [
             0.4,
             "#fde0ef"
            ],
            [
             0.5,
             "#f7f7f7"
            ],
            [
             0.6,
             "#e6f5d0"
            ],
            [
             0.7,
             "#b8e186"
            ],
            [
             0.8,
             "#7fbc41"
            ],
            [
             0.9,
             "#4d9221"
            ],
            [
             1,
             "#276419"
            ]
           ],
           "sequential": [
            [
             0,
             "#0d0887"
            ],
            [
             0.1111111111111111,
             "#46039f"
            ],
            [
             0.2222222222222222,
             "#7201a8"
            ],
            [
             0.3333333333333333,
             "#9c179e"
            ],
            [
             0.4444444444444444,
             "#bd3786"
            ],
            [
             0.5555555555555556,
             "#d8576b"
            ],
            [
             0.6666666666666666,
             "#ed7953"
            ],
            [
             0.7777777777777778,
             "#fb9f3a"
            ],
            [
             0.8888888888888888,
             "#fdca26"
            ],
            [
             1,
             "#f0f921"
            ]
           ],
           "sequentialminus": [
            [
             0,
             "#0d0887"
            ],
            [
             0.1111111111111111,
             "#46039f"
            ],
            [
             0.2222222222222222,
             "#7201a8"
            ],
            [
             0.3333333333333333,
             "#9c179e"
            ],
            [
             0.4444444444444444,
             "#bd3786"
            ],
            [
             0.5555555555555556,
             "#d8576b"
            ],
            [
             0.6666666666666666,
             "#ed7953"
            ],
            [
             0.7777777777777778,
             "#fb9f3a"
            ],
            [
             0.8888888888888888,
             "#fdca26"
            ],
            [
             1,
             "#f0f921"
            ]
           ]
          },
          "colorway": [
           "#636efa",
           "#EF553B",
           "#00cc96",
           "#ab63fa",
           "#FFA15A",
           "#19d3f3",
           "#FF6692",
           "#B6E880",
           "#FF97FF",
           "#FECB52"
          ],
          "font": {
           "color": "#2a3f5f"
          },
          "geo": {
           "bgcolor": "white",
           "lakecolor": "white",
           "landcolor": "#E5ECF6",
           "showlakes": true,
           "showland": true,
           "subunitcolor": "white"
          },
          "hoverlabel": {
           "align": "left"
          },
          "hovermode": "closest",
          "mapbox": {
           "style": "light"
          },
          "paper_bgcolor": "white",
          "plot_bgcolor": "#E5ECF6",
          "polar": {
           "angularaxis": {
            "gridcolor": "white",
            "linecolor": "white",
            "ticks": ""
           },
           "bgcolor": "#E5ECF6",
           "radialaxis": {
            "gridcolor": "white",
            "linecolor": "white",
            "ticks": ""
           }
          },
          "scene": {
           "xaxis": {
            "backgroundcolor": "#E5ECF6",
            "gridcolor": "white",
            "gridwidth": 2,
            "linecolor": "white",
            "showbackground": true,
            "ticks": "",
            "zerolinecolor": "white"
           },
           "yaxis": {
            "backgroundcolor": "#E5ECF6",
            "gridcolor": "white",
            "gridwidth": 2,
            "linecolor": "white",
            "showbackground": true,
            "ticks": "",
            "zerolinecolor": "white"
           },
           "zaxis": {
            "backgroundcolor": "#E5ECF6",
            "gridcolor": "white",
            "gridwidth": 2,
            "linecolor": "white",
            "showbackground": true,
            "ticks": "",
            "zerolinecolor": "white"
           }
          },
          "shapedefaults": {
           "line": {
            "color": "#2a3f5f"
           }
          },
          "ternary": {
           "aaxis": {
            "gridcolor": "white",
            "linecolor": "white",
            "ticks": ""
           },
           "baxis": {
            "gridcolor": "white",
            "linecolor": "white",
            "ticks": ""
           },
           "bgcolor": "#E5ECF6",
           "caxis": {
            "gridcolor": "white",
            "linecolor": "white",
            "ticks": ""
           }
          },
          "title": {
           "x": 0.05
          },
          "xaxis": {
           "automargin": true,
           "gridcolor": "white",
           "linecolor": "white",
           "ticks": "",
           "title": {
            "standoff": 15
           },
           "zerolinecolor": "white",
           "zerolinewidth": 2
          },
          "yaxis": {
           "automargin": true,
           "gridcolor": "white",
           "linecolor": "white",
           "ticks": "",
           "title": {
            "standoff": 15
           },
           "zerolinecolor": "white",
           "zerolinewidth": 2
          }
         }
        },
        "title": {
         "text": "Contribution to Popularity - Social Media Vs Streaming Platforms"
        },
        "width": 1000
       }
      },
      "image/png": "[encoded data removed]",
      "text/html": [
       "<div>                            <div id=\"45097a58-3aa2-4b67-9067-3e4efa9f0b36\" class=\"plotly-graph-div\" style=\"height:800px; width:1000px;\"></div>            <script type=\"text/javascript\">                require([\"plotly\"], function(Plotly) {                    window.PLOTLYENV=window.PLOTLYENV || {};                                    if (document.getElementById(\"45097a58-3aa2-4b67-9067-3e4efa9f0b36\")) {                    Plotly.newPlot(                        \"45097a58-3aa2-4b67-9067-3e4efa9f0b36\",                        [{\"branchvalues\":\"total\",\"customdata\":[[16.0],[73.0],[62.0],[85.0],[77.0],[79.0],[69.0],[12.0],[62.0],[77.0],[68.0],[28.0],[78.0],[80.0],[87.0],[83.0],[87.0],[78.0],[19.0],[79.0],[86.0],[75.0],[83.0],[78.0],[80.0],[71.0],[82.0],[85.0],[2.0],[86.0],[81.0],[78.0],[1.0],[84.0],[3.0],[74.0],[16.0],[78.0],[1.0],[40.0],[86.0],[87.0],[1.0],[80.0],[85.0],[74.0],[84.0],[76.0],[43.0],[83.0],[86.0],[74.0],[90.0],[78.0],[4.0],[6.0],[84.0],[9.0],[13.0],[77.0],[25.0],[86.0],[80.0],[83.0],[83.0],[87.0],[96.0],[82.0],[87.0],[89.0],[12.0],[88.0],[92.0],[91.0],[86.0],[88.0],[92.0],[16.0],[73.0],[62.0],[85.0],[77.0],[79.0],[69.0],[12.0],[62.0],[77.0],[68.0],[28.0],[78.0],[80.0],[87.0],[83.0],[87.0],[78.0],[19.0],[79.0],[86.0],[75.0],[83.0],[78.0],[80.0],[71.0],[82.0],[85.0],[2.0],[86.0],[81.0],[78.0],[1.0],[84.0],[3.0],[74.0],[16.0],[78.0],[1.0],[40.0],[86.0],[87.0],[1.0],[80.0],[85.0],[74.0],[84.0],[76.0],[43.0],[83.0],[86.0],[74.0],[90.0],[78.0],[4.0],[6.0],[84.0],[9.0],[13.0],[77.0],[25.0],[86.0],[80.0],[83.0],[83.0],[87.0],[96.0],[82.0],[87.0],[89.0],[12.0],[88.0],[92.0],[91.0],[86.0],[88.0],[92.0],[16.0],[73.0],[62.0],[85.0],[77.0],[79.0],[69.0],[12.0],[62.0],[77.0],[68.0],[28.0],[78.0],[80.0],[87.0],[83.0],[87.0],[78.0],[19.0],[79.0],[86.0],[75.0],[83.0],[78.0],[80.0],[71.0],[82.0],[85.0],[2.0],[86.0],[81.0],[78.0],[1.0],[84.0],[3.0],[74.0],[16.0],[78.0],[1.0],[40.0],[86.0],[87.0],[1.0],[80.0],[85.0],[74.0],[84.0],[76.0],[43.0],[83.0],[86.0],[74.0],[90.0],[78.0],[4.0],[6.0],[84.0],[9.0],[13.0],[77.0],[25.0],[86.0],[80.0],[83.0],[83.0],[87.0],[96.0],[82.0],[87.0],[89.0],[12.0],[88.0],[92.0],[91.0],[86.0],[88.0],[92.0],[73.0],[62.0],[85.0],[77.0],[79.0],[69.0],[12.0],[62.0],[77.0],[68.0],[78.0],[87.0],[83.0],[87.0],[78.0],[19.0],[79.0],[86.0],[75.0],[83.0],[78.0],[80.0],[71.0],[82.0],[85.0],[86.0],[81.0],[78.0],[84.0],[78.0],[40.0],[86.0],[87.0],[80.0],[85.0],[74.0],[84.0],[76.0],[83.0],[86.0],[74.0],[90.0],[78.0],[84.0],[9.0],[77.0],[86.0],[80.0],[83.0],[83.0],[87.0],[96.0],[82.0],[87.0],[89.0],[88.0],[92.0],[91.0],[86.0],[88.0],[92.0],[16.0],[73.0],[62.0],[85.0],[77.0],[79.0],[69.0],[12.0],[62.0],[77.0],[68.0],[28.0],[78.0],[80.0],[87.0],[83.0],[87.0],[78.0],[19.0],[79.0],[86.0],[75.0],[83.0],[78.0],[80.0],[71.0],[82.0],[85.0],[2.0],[86.0],[81.0],[78.0],[1.0],[84.0],[3.0],[74.0],[16.0],[78.0],[1.0],[40.0],[86.0],[87.0],[1.0],[80.0],[85.0],[74.0],[84.0],[76.0],[43.0],[83.0],[86.0],[74.0],[90.0],[78.0],[4.0],[6.0],[84.0],[9.0],[13.0],[77.0],[25.0],[86.0],[80.0],[83.0],[83.0],[87.0],[96.0],[82.0],[87.0],[89.0],[12.0],[88.0],[92.0],[91.0],[86.0],[88.0],[92.0],[16.0],[73.0],[62.0],[85.0],[77.0],[79.0],[69.0],[12.0],[62.0],[77.0],[68.0],[28.0],[78.0],[80.0],[87.0],[83.0],[87.0],[78.0],[19.0],[79.0],[86.0],[75.0],[83.0],[78.0],[80.0],[71.0],[82.0],[85.0],[2.0],[86.0],[81.0],[78.0],[1.0],[84.0],[3.0],[74.0],[16.0],[78.0],[1.0],[40.0],[86.0],[87.0],[1.0],[80.0],[85.0],[74.0],[84.0],[76.0],[43.0],[83.0],[86.0],[74.0],[90.0],[78.0],[4.0],[6.0],[84.0],[9.0],[13.0],[77.0],[25.0],[86.0],[80.0],[83.0],[83.0],[87.0],[96.0],[82.0],[87.0],[89.0],[12.0],[88.0],[92.0],[91.0],[86.0],[88.0],[92.0],[16.0],[73.0],[62.0],[85.0],[77.0],[79.0],[69.0],[12.0],[62.0],[77.0],[68.0],[28.0],[78.0],[80.0],[87.0],[83.0],[87.0],[78.0],[19.0],[79.0],[86.0],[75.0],[83.0],[78.0],[80.0],[71.0],[82.0],[85.0],[2.0],[86.0],[81.0],[78.0],[1.0],[84.0],[3.0],[74.0],[16.0],[78.0],[1.0],[40.0],[86.0],[87.0],[1.0],[80.0],[85.0],[74.0],[84.0],[76.0],[43.0],[83.0],[86.0],[74.0],[90.0],[78.0],[4.0],[6.0],[84.0],[9.0],[13.0],[77.0],[25.0],[86.0],[80.0],[83.0],[83.0],[87.0],[96.0],[82.0],[87.0],[89.0],[12.0],[88.0],[92.0],[91.0],[86.0],[88.0],[92.0],[16.0],[73.0],[62.0],[85.0],[77.0],[79.0],[69.0],[12.0],[62.0],[77.0],[68.0],[28.0],[78.0],[80.0],[87.0],[83.0],[87.0],[78.0],[19.0],[79.0],[86.0],[75.0],[83.0],[78.0],[80.0],[71.0],[82.0],[85.0],[2.0],[86.0],[81.0],[78.0],[1.0],[84.0],[3.0],[74.0],[16.0],[78.0],[1.0],[39.99999999999999],[86.0],[87.0],[1.0],[80.0],[85.0],[74.0],[84.0],[76.0],[43.0],[83.0],[86.0],[74.0],[90.0],[78.0],[4.0],[6.0],[84.0],[9.0],[13.0],[77.0],[25.0],[86.0],[80.0],[83.0],[83.0],[87.0],[96.0],[82.0],[87.0],[89.0],[12.0],[88.0],[92.0],[91.0],[86.0],[88.0],[92.0],[96.0],[1.0],[2.0],[74.0],[6.0],[3.0],[86.0],[80.0],[84.0],[90.0],[77.0],[74.0],[80.0],[73.0],[16.0],[78.0],[74.0],[71.0],[86.0],[86.0],[62.0],[89.0],[1.0],[75.0],[82.42860748851184],[79.0],[84.0],[91.0],[83.0],[12.0],[68.0],[86.0],[92.0],[83.0],[43.0],[88.0],[87.0],[1.0],[78.0],[78.0],[86.0],[28.0],[13.0],[92.0],[78.0],[83.0],[62.0],[25.0],[85.0],[83.0],[82.0],[82.0],[81.0],[87.0],[39.99999999999999],[79.0],[78.0],[85.0],[87.0],[9.0],[77.0],[78.0],[4.0],[19.0],[85.0],[76.0],[84.0],[69.0],[80.0],[16.0],[83.0],[87.0],[12.0],[86.0],[77.0],[87.0]],\"domain\":{\"x\":[0.0,1.0],\"y\":[0.0,1.0]},\"hovertemplate\":\"labels=%{label}\\u003cbr\\u003eCounts & Likes=%{value}\\u003cbr\\u003eparent=%{parent}\\u003cbr\\u003eid=%{id}\\u003cbr\\u003eSpotify Popularity=%{color}\\u003cextra\\u003e\\u003c\\u002fextra\\u003e\",\"ids\":[\"Voz Emplumada del Monte\\u002f100.3\\u002fAmazon Playlist Count\",\"Con Calma\\u002f101.4\\u002fAmazon Playlist Count\",\"Favorite Song\\u002f101.4\\u002fAmazon Playlist Count\",\"Si No Quieres No\\u002f101.4\\u002fAmazon Playlist Count\",\"rockstar (feat. 21 Savage)\\u002f101.8\\u002fAmazon Playlist Count\",\"How Sweet\\u002f102.3\\u002fAmazon Playlist Count\",\"Used To Be Young\\u002f102.4\\u002fAmazon Playlist Count\",\"Illusion\\u002f103.1\\u002fAmazon Playlist Count\",\"Panda\\u002f104.2\\u002fAmazon Playlist Count\",\"Superhero (Heroes & Villains)\\u002f104.4\\u002fAmazon Playlist Count\",\"KING KONG\\u002f104.5\\u002fAmazon Playlist Count\",\"Milf Song\\u002f104.5\\u002fAmazon Playlist Count\",\"Shallow\\u002f106.9\\u002fAmazon Playlist Count\",\"Vois sur ton chemin - Techno Mix\\u002f107.8\\u002fAmazon Playlist Count\",\"Whatever She Wants\\u002f108.4\\u002fAmazon Playlist Count\",\"Whatever\\u002f109.0\\u002fAmazon Playlist Count\",\"Stargazing\\u002f109.8\\u002fAmazon Playlist Count\",\"Ojitos Lindos\\u002f110.7\\u002fAmazon Playlist Count\",\"This Wish - From \\\"Wish\\\"\\u002f110.9\\u002fAmazon Playlist Count\",\"Seg\\u00ef\\u00bf\\u00bd\\u00ef\\u00bf\\u00bdn Qu\\u002f111.8\\u002fAmazon Playlist Count\",\"LUNA\\u002f112.6\\u002fAmazon Playlist Count\",\"Havana (feat. Young Thug)\\u002f112.8\\u002fAmazon Playlist Count\",\"PERRO NEGRO\\u002f114.2\\u002fAmazon Playlist Count\",\"EL AMOR DE SU VIDA\\u002f115.9\\u002fAmazon Playlist Count\",\"Circles\\u002f116.0\\u002fAmazon Playlist Count\",\"Eyes Closed\\u002f116.6\\u002fAmazon Playlist Count\",\"QLONA\\u002f120.7\\u002fAmazon Playlist Count\",\"Too Sweet\\u002f121.2\\u002fAmazon Playlist Count\",\"Again\\u002f122.5\\u002fAmazon Playlist Count\",\"Family Matters\\u002f122.7\\u002fAmazon Playlist Count\",\"SPOT!\\u002f122.8\\u002fAmazon Playlist Count\",\"Lucid Dreams\\u002f123.9\\u002fAmazon Playlist Count\",\"Abc\\u002f126.6\\u002fAmazon Playlist Count\",\"I Don't Wanna Wait\\u002f126.9\\u002fAmazon Playlist Count\",\"Back\\u002f128.0\\u002fAmazon Playlist Count\",\"Casca de Bala\\u002f128.5\\u002fAmazon Playlist Count\",\"Drained of Color\\u002f134.0\\u002fAmazon Playlist Count\",\"MI EX TEN\\u00ef\\u00bf\\u00bd\\u00ef\\u00bf\\u00bdA RA\\u002f136.2\\u002fAmazon Playlist Count\",\"Losing Interest - Original Mix\\u002f136.4\\u002fAmazon Playlist Count\",\"Save Your Tears - Live\\u002f137.7\\u002fAmazon Playlist Count\",\"FE!N\\u002f137.8\\u002fAmazon Playlist Count\",\"Saturn\\u002f142.8\\u002fAmazon Playlist Count\",\"Hands\\u002f143.9\\u002fAmazon Playlist Count\",\"Bling-Bang-Bang-Born\\u002f144.0\\u002fAmazon Playlist Count\",\"Pedro\\u002f144.6\\u002fAmazon Playlist Count\",\"Armageddon\\u002f147.4\\u002fAmazon Playlist Count\",\"Type Shit\\u002f148.1\\u002fAmazon Playlist Count\",\"Training Season\\u002f148.9\\u002fAmazon Playlist Count\",\"Laxed (Siren Beat)\\u002f150.5\\u002fAmazon Playlist Count\",\"La Diabla\\u002f155.9\\u002fAmazon Playlist Count\",\"Magnetic\\u002f161.0\\u002fAmazon Playlist Count\",\"Ella Baila Sola\\u002f166.5\\u002fAmazon Playlist Count\",\"CHIHIRO\\u002f167.8\\u002fAmazon Playlist Count\",\"TQG\\u002f167.8\\u002fAmazon Playlist Count\",\"The Way We Move - Extended Mix\\u002f173.6\\u002fAmazon Playlist Count\",\"Babba\\u002f176.2\\u002fAmazon Playlist Count\",\"CARNIVAL\\u002f179.6\\u002fAmazon Playlist Count\",\"Stereo Love - Melodic\\u002f187.9\\u002fAmazon Playlist Count\",\"Mitu\\u002f194.3\\u002fAmazon Playlist Count\",\"Calm Down (with Selena Gomez)\\u002f198.0\\u002fAmazon Playlist Count\",\"Panda Basi\\u002f200.3\\u002fAmazon Playlist Count\",\"euphoria\\u002f202.1\\u002fAmazon Playlist Count\",\"Houdini\\u002f205.1\\u002fAmazon Playlist Count\",\"Please Please Please\\u002f205.7\\u002fAmazon Playlist Count\",\"I'm Good (Blue)\\u002f209.6\\u002fAmazon Playlist Count\",\"Lose Control\\u002f224.1\\u002fAmazon Playlist Count\",\"A Bar Song (Tipsy)\\u002f226.4\\u002fAmazon Playlist Count\",\"SHEESH\\u002f237.5\\u002fAmazon Playlist Count\",\"we can't be friends (wait for your love)\\u002f262.8\\u002fAmazon Playlist Count\",\"Fortnight (feat. Post Malone)\\u002f297.6\\u002fAmazon Playlist Count\",\"bathroom floor\\u002f301.6\\u002fAmazon Playlist Count\",\"Like That\\u002f308.2\\u002fAmazon Playlist Count\",\"LUNCH\\u002f316.3\\u002fAmazon Playlist Count\",\"I Had Some Help (feat. Morgan Wallen)\\u002f322.1\\u002fAmazon Playlist Count\",\"Beautiful Things\\u002f407.2\\u002fAmazon Playlist Count\",\"Houdini\\u002f423.3\\u002fAmazon Playlist Count\",\"Not Like Us\\u002f545.9\\u002fAmazon Playlist Count\",\"Voz Emplumada del Monte\\u002f100.3\\u002fApple Music Playlist Count\",\"Con Calma\\u002f101.4\\u002fApple Music Playlist Count\",\"Favorite Song\\u002f101.4\\u002fApple Music Playlist Count\",\"Si No Quieres No\\u002f101.4\\u002fApple Music Playlist Count\",\"rockstar (feat. 21 Savage)\\u002f101.8\\u002fApple Music Playlist Count\",\"How Sweet\\u002f102.3\\u002fApple Music Playlist Count\",\"Used To Be Young\\u002f102.4\\u002fApple Music Playlist Count\",\"Illusion\\u002f103.1\\u002fApple Music Playlist Count\",\"Panda\\u002f104.2\\u002fApple Music Playlist Count\",\"Superhero (Heroes & Villains)\\u002f104.4\\u002fApple Music Playlist Count\",\"KING KONG\\u002f104.5\\u002fApple Music Playlist Count\",\"Milf Song\\u002f104.5\\u002fApple Music Playlist Count\",\"Shallow\\u002f106.9\\u002fApple Music Playlist Count\",\"Vois sur ton chemin - Techno Mix\\u002f107.8\\u002fApple Music Playlist Count\",\"Whatever She Wants\\u002f108.4\\u002fApple Music Playlist Count\",\"Whatever\\u002f109.0\\u002fApple Music Playlist Count\",\"Stargazing\\u002f109.8\\u002fApple Music Playlist Count\",\"Ojitos Lindos\\u002f110.7\\u002fApple Music Playlist Count\",\"This Wish - From \\\"Wish\\\"\\u002f110.9\\u002fApple Music Playlist Count\",\"Seg\\u00ef\\u00bf\\u00bd\\u00ef\\u00bf\\u00bdn Qu\\u002f111.8\\u002fApple Music Playlist Count\",\"LUNA\\u002f112.6\\u002fApple Music Playlist Count\",\"Havana (feat. Young Thug)\\u002f112.8\\u002fApple Music Playlist Count\",\"PERRO NEGRO\\u002f114.2\\u002fApple Music Playlist Count\",\"EL AMOR DE SU VIDA\\u002f115.9\\u002fApple Music Playlist Count\",\"Circles\\u002f116.0\\u002fApple Music Playlist Count\",\"Eyes Closed\\u002f116.6\\u002fApple Music Playlist Count\",\"QLONA\\u002f120.7\\u002fApple Music Playlist Count\",\"Too Sweet\\u002f121.2\\u002fApple Music Playlist Count\",\"Again\\u002f122.5\\u002fApple Music Playlist Count\",\"Family Matters\\u002f122.7\\u002fApple Music Playlist Count\",\"SPOT!\\u002f122.8\\u002fApple Music Playlist Count\",\"Lucid Dreams\\u002f123.9\\u002fApple Music Playlist Count\",\"Abc\\u002f126.6\\u002fApple Music Playlist Count\",\"I Don't Wanna Wait\\u002f126.9\\u002fApple Music Playlist Count\",\"Back\\u002f128.0\\u002fApple Music Playlist Count\",\"Casca de Bala\\u002f128.5\\u002fApple Music Playlist Count\",\"Drained of Color\\u002f134.0\\u002fApple Music Playlist Count\",\"MI EX TEN\\u00ef\\u00bf\\u00bd\\u00ef\\u00bf\\u00bdA RA\\u002f136.2\\u002fApple Music Playlist Count\",\"Losing Interest - Original Mix\\u002f136.4\\u002fApple Music Playlist Count\",\"Save Your Tears - Live\\u002f137.7\\u002fApple Music Playlist Count\",\"FE!N\\u002f137.8\\u002fApple Music Playlist Count\",\"Saturn\\u002f142.8\\u002fApple Music Playlist Count\",\"Hands\\u002f143.9\\u002fApple Music Playlist Count\",\"Bling-Bang-Bang-Born\\u002f144.0\\u002fApple Music Playlist Count\",\"Pedro\\u002f144.6\\u002fApple Music Playlist Count\",\"Armageddon\\u002f147.4\\u002fApple Music Playlist Count\",\"Type Shit\\u002f148.1\\u002fApple Music Playlist Count\",\"Training Season\\u002f148.9\\u002fApple Music Playlist Count\",\"Laxed (Siren Beat)\\u002f150.5\\u002fApple Music Playlist Count\",\"La Diabla\\u002f155.9\\u002fApple Music Playlist Count\",\"Magnetic\\u002f161.0\\u002fApple Music Playlist Count\",\"Ella Baila Sola\\u002f166.5\\u002fApple Music Playlist Count\",\"CHIHIRO\\u002f167.8\\u002fApple Music Playlist Count\",\"TQG\\u002f167.8\\u002fApple Music Playlist Count\",\"The Way We Move - Extended Mix\\u002f173.6\\u002fApple Music Playlist Count\",\"Babba\\u002f176.2\\u002fApple Music Playlist Count\",\"CARNIVAL\\u002f179.6\\u002fApple Music Playlist Count\",\"Stereo Love - Melodic\\u002f187.9\\u002fApple Music Playlist Count\",\"Mitu\\u002f194.3\\u002fApple Music Playlist Count\",\"Calm Down (with Selena Gomez)\\u002f198.0\\u002fApple Music Playlist Count\",\"Panda Basi\\u002f200.3\\u002fApple Music Playlist Count\",\"euphoria\\u002f202.1\\u002fApple Music Playlist Count\",\"Houdini\\u002f205.1\\u002fApple Music Playlist Count\",\"Please Please Please\\u002f205.7\\u002fApple Music Playlist Count\",\"I'm Good (Blue)\\u002f209.6\\u002fApple Music Playlist Count\",\"Lose Control\\u002f224.1\\u002fApple Music Playlist Count\",\"A Bar Song (Tipsy)\\u002f226.4\\u002fApple Music Playlist Count\",\"SHEESH\\u002f237.5\\u002fApple Music Playlist Count\",\"we can't be friends (wait for your love)\\u002f262.8\\u002fApple Music Playlist Count\",\"Fortnight (feat. Post Malone)\\u002f297.6\\u002fApple Music Playlist Count\",\"bathroom floor\\u002f301.6\\u002fApple Music Playlist Count\",\"Like That\\u002f308.2\\u002fApple Music Playlist Count\",\"LUNCH\\u002f316.3\\u002fApple Music Playlist Count\",\"I Had Some Help (feat. Morgan Wallen)\\u002f322.1\\u002fApple Music Playlist Count\",\"Beautiful Things\\u002f407.2\\u002fApple Music Playlist Count\",\"Houdini\\u002f423.3\\u002fApple Music Playlist Count\",\"Not Like Us\\u002f545.9\\u002fApple Music Playlist Count\",\"Voz Emplumada del Monte\\u002f100.3\\u002fDeezer Playlist Count\",\"Con Calma\\u002f101.4\\u002fDeezer Playlist Count\",\"Favorite Song\\u002f101.4\\u002fDeezer Playlist Count\",\"Si No Quieres No\\u002f101.4\\u002fDeezer Playlist Count\",\"rockstar (feat. 21 Savage)\\u002f101.8\\u002fDeezer Playlist Count\",\"How Sweet\\u002f102.3\\u002fDeezer Playlist Count\",\"Used To Be Young\\u002f102.4\\u002fDeezer Playlist Count\",\"Illusion\\u002f103.1\\u002fDeezer Playlist Count\",\"Panda\\u002f104.2\\u002fDeezer Playlist Count\",\"Superhero (Heroes & Villains)\\u002f104.4\\u002fDeezer Playlist Count\",\"KING KONG\\u002f104.5\\u002fDeezer Playlist Count\",\"Milf Song\\u002f104.5\\u002fDeezer Playlist Count\",\"Shallow\\u002f106.9\\u002fDeezer Playlist Count\",\"Vois sur ton chemin - Techno Mix\\u002f107.8\\u002fDeezer Playlist Count\",\"Whatever She Wants\\u002f108.4\\u002fDeezer Playlist Count\",\"Whatever\\u002f109.0\\u002fDeezer Playlist Count\",\"Stargazing\\u002f109.8\\u002fDeezer Playlist Count\",\"Ojitos Lindos\\u002f110.7\\u002fDeezer Playlist Count\",\"This Wish - From \\\"Wish\\\"\\u002f110.9\\u002fDeezer Playlist Count\",\"Seg\\u00ef\\u00bf\\u00bd\\u00ef\\u00bf\\u00bdn Qu\\u002f111.8\\u002fDeezer Playlist Count\",\"LUNA\\u002f112.6\\u002fDeezer Playlist Count\",\"Havana (feat. Young Thug)\\u002f112.8\\u002fDeezer Playlist Count\",\"PERRO NEGRO\\u002f114.2\\u002fDeezer Playlist Count\",\"EL AMOR DE SU VIDA\\u002f115.9\\u002fDeezer Playlist Count\",\"Circles\\u002f116.0\\u002fDeezer Playlist Count\",\"Eyes Closed\\u002f116.6\\u002fDeezer Playlist Count\",\"QLONA\\u002f120.7\\u002fDeezer Playlist Count\",\"Too Sweet\\u002f121.2\\u002fDeezer Playlist Count\",\"Again\\u002f122.5\\u002fDeezer Playlist Count\",\"Family Matters\\u002f122.7\\u002fDeezer Playlist Count\",\"SPOT!\\u002f122.8\\u002fDeezer Playlist Count\",\"Lucid Dreams\\u002f123.9\\u002fDeezer Playlist Count\",\"Abc\\u002f126.6\\u002fDeezer Playlist Count\",\"I Don't Wanna Wait\\u002f126.9\\u002fDeezer Playlist Count\",\"Back\\u002f128.0\\u002fDeezer Playlist Count\",\"Casca de Bala\\u002f128.5\\u002fDeezer Playlist Count\",\"Drained of Color\\u002f134.0\\u002fDeezer Playlist Count\",\"MI EX TEN\\u00ef\\u00bf\\u00bd\\u00ef\\u00bf\\u00bdA RA\\u002f136.2\\u002fDeezer Playlist Count\",\"Losing Interest - Original Mix\\u002f136.4\\u002fDeezer Playlist Count\",\"Save Your Tears - Live\\u002f137.7\\u002fDeezer Playlist Count\",\"FE!N\\u002f137.8\\u002fDeezer Playlist Count\",\"Saturn\\u002f142.8\\u002fDeezer Playlist Count\",\"Hands\\u002f143.9\\u002fDeezer Playlist Count\",\"Bling-Bang-Bang-Born\\u002f144.0\\u002fDeezer Playlist Count\",\"Pedro\\u002f144.6\\u002fDeezer Playlist Count\",\"Armageddon\\u002f147.4\\u002fDeezer Playlist Count\",\"Type Shit\\u002f148.1\\u002fDeezer Playlist Count\",\"Training Season\\u002f148.9\\u002fDeezer Playlist Count\",\"Laxed (Siren Beat)\\u002f150.5\\u002fDeezer Playlist Count\",\"La Diabla\\u002f155.9\\u002fDeezer Playlist Count\",\"Magnetic\\u002f161.0\\u002fDeezer Playlist Count\",\"Ella Baila Sola\\u002f166.5\\u002fDeezer Playlist Count\",\"CHIHIRO\\u002f167.8\\u002fDeezer Playlist Count\",\"TQG\\u002f167.8\\u002fDeezer Playlist Count\",\"The Way We Move - Extended Mix\\u002f173.6\\u002fDeezer Playlist Count\",\"Babba\\u002f176.2\\u002fDeezer Playlist Count\",\"CARNIVAL\\u002f179.6\\u002fDeezer Playlist Count\",\"Stereo Love - Melodic\\u002f187.9\\u002fDeezer Playlist Count\",\"Mitu\\u002f194.3\\u002fDeezer Playlist Count\",\"Calm Down (with Selena Gomez)\\u002f198.0\\u002fDeezer Playlist Count\",\"Panda Basi\\u002f200.3\\u002fDeezer Playlist Count\",\"euphoria\\u002f202.1\\u002fDeezer Playlist Count\",\"Houdini\\u002f205.1\\u002fDeezer Playlist Count\",\"Please Please Please\\u002f205.7\\u002fDeezer Playlist Count\",\"I'm Good (Blue)\\u002f209.6\\u002fDeezer Playlist Count\",\"Lose Control\\u002f224.1\\u002fDeezer Playlist Count\",\"A Bar Song (Tipsy)\\u002f226.4\\u002fDeezer Playlist Count\",\"SHEESH\\u002f237.5\\u002fDeezer Playlist Count\",\"we can't be friends (wait for your love)\\u002f262.8\\u002fDeezer Playlist Count\",\"Fortnight (feat. Post Malone)\\u002f297.6\\u002fDeezer Playlist Count\",\"bathroom floor\\u002f301.6\\u002fDeezer Playlist Count\",\"Like That\\u002f308.2\\u002fDeezer Playlist Count\",\"LUNCH\\u002f316.3\\u002fDeezer Playlist Count\",\"I Had Some Help (feat. Morgan Wallen)\\u002f322.1\\u002fDeezer Playlist Count\",\"Beautiful Things\\u002f407.2\\u002fDeezer Playlist Count\",\"Houdini\\u002f423.3\\u002fDeezer Playlist Count\",\"Not Like Us\\u002f545.9\\u002fDeezer Playlist Count\",\"Con Calma\\u002f101.4\\u002fPandora Track Stations\",\"Favorite Song\\u002f101.4\\u002fPandora Track Stations\",\"Si No Quieres No\\u002f101.4\\u002fPandora Track Stations\",\"rockstar (feat. 21 Savage)\\u002f101.8\\u002fPandora Track Stations\",\"How Sweet\\u002f102.3\\u002fPandora Track Stations\",\"Used To Be Young\\u002f102.4\\u002fPandora Track Stations\",\"Illusion\\u002f103.1\\u002fPandora Track Stations\",\"Panda\\u002f104.2\\u002fPandora Track Stations\",\"Superhero (Heroes & Villains)\\u002f104.4\\u002fPandora Track Stations\",\"KING KONG\\u002f104.5\\u002fPandora Track Stations\",\"Shallow\\u002f106.9\\u002fPandora Track Stations\",\"Whatever She Wants\\u002f108.4\\u002fPandora Track Stations\",\"Whatever\\u002f109.0\\u002fPandora Track Stations\",\"Stargazing\\u002f109.8\\u002fPandora Track Stations\",\"Ojitos Lindos\\u002f110.7\\u002fPandora Track Stations\",\"This Wish - From \\\"Wish\\\"\\u002f110.9\\u002fPandora Track Stations\",\"Seg\\u00ef\\u00bf\\u00bd\\u00ef\\u00bf\\u00bdn Qu\\u002f111.8\\u002fPandora Track Stations\",\"LUNA\\u002f112.6\\u002fPandora Track Stations\",\"Havana (feat. Young Thug)\\u002f112.8\\u002fPandora Track Stations\",\"PERRO NEGRO\\u002f114.2\\u002fPandora Track Stations\",\"EL AMOR DE SU VIDA\\u002f115.9\\u002fPandora Track Stations\",\"Circles\\u002f116.0\\u002fPandora Track Stations\",\"Eyes Closed\\u002f116.6\\u002fPandora Track Stations\",\"QLONA\\u002f120.7\\u002fPandora Track Stations\",\"Too Sweet\\u002f121.2\\u002fPandora Track Stations\",\"Family Matters\\u002f122.7\\u002fPandora Track Stations\",\"SPOT!\\u002f122.8\\u002fPandora Track Stations\",\"Lucid Dreams\\u002f123.9\\u002fPandora Track Stations\",\"I Don't Wanna Wait\\u002f126.9\\u002fPandora Track Stations\",\"MI EX TEN\\u00ef\\u00bf\\u00bd\\u00ef\\u00bf\\u00bdA RA\\u002f136.2\\u002fPandora Track Stations\",\"Save Your Tears - Live\\u002f137.7\\u002fPandora Track Stations\",\"FE!N\\u002f137.8\\u002fPandora Track Stations\",\"Saturn\\u002f142.8\\u002fPandora Track Stations\",\"Bling-Bang-Bang-Born\\u002f144.0\\u002fPandora Track Stations\",\"Pedro\\u002f144.6\\u002fPandora Track Stations\",\"Armageddon\\u002f147.4\\u002fPandora Track Stations\",\"Type Shit\\u002f148.1\\u002fPandora Track Stations\",\"Training Season\\u002f148.9\\u002fPandora Track Stations\",\"La Diabla\\u002f155.9\\u002fPandora Track Stations\",\"Magnetic\\u002f161.0\\u002fPandora Track Stations\",\"Ella Baila Sola\\u002f166.5\\u002fPandora Track Stations\",\"CHIHIRO\\u002f167.8\\u002fPandora Track Stations\",\"TQG\\u002f167.8\\u002fPandora Track Stations\",\"CARNIVAL\\u002f179.6\\u002fPandora Track Stations\",\"Stereo Love - Melodic\\u002f187.9\\u002fPandora Track Stations\",\"Calm Down (with Selena Gomez)\\u002f198.0\\u002fPandora Track Stations\",\"euphoria\\u002f202.1\\u002fPandora Track Stations\",\"Houdini\\u002f205.1\\u002fPandora Track Stations\",\"Please Please Please\\u002f205.7\\u002fPandora Track Stations\",\"I'm Good (Blue)\\u002f209.6\\u002fPandora Track Stations\",\"Lose Control\\u002f224.1\\u002fPandora Track Stations\",\"A Bar Song (Tipsy)\\u002f226.4\\u002fPandora Track Stations\",\"SHEESH\\u002f237.5\\u002fPandora Track Stations\",\"we can't be friends (wait for your love)\\u002f262.8\\u002fPandora Track Stations\",\"Fortnight (feat. Post Malone)\\u002f297.6\\u002fPandora Track Stations\",\"Like That\\u002f308.2\\u002fPandora Track Stations\",\"LUNCH\\u002f316.3\\u002fPandora Track Stations\",\"I Had Some Help (feat. Morgan Wallen)\\u002f322.1\\u002fPandora Track Stations\",\"Beautiful Things\\u002f407.2\\u002fPandora Track Stations\",\"Houdini\\u002f423.3\\u002fPandora Track Stations\",\"Not Like Us\\u002f545.9\\u002fPandora Track Stations\",\"Voz Emplumada del Monte\\u002f100.3\\u002fSpotify Playlist Count\",\"Con Calma\\u002f101.4\\u002fSpotify Playlist Count\",\"Favorite Song\\u002f101.4\\u002fSpotify Playlist Count\",\"Si No Quieres No\\u002f101.4\\u002fSpotify Playlist Count\",\"rockstar (feat. 21 Savage)\\u002f101.8\\u002fSpotify Playlist Count\",\"How Sweet\\u002f102.3\\u002fSpotify Playlist Count\",\"Used To Be Young\\u002f102.4\\u002fSpotify Playlist Count\",\"Illusion\\u002f103.1\\u002fSpotify Playlist Count\",\"Panda\\u002f104.2\\u002fSpotify Playlist Count\",\"Superhero (Heroes & Villains)\\u002f104.4\\u002fSpotify Playlist Count\",\"KING KONG\\u002f104.5\\u002fSpotify Playlist Count\",\"Milf Song\\u002f104.5\\u002fSpotify Playlist Count\",\"Shallow\\u002f106.9\\u002fSpotify Playlist Count\",\"Vois sur ton chemin - Techno Mix\\u002f107.8\\u002fSpotify Playlist Count\",\"Whatever She Wants\\u002f108.4\\u002fSpotify Playlist Count\",\"Whatever\\u002f109.0\\u002fSpotify Playlist Count\",\"Stargazing\\u002f109.8\\u002fSpotify Playlist Count\",\"Ojitos Lindos\\u002f110.7\\u002fSpotify Playlist Count\",\"This Wish - From \\\"Wish\\\"\\u002f110.9\\u002fSpotify Playlist Count\",\"Seg\\u00ef\\u00bf\\u00bd\\u00ef\\u00bf\\u00bdn Qu\\u002f111.8\\u002fSpotify Playlist Count\",\"LUNA\\u002f112.6\\u002fSpotify Playlist Count\",\"Havana (feat. Young Thug)\\u002f112.8\\u002fSpotify Playlist Count\",\"PERRO NEGRO\\u002f114.2\\u002fSpotify Playlist Count\",\"EL AMOR DE SU VIDA\\u002f115.9\\u002fSpotify Playlist Count\",\"Circles\\u002f116.0\\u002fSpotify Playlist Count\",\"Eyes Closed\\u002f116.6\\u002fSpotify Playlist Count\",\"QLONA\\u002f120.7\\u002fSpotify Playlist Count\",\"Too Sweet\\u002f121.2\\u002fSpotify Playlist Count\",\"Again\\u002f122.5\\u002fSpotify Playlist Count\",\"Family Matters\\u002f122.7\\u002fSpotify Playlist Count\",\"SPOT!\\u002f122.8\\u002fSpotify Playlist Count\",\"Lucid Dreams\\u002f123.9\\u002fSpotify Playlist Count\",\"Abc\\u002f126.6\\u002fSpotify Playlist Count\",\"I Don't Wanna Wait\\u002f126.9\\u002fSpotify Playlist Count\",\"Back\\u002f128.0\\u002fSpotify Playlist Count\",\"Casca de Bala\\u002f128.5\\u002fSpotify Playlist Count\",\"Drained of Color\\u002f134.0\\u002fSpotify Playlist Count\",\"MI EX TEN\\u00ef\\u00bf\\u00bd\\u00ef\\u00bf\\u00bdA RA\\u002f136.2\\u002fSpotify Playlist Count\",\"Losing Interest - Original Mix\\u002f136.4\\u002fSpotify Playlist Count\",\"Save Your Tears - Live\\u002f137.7\\u002fSpotify Playlist Count\",\"FE!N\\u002f137.8\\u002fSpotify Playlist Count\",\"Saturn\\u002f142.8\\u002fSpotify Playlist Count\",\"Hands\\u002f143.9\\u002fSpotify Playlist Count\",\"Bling-Bang-Bang-Born\\u002f144.0\\u002fSpotify Playlist Count\",\"Pedro\\u002f144.6\\u002fSpotify Playlist Count\",\"Armageddon\\u002f147.4\\u002fSpotify Playlist Count\",\"Type Shit\\u002f148.1\\u002fSpotify Playlist Count\",\"Training Season\\u002f148.9\\u002fSpotify Playlist Count\",\"Laxed (Siren Beat)\\u002f150.5\\u002fSpotify Playlist Count\",\"La Diabla\\u002f155.9\\u002fSpotify Playlist Count\",\"Magnetic\\u002f161.0\\u002fSpotify Playlist Count\",\"Ella Baila Sola\\u002f166.5\\u002fSpotify Playlist Count\",\"CHIHIRO\\u002f167.8\\u002fSpotify Playlist Count\",\"TQG\\u002f167.8\\u002fSpotify Playlist Count\",\"The Way We Move - Extended Mix\\u002f173.6\\u002fSpotify Playlist Count\",\"Babba\\u002f176.2\\u002fSpotify Playlist Count\",\"CARNIVAL\\u002f179.6\\u002fSpotify Playlist Count\",\"Stereo Love - Melodic\\u002f187.9\\u002fSpotify Playlist Count\",\"Mitu\\u002f194.3\\u002fSpotify Playlist Count\",\"Calm Down (with Selena Gomez)\\u002f198.0\\u002fSpotify Playlist Count\",\"Panda Basi\\u002f200.3\\u002fSpotify Playlist Count\",\"euphoria\\u002f202.1\\u002fSpotify Playlist Count\",\"Houdini\\u002f205.1\\u002fSpotify Playlist Count\",\"Please Please Please\\u002f205.7\\u002fSpotify Playlist Count\",\"I'm Good (Blue)\\u002f209.6\\u002fSpotify Playlist Count\",\"Lose Control\\u002f224.1\\u002fSpotify Playlist Count\",\"A Bar Song (Tipsy)\\u002f226.4\\u002fSpotify Playlist Count\",\"SHEESH\\u002f237.5\\u002fSpotify Playlist Count\",\"we can't be friends (wait for your love)\\u002f262.8\\u002fSpotify Playlist Count\",\"Fortnight (feat. Post Malone)\\u002f297.6\\u002fSpotify Playlist Count\",\"bathroom floor\\u002f301.6\\u002fSpotify Playlist Count\",\"Like That\\u002f308.2\\u002fSpotify Playlist Count\",\"LUNCH\\u002f316.3\\u002fSpotify Playlist Count\",\"I Had Some Help (feat. Morgan Wallen)\\u002f322.1\\u002fSpotify Playlist Count\",\"Beautiful Things\\u002f407.2\\u002fSpotify Playlist Count\",\"Houdini\\u002f423.3\\u002fSpotify Playlist Count\",\"Not Like Us\\u002f545.9\\u002fSpotify Playlist Count\",\"Voz Emplumada del Monte\\u002f100.3\\u002fTikTok Likes\",\"Con Calma\\u002f101.4\\u002fTikTok Likes\",\"Favorite Song\\u002f101.4\\u002fTikTok Likes\",\"Si No Quieres No\\u002f101.4\\u002fTikTok Likes\",\"rockstar (feat. 21 Savage)\\u002f101.8\\u002fTikTok Likes\",\"How Sweet\\u002f102.3\\u002fTikTok Likes\",\"Used To Be Young\\u002f102.4\\u002fTikTok Likes\",\"Illusion\\u002f103.1\\u002fTikTok Likes\",\"Panda\\u002f104.2\\u002fTikTok Likes\",\"Superhero (Heroes & Villains)\\u002f104.4\\u002fTikTok Likes\",\"KING KONG\\u002f104.5\\u002fTikTok Likes\",\"Milf Song\\u002f104.5\\u002fTikTok Likes\",\"Shallow\\u002f106.9\\u002fTikTok Likes\",\"Vois sur ton chemin - Techno Mix\\u002f107.8\\u002fTikTok Likes\",\"Whatever She Wants\\u002f108.4\\u002fTikTok Likes\",\"Whatever\\u002f109.0\\u002fTikTok Likes\",\"Stargazing\\u002f109.8\\u002fTikTok Likes\",\"Ojitos Lindos\\u002f110.7\\u002fTikTok Likes\",\"This Wish - From \\\"Wish\\\"\\u002f110.9\\u002fTikTok Likes\",\"Seg\\u00ef\\u00bf\\u00bd\\u00ef\\u00bf\\u00bdn Qu\\u002f111.8\\u002fTikTok Likes\",\"LUNA\\u002f112.6\\u002fTikTok Likes\",\"Havana (feat. Young Thug)\\u002f112.8\\u002fTikTok Likes\",\"PERRO NEGRO\\u002f114.2\\u002fTikTok Likes\",\"EL AMOR DE SU VIDA\\u002f115.9\\u002fTikTok Likes\",\"Circles\\u002f116.0\\u002fTikTok Likes\",\"Eyes Closed\\u002f116.6\\u002fTikTok Likes\",\"QLONA\\u002f120.7\\u002fTikTok Likes\",\"Too Sweet\\u002f121.2\\u002fTikTok Likes\",\"Again\\u002f122.5\\u002fTikTok Likes\",\"Family Matters\\u002f122.7\\u002fTikTok Likes\",\"SPOT!\\u002f122.8\\u002fTikTok Likes\",\"Lucid Dreams\\u002f123.9\\u002fTikTok Likes\",\"Abc\\u002f126.6\\u002fTikTok Likes\",\"I Don't Wanna Wait\\u002f126.9\\u002fTikTok Likes\",\"Back\\u002f128.0\\u002fTikTok Likes\",\"Casca de Bala\\u002f128.5\\u002fTikTok Likes\",\"Drained of Color\\u002f134.0\\u002fTikTok Likes\",\"MI EX TEN\\u00ef\\u00bf\\u00bd\\u00ef\\u00bf\\u00bdA RA\\u002f136.2\\u002fTikTok Likes\",\"Losing Interest - Original Mix\\u002f136.4\\u002fTikTok Likes\",\"Save Your Tears - Live\\u002f137.7\\u002fTikTok Likes\",\"FE!N\\u002f137.8\\u002fTikTok Likes\",\"Saturn\\u002f142.8\\u002fTikTok Likes\",\"Hands\\u002f143.9\\u002fTikTok Likes\",\"Bling-Bang-Bang-Born\\u002f144.0\\u002fTikTok Likes\",\"Pedro\\u002f144.6\\u002fTikTok Likes\",\"Armageddon\\u002f147.4\\u002fTikTok Likes\",\"Type Shit\\u002f148.1\\u002fTikTok Likes\",\"Training Season\\u002f148.9\\u002fTikTok Likes\",\"Laxed (Siren Beat)\\u002f150.5\\u002fTikTok Likes\",\"La Diabla\\u002f155.9\\u002fTikTok Likes\",\"Magnetic\\u002f161.0\\u002fTikTok Likes\",\"Ella Baila Sola\\u002f166.5\\u002fTikTok Likes\",\"CHIHIRO\\u002f167.8\\u002fTikTok Likes\",\"TQG\\u002f167.8\\u002fTikTok Likes\",\"The Way We Move - Extended Mix\\u002f173.6\\u002fTikTok Likes\",\"Babba\\u002f176.2\\u002fTikTok Likes\",\"CARNIVAL\\u002f179.6\\u002fTikTok Likes\",\"Stereo Love - Melodic\\u002f187.9\\u002fTikTok Likes\",\"Mitu\\u002f194.3\\u002fTikTok Likes\",\"Calm Down (with Selena Gomez)\\u002f198.0\\u002fTikTok Likes\",\"Panda Basi\\u002f200.3\\u002fTikTok Likes\",\"euphoria\\u002f202.1\\u002fTikTok Likes\",\"Houdini\\u002f205.1\\u002fTikTok Likes\",\"Please Please Please\\u002f205.7\\u002fTikTok Likes\",\"I'm Good (Blue)\\u002f209.6\\u002fTikTok Likes\",\"Lose Control\\u002f224.1\\u002fTikTok Likes\",\"A Bar Song (Tipsy)\\u002f226.4\\u002fTikTok Likes\",\"SHEESH\\u002f237.5\\u002fTikTok Likes\",\"we can't be friends (wait for your love)\\u002f262.8\\u002fTikTok Likes\",\"Fortnight (feat. Post Malone)\\u002f297.6\\u002fTikTok Likes\",\"bathroom floor\\u002f301.6\\u002fTikTok Likes\",\"Like That\\u002f308.2\\u002fTikTok Likes\",\"LUNCH\\u002f316.3\\u002fTikTok Likes\",\"I Had Some Help (feat. Morgan Wallen)\\u002f322.1\\u002fTikTok Likes\",\"Beautiful Things\\u002f407.2\\u002fTikTok Likes\",\"Houdini\\u002f423.3\\u002fTikTok Likes\",\"Not Like Us\\u002f545.9\\u002fTikTok Likes\",\"Voz Emplumada del Monte\\u002f100.3\\u002fYouTube Likes\",\"Con Calma\\u002f101.4\\u002fYouTube Likes\",\"Favorite Song\\u002f101.4\\u002fYouTube Likes\",\"Si No Quieres No\\u002f101.4\\u002fYouTube Likes\",\"rockstar (feat. 21 Savage)\\u002f101.8\\u002fYouTube Likes\",\"How Sweet\\u002f102.3\\u002fYouTube Likes\",\"Used To Be Young\\u002f102.4\\u002fYouTube Likes\",\"Illusion\\u002f103.1\\u002fYouTube Likes\",\"Panda\\u002f104.2\\u002fYouTube Likes\",\"Superhero (Heroes & Villains)\\u002f104.4\\u002fYouTube Likes\",\"KING KONG\\u002f104.5\\u002fYouTube Likes\",\"Milf Song\\u002f104.5\\u002fYouTube Likes\",\"Shallow\\u002f106.9\\u002fYouTube Likes\",\"Vois sur ton chemin - Techno Mix\\u002f107.8\\u002fYouTube Likes\",\"Whatever She Wants\\u002f108.4\\u002fYouTube Likes\",\"Whatever\\u002f109.0\\u002fYouTube Likes\",\"Stargazing\\u002f109.8\\u002fYouTube Likes\",\"Ojitos Lindos\\u002f110.7\\u002fYouTube Likes\",\"This Wish - From \\\"Wish\\\"\\u002f110.9\\u002fYouTube Likes\",\"Seg\\u00ef\\u00bf\\u00bd\\u00ef\\u00bf\\u00bdn Qu\\u002f111.8\\u002fYouTube Likes\",\"LUNA\\u002f112.6\\u002fYouTube Likes\",\"Havana (feat. Young Thug)\\u002f112.8\\u002fYouTube Likes\",\"PERRO NEGRO\\u002f114.2\\u002fYouTube Likes\",\"EL AMOR DE SU VIDA\\u002f115.9\\u002fYouTube Likes\",\"Circles\\u002f116.0\\u002fYouTube Likes\",\"Eyes Closed\\u002f116.6\\u002fYouTube Likes\",\"QLONA\\u002f120.7\\u002fYouTube Likes\",\"Too Sweet\\u002f121.2\\u002fYouTube Likes\",\"Again\\u002f122.5\\u002fYouTube Likes\",\"Family Matters\\u002f122.7\\u002fYouTube Likes\",\"SPOT!\\u002f122.8\\u002fYouTube Likes\",\"Lucid Dreams\\u002f123.9\\u002fYouTube Likes\",\"Abc\\u002f126.6\\u002fYouTube Likes\",\"I Don't Wanna Wait\\u002f126.9\\u002fYouTube Likes\",\"Back\\u002f128.0\\u002fYouTube Likes\",\"Casca de Bala\\u002f128.5\\u002fYouTube Likes\",\"Drained of Color\\u002f134.0\\u002fYouTube Likes\",\"MI EX TEN\\u00ef\\u00bf\\u00bd\\u00ef\\u00bf\\u00bdA RA\\u002f136.2\\u002fYouTube Likes\",\"Losing Interest - Original Mix\\u002f136.4\\u002fYouTube Likes\",\"Save Your Tears - Live\\u002f137.7\\u002fYouTube Likes\",\"FE!N\\u002f137.8\\u002fYouTube Likes\",\"Saturn\\u002f142.8\\u002fYouTube Likes\",\"Hands\\u002f143.9\\u002fYouTube Likes\",\"Bling-Bang-Bang-Born\\u002f144.0\\u002fYouTube Likes\",\"Pedro\\u002f144.6\\u002fYouTube Likes\",\"Armageddon\\u002f147.4\\u002fYouTube Likes\",\"Type Shit\\u002f148.1\\u002fYouTube Likes\",\"Training Season\\u002f148.9\\u002fYouTube Likes\",\"Laxed (Siren Beat)\\u002f150.5\\u002fYouTube Likes\",\"La Diabla\\u002f155.9\\u002fYouTube Likes\",\"Magnetic\\u002f161.0\\u002fYouTube Likes\",\"Ella Baila Sola\\u002f166.5\\u002fYouTube Likes\",\"CHIHIRO\\u002f167.8\\u002fYouTube Likes\",\"TQG\\u002f167.8\\u002fYouTube Likes\",\"The Way We Move - Extended Mix\\u002f173.6\\u002fYouTube Likes\",\"Babba\\u002f176.2\\u002fYouTube Likes\",\"CARNIVAL\\u002f179.6\\u002fYouTube Likes\",\"Stereo Love - Melodic\\u002f187.9\\u002fYouTube Likes\",\"Mitu\\u002f194.3\\u002fYouTube Likes\",\"Calm Down (with Selena Gomez)\\u002f198.0\\u002fYouTube Likes\",\"Panda Basi\\u002f200.3\\u002fYouTube Likes\",\"euphoria\\u002f202.1\\u002fYouTube Likes\",\"Houdini\\u002f205.1\\u002fYouTube Likes\",\"Please Please Please\\u002f205.7\\u002fYouTube Likes\",\"I'm Good (Blue)\\u002f209.6\\u002fYouTube Likes\",\"Lose Control\\u002f224.1\\u002fYouTube Likes\",\"A Bar Song (Tipsy)\\u002f226.4\\u002fYouTube Likes\",\"SHEESH\\u002f237.5\\u002fYouTube Likes\",\"we can't be friends (wait for your love)\\u002f262.8\\u002fYouTube Likes\",\"Fortnight (feat. Post Malone)\\u002f297.6\\u002fYouTube Likes\",\"bathroom floor\\u002f301.6\\u002fYouTube Likes\",\"Like That\\u002f308.2\\u002fYouTube Likes\",\"LUNCH\\u002f316.3\\u002fYouTube Likes\",\"I Had Some Help (feat. Morgan Wallen)\\u002f322.1\\u002fYouTube Likes\",\"Beautiful Things\\u002f407.2\\u002fYouTube Likes\",\"Houdini\\u002f423.3\\u002fYouTube Likes\",\"Not Like Us\\u002f545.9\\u002fYouTube Likes\",\"Voz Emplumada del Monte\\u002f100.3\",\"Con Calma\\u002f101.4\",\"Favorite Song\\u002f101.4\",\"Si No Quieres No\\u002f101.4\",\"rockstar (feat. 21 Savage)\\u002f101.8\",\"How Sweet\\u002f102.3\",\"Used To Be Young\\u002f102.4\",\"Illusion\\u002f103.1\",\"Panda\\u002f104.2\",\"Superhero (Heroes & Villains)\\u002f104.4\",\"KING KONG\\u002f104.5\",\"Milf Song\\u002f104.5\",\"Shallow\\u002f106.9\",\"Vois sur ton chemin - Techno Mix\\u002f107.8\",\"Whatever She Wants\\u002f108.4\",\"Whatever\\u002f109.0\",\"Stargazing\\u002f109.8\",\"Ojitos Lindos\\u002f110.7\",\"This Wish - From \\\"Wish\\\"\\u002f110.9\",\"Seg\\u00ef\\u00bf\\u00bd\\u00ef\\u00bf\\u00bdn Qu\\u002f111.8\",\"LUNA\\u002f112.6\",\"Havana (feat. Young Thug)\\u002f112.8\",\"PERRO NEGRO\\u002f114.2\",\"EL AMOR DE SU VIDA\\u002f115.9\",\"Circles\\u002f116.0\",\"Eyes Closed\\u002f116.6\",\"QLONA\\u002f120.7\",\"Too Sweet\\u002f121.2\",\"Again\\u002f122.5\",\"Family Matters\\u002f122.7\",\"SPOT!\\u002f122.8\",\"Lucid Dreams\\u002f123.9\",\"Abc\\u002f126.6\",\"I Don't Wanna Wait\\u002f126.9\",\"Back\\u002f128.0\",\"Casca de Bala\\u002f128.5\",\"Drained of Color\\u002f134.0\",\"MI EX TEN\\u00ef\\u00bf\\u00bd\\u00ef\\u00bf\\u00bdA RA\\u002f136.2\",\"Losing Interest - Original Mix\\u002f136.4\",\"Save Your Tears - Live\\u002f137.7\",\"FE!N\\u002f137.8\",\"Saturn\\u002f142.8\",\"Hands\\u002f143.9\",\"Bling-Bang-Bang-Born\\u002f144.0\",\"Pedro\\u002f144.6\",\"Armageddon\\u002f147.4\",\"Type Shit\\u002f148.1\",\"Training Season\\u002f148.9\",\"Laxed (Siren Beat)\\u002f150.5\",\"La Diabla\\u002f155.9\",\"Magnetic\\u002f161.0\",\"Ella Baila Sola\\u002f166.5\",\"CHIHIRO\\u002f167.8\",\"TQG\\u002f167.8\",\"The Way We Move - Extended Mix\\u002f173.6\",\"Babba\\u002f176.2\",\"CARNIVAL\\u002f179.6\",\"Stereo Love - Melodic\\u002f187.9\",\"Mitu\\u002f194.3\",\"Calm Down (with Selena Gomez)\\u002f198.0\",\"Panda Basi\\u002f200.3\",\"euphoria\\u002f202.1\",\"Houdini\\u002f205.1\",\"Please Please Please\\u002f205.7\",\"I'm Good (Blue)\\u002f209.6\",\"Lose Control\\u002f224.1\",\"A Bar Song (Tipsy)\\u002f226.4\",\"SHEESH\\u002f237.5\",\"we can't be friends (wait for your love)\\u002f262.8\",\"Fortnight (feat. Post Malone)\\u002f297.6\",\"bathroom floor\\u002f301.6\",\"Like That\\u002f308.2\",\"LUNCH\\u002f316.3\",\"I Had Some Help (feat. Morgan Wallen)\\u002f322.1\",\"Beautiful Things\\u002f407.2\",\"Houdini\\u002f423.3\",\"Not Like Us\\u002f545.9\",\"A Bar Song (Tipsy)\",\"Abc\",\"Again\",\"Armageddon\",\"Babba\",\"Back\",\"Beautiful Things\",\"Bling-Bang-Bang-Born\",\"CARNIVAL\",\"CHIHIRO\",\"Calm Down (with Selena Gomez)\",\"Casca de Bala\",\"Circles\",\"Con Calma\",\"Drained of Color\",\"EL AMOR DE SU VIDA\",\"Ella Baila Sola\",\"Eyes Closed\",\"FE!N\",\"Family Matters\",\"Favorite Song\",\"Fortnight (feat. Post Malone)\",\"Hands\",\"Havana (feat. Young Thug)\",\"Houdini\",\"How Sweet\",\"I Don't Wanna Wait\",\"I Had Some Help (feat. Morgan Wallen)\",\"I'm Good (Blue)\",\"Illusion\",\"KING KONG\",\"LUNA\",\"LUNCH\",\"La Diabla\",\"Laxed (Siren Beat)\",\"Like That\",\"Lose Control\",\"Losing Interest - Original Mix\",\"Lucid Dreams\",\"MI EX TEN\\u00ef\\u00bf\\u00bd\\u00ef\\u00bf\\u00bdA RA\",\"Magnetic\",\"Milf Song\",\"Mitu\",\"Not Like Us\",\"Ojitos Lindos\",\"PERRO NEGRO\",\"Panda\",\"Panda Basi\",\"Pedro\",\"Please Please Please\",\"QLONA\",\"SHEESH\",\"SPOT!\",\"Saturn\",\"Save Your Tears - Live\",\"Seg\\u00ef\\u00bf\\u00bd\\u00ef\\u00bf\\u00bdn Qu\",\"Shallow\",\"Si No Quieres No\",\"Stargazing\",\"Stereo Love - Melodic\",\"Superhero (Heroes & Villains)\",\"TQG\",\"The Way We Move - Extended Mix\",\"This Wish - From \\\"Wish\\\"\",\"Too Sweet\",\"Training Season\",\"Type Shit\",\"Used To Be Young\",\"Vois sur ton chemin - Techno Mix\",\"Voz Emplumada del Monte\",\"Whatever\",\"Whatever She Wants\",\"bathroom floor\",\"euphoria\",\"rockstar (feat. 21 Savage)\",\"we can't be friends (wait for your love)\"],\"labels\":[\"Amazon Playlist Count\",\"Amazon Playlist Count\",\"Amazon Playlist Count\",\"Amazon Playlist Count\",\"Amazon Playlist Count\",\"Amazon Playlist Count\",\"Amazon Playlist Count\",\"Amazon Playlist Count\",\"Amazon Playlist Count\",\"Amazon Playlist Count\",\"Amazon Playlist Count\",\"Amazon Playlist Count\",\"Amazon Playlist Count\",\"Amazon Playlist Count\",\"Amazon Playlist Count\",\"Amazon Playlist Count\",\"Amazon Playlist Count\",\"Amazon Playlist Count\",\"Amazon Playlist Count\",\"Amazon Playlist Count\",\"Amazon Playlist Count\",\"Amazon Playlist Count\",\"Amazon Playlist Count\",\"Amazon Playlist Count\",\"Amazon Playlist Count\",\"Amazon Playlist Count\",\"Amazon Playlist Count\",\"Amazon Playlist Count\",\"Amazon Playlist Count\",\"Amazon Playlist Count\",\"Amazon Playlist Count\",\"Amazon Playlist Count\",\"Amazon Playlist Count\",\"Amazon Playlist Count\",\"Amazon Playlist Count\",\"Amazon Playlist Count\",\"Amazon Playlist Count\",\"Amazon Playlist Count\",\"Amazon Playlist Count\",\"Amazon Playlist Count\",\"Amazon Playlist Count\",\"Amazon Playlist Count\",\"Amazon Playlist Count\",\"Amazon Playlist Count\",\"Amazon Playlist Count\",\"Amazon Playlist Count\",\"Amazon Playlist Count\",\"Amazon Playlist Count\",\"Amazon Playlist Count\",\"Amazon Playlist Count\",\"Amazon Playlist Count\",\"Amazon Playlist Count\",\"Amazon Playlist Count\",\"Amazon Playlist Count\",\"Amazon Playlist Count\",\"Amazon Playlist Count\",\"Amazon Playlist Count\",\"Amazon Playlist Count\",\"Amazon Playlist Count\",\"Amazon Playlist Count\",\"Amazon Playlist Count\",\"Amazon Playlist Count\",\"Amazon Playlist Count\",\"Amazon Playlist Count\",\"Amazon Playlist Count\",\"Amazon Playlist Count\",\"Amazon Playlist Count\",\"Amazon Playlist Count\",\"Amazon Playlist Count\",\"Amazon Playlist Count\",\"Amazon Playlist Count\",\"Amazon Playlist Count\",\"Amazon Playlist Count\",\"Amazon Playlist Count\",\"Amazon Playlist Count\",\"Amazon Playlist Count\",\"Amazon Playlist Count\",\"Apple Music Playlist Count\",\"Apple Music Playlist Count\",\"Apple Music Playlist Count\",\"Apple Music Playlist Count\",\"Apple Music Playlist Count\",\"Apple Music Playlist Count\",\"Apple Music Playlist Count\",\"Apple Music Playlist Count\",\"Apple Music Playlist Count\",\"Apple Music Playlist Count\",\"Apple Music Playlist Count\",\"Apple Music Playlist Count\",\"Apple Music Playlist Count\",\"Apple Music Playlist Count\",\"Apple Music Playlist Count\",\"Apple Music Playlist Count\",\"Apple Music Playlist Count\",\"Apple Music Playlist Count\",\"Apple Music Playlist Count\",\"Apple Music Playlist Count\",\"Apple Music Playlist Count\",\"Apple Music Playlist Count\",\"Apple Music Playlist Count\",\"Apple Music Playlist Count\",\"Apple Music Playlist Count\",\"Apple Music Playlist Count\",\"Apple Music Playlist Count\",\"Apple Music Playlist Count\",\"Apple Music Playlist Count\",\"Apple Music Playlist Count\",\"Apple Music Playlist Count\",\"Apple Music Playlist Count\",\"Apple Music Playlist Count\",\"Apple Music Playlist Count\",\"Apple Music Playlist Count\",\"Apple Music Playlist Count\",\"Apple Music Playlist Count\",\"Apple Music Playlist Count\",\"Apple Music Playlist Count\",\"Apple Music Playlist Count\",\"Apple Music Playlist Count\",\"Apple Music Playlist Count\",\"Apple Music Playlist Count\",\"Apple Music Playlist Count\",\"Apple Music Playlist Count\",\"Apple Music Playlist Count\",\"Apple Music Playlist Count\",\"Apple Music Playlist Count\",\"Apple Music Playlist Count\",\"Apple Music Playlist Count\",\"Apple Music Playlist Count\",\"Apple Music Playlist Count\",\"Apple Music Playlist Count\",\"Apple Music Playlist Count\",\"Apple Music Playlist Count\",\"Apple Music Playlist Count\",\"Apple Music Playlist Count\",\"Apple Music Playlist Count\",\"Apple Music Playlist Count\",\"Apple Music Playlist Count\",\"Apple Music Playlist Count\",\"Apple Music Playlist Count\",\"Apple Music Playlist Count\",\"Apple Music Playlist Count\",\"Apple Music Playlist Count\",\"Apple Music Playlist Count\",\"Apple Music Playlist Count\",\"Apple Music Playlist Count\",\"Apple Music Playlist Count\",\"Apple Music Playlist Count\",\"Apple Music Playlist Count\",\"Apple Music Playlist Count\",\"Apple Music Playlist Count\",\"Apple Music Playlist Count\",\"Apple Music Playlist Count\",\"Apple Music Playlist Count\",\"Apple Music Playlist Count\",\"Deezer Playlist Count\",\"Deezer Playlist Count\",\"Deezer Playlist Count\",\"Deezer Playlist Count\",\"Deezer Playlist Count\",\"Deezer Playlist Count\",\"Deezer Playlist Count\",\"Deezer Playlist Count\",\"Deezer Playlist Count\",\"Deezer Playlist Count\",\"Deezer Playlist Count\",\"Deezer Playlist Count\",\"Deezer Playlist Count\",\"Deezer Playlist Count\",\"Deezer Playlist Count\",\"Deezer Playlist Count\",\"Deezer Playlist Count\",\"Deezer Playlist Count\",\"Deezer Playlist Count\",\"Deezer Playlist Count\",\"Deezer Playlist Count\",\"Deezer Playlist Count\",\"Deezer Playlist Count\",\"Deezer Playlist Count\",\"Deezer Playlist Count\",\"Deezer Playlist Count\",\"Deezer Playlist Count\",\"Deezer Playlist Count\",\"Deezer Playlist Count\",\"Deezer Playlist Count\",\"Deezer Playlist Count\",\"Deezer Playlist Count\",\"Deezer Playlist Count\",\"Deezer Playlist Count\",\"Deezer Playlist Count\",\"Deezer Playlist Count\",\"Deezer Playlist Count\",\"Deezer Playlist Count\",\"Deezer Playlist Count\",\"Deezer Playlist Count\",\"Deezer Playlist Count\",\"Deezer Playlist Count\",\"Deezer Playlist Count\",\"Deezer Playlist Count\",\"Deezer Playlist Count\",\"Deezer Playlist Count\",\"Deezer Playlist Count\",\"Deezer Playlist Count\",\"Deezer Playlist Count\",\"Deezer Playlist Count\",\"Deezer Playlist Count\",\"Deezer Playlist Count\",\"Deezer Playlist Count\",\"Deezer Playlist Count\",\"Deezer Playlist Count\",\"Deezer Playlist Count\",\"Deezer Playlist Count\",\"Deezer Playlist Count\",\"Deezer Playlist Count\",\"Deezer Playlist Count\",\"Deezer Playlist Count\",\"Deezer Playlist Count\",\"Deezer Playlist Count\",\"Deezer Playlist Count\",\"Deezer Playlist Count\",\"Deezer Playlist Count\",\"Deezer Playlist Count\",\"Deezer Playlist Count\",\"Deezer Playlist Count\",\"Deezer Playlist Count\",\"Deezer Playlist Count\",\"Deezer Playlist Count\",\"Deezer Playlist Count\",\"Deezer Playlist Count\",\"Deezer Playlist Count\",\"Deezer Playlist Count\",\"Deezer Playlist Count\",\"Pandora Track Stations\",\"Pandora Track Stations\",\"Pandora Track Stations\",\"Pandora Track Stations\",\"Pandora Track Stations\",\"Pandora Track Stations\",\"Pandora Track Stations\",\"Pandora Track Stations\",\"Pandora Track Stations\",\"Pandora Track Stations\",\"Pandora Track Stations\",\"Pandora Track Stations\",\"Pandora Track Stations\",\"Pandora Track Stations\",\"Pandora Track Stations\",\"Pandora Track Stations\",\"Pandora Track Stations\",\"Pandora Track Stations\",\"Pandora Track Stations\",\"Pandora Track Stations\",\"Pandora Track Stations\",\"Pandora Track Stations\",\"Pandora Track Stations\",\"Pandora Track Stations\",\"Pandora Track Stations\",\"Pandora Track Stations\",\"Pandora Track Stations\",\"Pandora Track Stations\",\"Pandora Track Stations\",\"Pandora Track Stations\",\"Pandora Track Stations\",\"Pandora Track Stations\",\"Pandora Track Stations\",\"Pandora Track Stations\",\"Pandora Track Stations\",\"Pandora Track Stations\",\"Pandora Track Stations\",\"Pandora Track Stations\",\"Pandora Track Stations\",\"Pandora Track Stations\",\"Pandora Track Stations\",\"Pandora Track Stations\",\"Pandora Track Stations\",\"Pandora Track Stations\",\"Pandora Track Stations\",\"Pandora Track Stations\",\"Pandora Track Stations\",\"Pandora Track Stations\",\"Pandora Track Stations\",\"Pandora Track Stations\",\"Pandora Track Stations\",\"Pandora Track Stations\",\"Pandora Track Stations\",\"Pandora Track Stations\",\"Pandora Track Stations\",\"Pandora Track Stations\",\"Pandora Track Stations\",\"Pandora Track Stations\",\"Pandora Track Stations\",\"Pandora Track Stations\",\"Pandora Track Stations\",\"Spotify Playlist Count\",\"Spotify Playlist Count\",\"Spotify Playlist Count\",\"Spotify Playlist Count\",\"Spotify Playlist Count\",\"Spotify Playlist Count\",\"Spotify Playlist Count\",\"Spotify Playlist Count\",\"Spotify Playlist Count\",\"Spotify Playlist Count\",\"Spotify Playlist Count\",\"Spotify Playlist Count\",\"Spotify Playlist Count\",\"Spotify Playlist Count\",\"Spotify Playlist Count\",\"Spotify Playlist Count\",\"Spotify Playlist Count\",\"Spotify Playlist Count\",\"Spotify Playlist Count\",\"Spotify Playlist Count\",\"Spotify Playlist Count\",\"Spotify Playlist Count\",\"Spotify Playlist Count\",\"Spotify Playlist Count\",\"Spotify Playlist Count\",\"Spotify Playlist Count\",\"Spotify Playlist Count\",\"Spotify Playlist Count\",\"Spotify Playlist Count\",\"Spotify Playlist Count\",\"Spotify Playlist Count\",\"Spotify Playlist Count\",\"Spotify Playlist Count\",\"Spotify Playlist Count\",\"Spotify Playlist Count\",\"Spotify Playlist Count\",\"Spotify Playlist Count\",\"Spotify Playlist Count\",\"Spotify Playlist Count\",\"Spotify Playlist Count\",\"Spotify Playlist Count\",\"Spotify Playlist Count\",\"Spotify Playlist Count\",\"Spotify Playlist Count\",\"Spotify Playlist Count\",\"Spotify Playlist Count\",\"Spotify Playlist Count\",\"Spotify Playlist Count\",\"Spotify Playlist Count\",\"Spotify Playlist Count\",\"Spotify Playlist Count\",\"Spotify Playlist Count\",\"Spotify Playlist Count\",\"Spotify Playlist Count\",\"Spotify Playlist Count\",\"Spotify Playlist Count\",\"Spotify Playlist Count\",\"Spotify Playlist Count\",\"Spotify Playlist Count\",\"Spotify Playlist Count\",\"Spotify Playlist Count\",\"Spotify Playlist Count\",\"Spotify Playlist Count\",\"Spotify Playlist Count\",\"Spotify Playlist Count\",\"Spotify Playlist Count\",\"Spotify Playlist Count\",\"Spotify Playlist Count\",\"Spotify Playlist Count\",\"Spotify Playlist Count\",\"Spotify Playlist Count\",\"Spotify Playlist Count\",\"Spotify Playlist Count\",\"Spotify Playlist Count\",\"Spotify Playlist Count\",\"Spotify Playlist Count\",\"Spotify Playlist Count\",\"TikTok Likes\",\"TikTok Likes\",\"TikTok Likes\",\"TikTok Likes\",\"TikTok Likes\",\"TikTok Likes\",\"TikTok Likes\",\"TikTok Likes\",\"TikTok Likes\",\"TikTok Likes\",\"TikTok Likes\",\"TikTok Likes\",\"TikTok Likes\",\"TikTok Likes\",\"TikTok Likes\",\"TikTok Likes\",\"TikTok Likes\",\"TikTok Likes\",\"TikTok Likes\",\"TikTok Likes\",\"TikTok Likes\",\"TikTok Likes\",\"TikTok Likes\",\"TikTok Likes\",\"TikTok Likes\",\"TikTok Likes\",\"TikTok Likes\",\"TikTok Likes\",\"TikTok Likes\",\"TikTok Likes\",\"TikTok Likes\",\"TikTok Likes\",\"TikTok Likes\",\"TikTok Likes\",\"TikTok Likes\",\"TikTok Likes\",\"TikTok Likes\",\"TikTok Likes\",\"TikTok Likes\",\"TikTok Likes\",\"TikTok Likes\",\"TikTok Likes\",\"TikTok Likes\",\"TikTok Likes\",\"TikTok Likes\",\"TikTok Likes\",\"TikTok Likes\",\"TikTok Likes\",\"TikTok Likes\",\"TikTok Likes\",\"TikTok Likes\",\"TikTok Likes\",\"TikTok Likes\",\"TikTok Likes\",\"TikTok Likes\",\"TikTok Likes\",\"TikTok Likes\",\"TikTok Likes\",\"TikTok Likes\",\"TikTok Likes\",\"TikTok Likes\",\"TikTok Likes\",\"TikTok Likes\",\"TikTok Likes\",\"TikTok Likes\",\"TikTok Likes\",\"TikTok Likes\",\"TikTok Likes\",\"TikTok Likes\",\"TikTok Likes\",\"TikTok Likes\",\"TikTok Likes\",\"TikTok Likes\",\"TikTok Likes\",\"TikTok Likes\",\"TikTok Likes\",\"TikTok Likes\",\"YouTube Likes\",\"YouTube Likes\",\"YouTube Likes\",\"YouTube Likes\",\"YouTube Likes\",\"YouTube Likes\",\"YouTube Likes\",\"YouTube Likes\",\"YouTube Likes\",\"YouTube Likes\",\"YouTube Likes\",\"YouTube Likes\",\"YouTube Likes\",\"YouTube Likes\",\"YouTube Likes\",\"YouTube Likes\",\"YouTube Likes\",\"YouTube Likes\",\"YouTube Likes\",\"YouTube Likes\",\"YouTube Likes\",\"YouTube Likes\",\"YouTube Likes\",\"YouTube Likes\",\"YouTube Likes\",\"YouTube Likes\",\"YouTube Likes\",\"YouTube Likes\",\"YouTube Likes\",\"YouTube Likes\",\"YouTube Likes\",\"YouTube Likes\",\"YouTube Likes\",\"YouTube Likes\",\"YouTube Likes\",\"YouTube Likes\",\"YouTube Likes\",\"YouTube Likes\",\"YouTube Likes\",\"YouTube Likes\",\"YouTube Likes\",\"YouTube Likes\",\"YouTube Likes\",\"YouTube Likes\",\"YouTube Likes\",\"YouTube Likes\",\"YouTube Likes\",\"YouTube Likes\",\"YouTube Likes\",\"YouTube Likes\",\"YouTube Likes\",\"YouTube Likes\",\"YouTube Likes\",\"YouTube Likes\",\"YouTube Likes\",\"YouTube Likes\",\"YouTube Likes\",\"YouTube Likes\",\"YouTube Likes\",\"YouTube Likes\",\"YouTube Likes\",\"YouTube Likes\",\"YouTube Likes\",\"YouTube Likes\",\"YouTube Likes\",\"YouTube Likes\",\"YouTube Likes\",\"YouTube Likes\",\"YouTube Likes\",\"YouTube Likes\",\"YouTube Likes\",\"YouTube Likes\",\"YouTube Likes\",\"YouTube Likes\",\"YouTube Likes\",\"YouTube Likes\",\"YouTube Likes\",\"100.3\",\"101.4\",\"101.4\",\"101.4\",\"101.8\",\"102.3\",\"102.4\",\"103.1\",\"104.2\",\"104.4\",\"104.5\",\"104.5\",\"106.9\",\"107.8\",\"108.4\",\"109.0\",\"109.8\",\"110.7\",\"110.9\",\"111.8\",\"112.6\",\"112.8\",\"114.2\",\"115.9\",\"116.0\",\"116.6\",\"120.7\",\"121.2\",\"122.5\",\"122.7\",\"122.8\",\"123.9\",\"126.6\",\"126.9\",\"128.0\",\"128.5\",\"134.0\",\"136.2\",\"136.4\",\"137.7\",\"137.8\",\"142.8\",\"143.9\",\"144.0\",\"144.6\",\"147.4\",\"148.1\",\"148.9\",\"150.5\",\"155.9\",\"161.0\",\"166.5\",\"167.8\",\"167.8\",\"173.6\",\"176.2\",\"179.6\",\"187.9\",\"194.3\",\"198.0\",\"200.3\",\"202.1\",\"205.1\",\"205.7\",\"209.6\",\"224.1\",\"226.4\",\"237.5\",\"262.8\",\"297.6\",\"301.6\",\"308.2\",\"316.3\",\"322.1\",\"407.2\",\"423.3\",\"545.9\",\"A Bar Song (Tipsy)\",\"Abc\",\"Again\",\"Armageddon\",\"Babba\",\"Back\",\"Beautiful Things\",\"Bling-Bang-Bang-Born\",\"CARNIVAL\",\"CHIHIRO\",\"Calm Down (with Selena Gomez)\",\"Casca de Bala\",\"Circles\",\"Con Calma\",\"Drained of Color\",\"EL AMOR DE SU VIDA\",\"Ella Baila Sola\",\"Eyes Closed\",\"FE!N\",\"Family Matters\",\"Favorite Song\",\"Fortnight (feat. Post Malone)\",\"Hands\",\"Havana (feat. Young Thug)\",\"Houdini\",\"How Sweet\",\"I Don't Wanna Wait\",\"I Had Some Help (feat. Morgan Wallen)\",\"I'm Good (Blue)\",\"Illusion\",\"KING KONG\",\"LUNA\",\"LUNCH\",\"La Diabla\",\"Laxed (Siren Beat)\",\"Like That\",\"Lose Control\",\"Losing Interest - Original Mix\",\"Lucid Dreams\",\"MI EX TEN\\u00ef\\u00bf\\u00bd\\u00ef\\u00bf\\u00bdA RA\",\"Magnetic\",\"Milf Song\",\"Mitu\",\"Not Like Us\",\"Ojitos Lindos\",\"PERRO NEGRO\",\"Panda\",\"Panda Basi\",\"Pedro\",\"Please Please Please\",\"QLONA\",\"SHEESH\",\"SPOT!\",\"Saturn\",\"Save Your Tears - Live\",\"Seg\\u00ef\\u00bf\\u00bd\\u00ef\\u00bf\\u00bdn Qu\",\"Shallow\",\"Si No Quieres No\",\"Stargazing\",\"Stereo Love - Melodic\",\"Superhero (Heroes & Villains)\",\"TQG\",\"The Way We Move - Extended Mix\",\"This Wish - From \\\"Wish\\\"\",\"Too Sweet\",\"Training Season\",\"Type Shit\",\"Used To Be Young\",\"Vois sur ton chemin - Techno Mix\",\"Voz Emplumada del Monte\",\"Whatever\",\"Whatever She Wants\",\"bathroom floor\",\"euphoria\",\"rockstar (feat. 21 Savage)\",\"we can't be friends (wait for your love)\"],\"marker\":{\"coloraxis\":\"coloraxis\",\"colors\":[16.0,73.0,62.0,85.0,77.0,79.0,69.0,12.0,62.0,77.0,68.0,28.0,78.0,80.0,87.0,83.0,87.0,78.0,19.0,79.0,86.0,75.0,83.0,78.0,80.0,71.0,82.0,85.0,2.0,86.0,81.0,78.0,1.0,84.0,3.0,74.0,16.0,78.0,1.0,40.0,86.0,87.0,1.0,80.0,85.0,74.0,84.0,76.0,43.0,83.0,86.0,74.0,90.0,78.0,4.0,6.0,84.0,9.0,13.0,77.0,25.0,86.0,80.0,83.0,83.0,87.0,96.0,82.0,87.0,89.0,12.0,88.0,92.0,91.0,86.0,88.0,92.0,16.0,73.0,62.0,85.0,77.0,79.0,69.0,12.0,62.0,77.0,68.0,28.0,78.0,80.0,87.0,83.0,87.0,78.0,19.0,79.0,86.0,75.0,83.0,78.0,80.0,71.0,82.0,85.0,2.0,86.0,81.0,78.0,1.0,84.0,3.0,74.0,16.0,78.0,1.0,40.0,86.0,87.0,1.0,80.0,85.0,74.0,84.0,76.0,43.0,83.0,86.0,74.0,90.0,78.0,4.0,6.0,84.0,9.0,13.0,77.0,25.0,86.0,80.0,83.0,83.0,87.0,96.0,82.0,87.0,89.0,12.0,88.0,92.0,91.0,86.0,88.0,92.0,16.0,73.0,62.0,85.0,77.0,79.0,69.0,12.0,62.0,77.0,68.0,28.0,78.0,80.0,87.0,83.0,87.0,78.0,19.0,79.0,86.0,75.0,83.0,78.0,80.0,71.0,82.0,85.0,2.0,86.0,81.0,78.0,1.0,84.0,3.0,74.0,16.0,78.0,1.0,40.0,86.0,87.0,1.0,80.0,85.0,74.0,84.0,76.0,43.0,83.0,86.0,74.0,90.0,78.0,4.0,6.0,84.0,9.0,13.0,77.0,25.0,86.0,80.0,83.0,83.0,87.0,96.0,82.0,87.0,89.0,12.0,88.0,92.0,91.0,86.0,88.0,92.0,73.0,62.0,85.0,77.0,79.0,69.0,12.0,62.0,77.0,68.0,78.0,87.0,83.0,87.0,78.0,19.0,79.0,86.0,75.0,83.0,78.0,80.0,71.0,82.0,85.0,86.0,81.0,78.0,84.0,78.0,40.0,86.0,87.0,80.0,85.0,74.0,84.0,76.0,83.0,86.0,74.0,90.0,78.0,84.0,9.0,77.0,86.0,80.0,83.0,83.0,87.0,96.0,82.0,87.0,89.0,88.0,92.0,91.0,86.0,88.0,92.0,16.0,73.0,62.0,85.0,77.0,79.0,69.0,12.0,62.0,77.0,68.0,28.0,78.0,80.0,87.0,83.0,87.0,78.0,19.0,79.0,86.0,75.0,83.0,78.0,80.0,71.0,82.0,85.0,2.0,86.0,81.0,78.0,1.0,84.0,3.0,74.0,16.0,78.0,1.0,40.0,86.0,87.0,1.0,80.0,85.0,74.0,84.0,76.0,43.0,83.0,86.0,74.0,90.0,78.0,4.0,6.0,84.0,9.0,13.0,77.0,25.0,86.0,80.0,83.0,83.0,87.0,96.0,82.0,87.0,89.0,12.0,88.0,92.0,91.0,86.0,88.0,92.0,16.0,73.0,62.0,85.0,77.0,79.0,69.0,12.0,62.0,77.0,68.0,28.0,78.0,80.0,87.0,83.0,87.0,78.0,19.0,79.0,86.0,75.0,83.0,78.0,80.0,71.0,82.0,85.0,2.0,86.0,81.0,78.0,1.0,84.0,3.0,74.0,16.0,78.0,1.0,40.0,86.0,87.0,1.0,80.0,85.0,74.0,84.0,76.0,43.0,83.0,86.0,74.0,90.0,78.0,4.0,6.0,84.0,9.0,13.0,77.0,25.0,86.0,80.0,83.0,83.0,87.0,96.0,82.0,87.0,89.0,12.0,88.0,92.0,91.0,86.0,88.0,92.0,16.0,73.0,62.0,85.0,77.0,79.0,69.0,12.0,62.0,77.0,68.0,28.0,78.0,80.0,87.0,83.0,87.0,78.0,19.0,79.0,86.0,75.0,83.0,78.0,80.0,71.0,82.0,85.0,2.0,86.0,81.0,78.0,1.0,84.0,3.0,74.0,16.0,78.0,1.0,40.0,86.0,87.0,1.0,80.0,85.0,74.0,84.0,76.0,43.0,83.0,86.0,74.0,90.0,78.0,4.0,6.0,84.0,9.0,13.0,77.0,25.0,86.0,80.0,83.0,83.0,87.0,96.0,82.0,87.0,89.0,12.0,88.0,92.0,91.0,86.0,88.0,92.0,16.0,73.0,62.0,85.0,77.0,79.0,69.0,12.0,62.0,77.0,68.0,28.0,78.0,80.0,87.0,83.0,87.0,78.0,19.0,79.0,86.0,75.0,83.0,78.0,80.0,71.0,82.0,85.0,2.0,86.0,81.0,78.0,1.0,84.0,3.0,74.0,16.0,78.0,1.0,39.99999999999999,86.0,87.0,1.0,80.0,85.0,74.0,84.0,76.0,43.0,83.0,86.0,74.0,90.0,78.0,4.0,6.0,84.0,9.0,13.0,77.0,25.0,86.0,80.0,83.0,83.0,87.0,96.0,82.0,87.0,89.0,12.0,88.0,92.0,91.0,86.0,88.0,92.0,96.0,1.0,2.0,74.0,6.0,3.0,86.0,80.0,84.0,90.0,77.0,74.0,80.0,73.0,16.0,78.0,74.0,71.0,86.0,86.0,62.0,89.0,1.0,75.0,82.42860748851184,79.0,84.0,91.0,83.0,12.0,68.0,86.0,92.0,83.0,43.0,88.0,87.0,1.0,78.0,78.0,86.0,28.0,13.0,92.0,78.0,83.0,62.0,25.0,85.0,83.0,82.0,82.0,81.0,87.0,39.99999999999999,79.0,78.0,85.0,87.0,9.0,77.0,78.0,4.0,19.0,85.0,76.0,84.0,69.0,80.0,16.0,83.0,87.0,12.0,86.0,77.0,87.0]},\"name\":\"\",\"parents\":[\"Voz Emplumada del Monte\\u002f100.3\",\"Con Calma\\u002f101.4\",\"Favorite Song\\u002f101.4\",\"Si No Quieres No\\u002f101.4\",\"rockstar (feat. 21 Savage)\\u002f101.8\",\"How Sweet\\u002f102.3\",\"Used To Be Young\\u002f102.4\",\"Illusion\\u002f103.1\",\"Panda\\u002f104.2\",\"Superhero (Heroes & Villains)\\u002f104.4\",\"KING KONG\\u002f104.5\",\"Milf Song\\u002f104.5\",\"Shallow\\u002f106.9\",\"Vois sur ton chemin - Techno Mix\\u002f107.8\",\"Whatever She Wants\\u002f108.4\",\"Whatever\\u002f109.0\",\"Stargazing\\u002f109.8\",\"Ojitos Lindos\\u002f110.7\",\"This Wish - From \\\"Wish\\\"\\u002f110.9\",\"Seg\\u00ef\\u00bf\\u00bd\\u00ef\\u00bf\\u00bdn Qu\\u002f111.8\",\"LUNA\\u002f112.6\",\"Havana (feat. Young Thug)\\u002f112.8\",\"PERRO NEGRO\\u002f114.2\",\"EL AMOR DE SU VIDA\\u002f115.9\",\"Circles\\u002f116.0\",\"Eyes Closed\\u002f116.6\",\"QLONA\\u002f120.7\",\"Too Sweet\\u002f121.2\",\"Again\\u002f122.5\",\"Family Matters\\u002f122.7\",\"SPOT!\\u002f122.8\",\"Lucid Dreams\\u002f123.9\",\"Abc\\u002f126.6\",\"I Don't Wanna Wait\\u002f126.9\",\"Back\\u002f128.0\",\"Casca de Bala\\u002f128.5\",\"Drained of Color\\u002f134.0\",\"MI EX TEN\\u00ef\\u00bf\\u00bd\\u00ef\\u00bf\\u00bdA RA\\u002f136.2\",\"Losing Interest - Original Mix\\u002f136.4\",\"Save Your Tears - Live\\u002f137.7\",\"FE!N\\u002f137.8\",\"Saturn\\u002f142.8\",\"Hands\\u002f143.9\",\"Bling-Bang-Bang-Born\\u002f144.0\",\"Pedro\\u002f144.6\",\"Armageddon\\u002f147.4\",\"Type Shit\\u002f148.1\",\"Training Season\\u002f148.9\",\"Laxed (Siren Beat)\\u002f150.5\",\"La Diabla\\u002f155.9\",\"Magnetic\\u002f161.0\",\"Ella Baila Sola\\u002f166.5\",\"CHIHIRO\\u002f167.8\",\"TQG\\u002f167.8\",\"The Way We Move - Extended Mix\\u002f173.6\",\"Babba\\u002f176.2\",\"CARNIVAL\\u002f179.6\",\"Stereo Love - Melodic\\u002f187.9\",\"Mitu\\u002f194.3\",\"Calm Down (with Selena Gomez)\\u002f198.0\",\"Panda Basi\\u002f200.3\",\"euphoria\\u002f202.1\",\"Houdini\\u002f205.1\",\"Please Please Please\\u002f205.7\",\"I'm Good (Blue)\\u002f209.6\",\"Lose Control\\u002f224.1\",\"A Bar Song (Tipsy)\\u002f226.4\",\"SHEESH\\u002f237.5\",\"we can't be friends (wait for your love)\\u002f262.8\",\"Fortnight (feat. Post Malone)\\u002f297.6\",\"bathroom floor\\u002f301.6\",\"Like That\\u002f308.2\",\"LUNCH\\u002f316.3\",\"I Had Some Help (feat. Morgan Wallen)\\u002f322.1\",\"Beautiful Things\\u002f407.2\",\"Houdini\\u002f423.3\",\"Not Like Us\\u002f545.9\",\"Voz Emplumada del Monte\\u002f100.3\",\"Con Calma\\u002f101.4\",\"Favorite Song\\u002f101.4\",\"Si No Quieres No\\u002f101.4\",\"rockstar (feat. 21 Savage)\\u002f101.8\",\"How Sweet\\u002f102.3\",\"Used To Be Young\\u002f102.4\",\"Illusion\\u002f103.1\",\"Panda\\u002f104.2\",\"Superhero (Heroes & Villains)\\u002f104.4\",\"KING KONG\\u002f104.5\",\"Milf Song\\u002f104.5\",\"Shallow\\u002f106.9\",\"Vois sur ton chemin - Techno Mix\\u002f107.8\",\"Whatever She Wants\\u002f108.4\",\"Whatever\\u002f109.0\",\"Stargazing\\u002f109.8\",\"Ojitos Lindos\\u002f110.7\",\"This Wish - From \\\"Wish\\\"\\u002f110.9\",\"Seg\\u00ef\\u00bf\\u00bd\\u00ef\\u00bf\\u00bdn Qu\\u002f111.8\",\"LUNA\\u002f112.6\",\"Havana (feat. Young Thug)\\u002f112.8\",\"PERRO NEGRO\\u002f114.2\",\"EL AMOR DE SU VIDA\\u002f115.9\",\"Circles\\u002f116.0\",\"Eyes Closed\\u002f116.6\",\"QLONA\\u002f120.7\",\"Too Sweet\\u002f121.2\",\"Again\\u002f122.5\",\"Family Matters\\u002f122.7\",\"SPOT!\\u002f122.8\",\"Lucid Dreams\\u002f123.9\",\"Abc\\u002f126.6\",\"I Don't Wanna Wait\\u002f126.9\",\"Back\\u002f128.0\",\"Casca de Bala\\u002f128.5\",\"Drained of Color\\u002f134.0\",\"MI EX TEN\\u00ef\\u00bf\\u00bd\\u00ef\\u00bf\\u00bdA RA\\u002f136.2\",\"Losing Interest - Original Mix\\u002f136.4\",\"Save Your Tears - Live\\u002f137.7\",\"FE!N\\u002f137.8\",\"Saturn\\u002f142.8\",\"Hands\\u002f143.9\",\"Bling-Bang-Bang-Born\\u002f144.0\",\"Pedro\\u002f144.6\",\"Armageddon\\u002f147.4\",\"Type Shit\\u002f148.1\",\"Training Season\\u002f148.9\",\"Laxed (Siren Beat)\\u002f150.5\",\"La Diabla\\u002f155.9\",\"Magnetic\\u002f161.0\",\"Ella Baila Sola\\u002f166.5\",\"CHIHIRO\\u002f167.8\",\"TQG\\u002f167.8\",\"The Way We Move - Extended Mix\\u002f173.6\",\"Babba\\u002f176.2\",\"CARNIVAL\\u002f179.6\",\"Stereo Love - Melodic\\u002f187.9\",\"Mitu\\u002f194.3\",\"Calm Down (with Selena Gomez)\\u002f198.0\",\"Panda Basi\\u002f200.3\",\"euphoria\\u002f202.1\",\"Houdini\\u002f205.1\",\"Please Please Please\\u002f205.7\",\"I'm Good (Blue)\\u002f209.6\",\"Lose Control\\u002f224.1\",\"A Bar Song (Tipsy)\\u002f226.4\",\"SHEESH\\u002f237.5\",\"we can't be friends (wait for your love)\\u002f262.8\",\"Fortnight (feat. Post Malone)\\u002f297.6\",\"bathroom floor\\u002f301.6\",\"Like That\\u002f308.2\",\"LUNCH\\u002f316.3\",\"I Had Some Help (feat. Morgan Wallen)\\u002f322.1\",\"Beautiful Things\\u002f407.2\",\"Houdini\\u002f423.3\",\"Not Like Us\\u002f545.9\",\"Voz Emplumada del Monte\\u002f100.3\",\"Con Calma\\u002f101.4\",\"Favorite Song\\u002f101.4\",\"Si No Quieres No\\u002f101.4\",\"rockstar (feat. 21 Savage)\\u002f101.8\",\"How Sweet\\u002f102.3\",\"Used To Be Young\\u002f102.4\",\"Illusion\\u002f103.1\",\"Panda\\u002f104.2\",\"Superhero (Heroes & Villains)\\u002f104.4\",\"KING KONG\\u002f104.5\",\"Milf Song\\u002f104.5\",\"Shallow\\u002f106.9\",\"Vois sur ton chemin - Techno Mix\\u002f107.8\",\"Whatever She Wants\\u002f108.4\",\"Whatever\\u002f109.0\",\"Stargazing\\u002f109.8\",\"Ojitos Lindos\\u002f110.7\",\"This Wish - From \\\"Wish\\\"\\u002f110.9\",\"Seg\\u00ef\\u00bf\\u00bd\\u00ef\\u00bf\\u00bdn Qu\\u002f111.8\",\"LUNA\\u002f112.6\",\"Havana (feat. Young Thug)\\u002f112.8\",\"PERRO NEGRO\\u002f114.2\",\"EL AMOR DE SU VIDA\\u002f115.9\",\"Circles\\u002f116.0\",\"Eyes Closed\\u002f116.6\",\"QLONA\\u002f120.7\",\"Too Sweet\\u002f121.2\",\"Again\\u002f122.5\",\"Family Matters\\u002f122.7\",\"SPOT!\\u002f122.8\",\"Lucid Dreams\\u002f123.9\",\"Abc\\u002f126.6\",\"I Don't Wanna Wait\\u002f126.9\",\"Back\\u002f128.0\",\"Casca de Bala\\u002f128.5\",\"Drained of Color\\u002f134.0\",\"MI EX TEN\\u00ef\\u00bf\\u00bd\\u00ef\\u00bf\\u00bdA RA\\u002f136.2\",\"Losing Interest - Original Mix\\u002f136.4\",\"Save Your Tears - Live\\u002f137.7\",\"FE!N\\u002f137.8\",\"Saturn\\u002f142.8\",\"Hands\\u002f143.9\",\"Bling-Bang-Bang-Born\\u002f144.0\",\"Pedro\\u002f144.6\",\"Armageddon\\u002f147.4\",\"Type Shit\\u002f148.1\",\"Training Season\\u002f148.9\",\"Laxed (Siren Beat)\\u002f150.5\",\"La Diabla\\u002f155.9\",\"Magnetic\\u002f161.0\",\"Ella Baila Sola\\u002f166.5\",\"CHIHIRO\\u002f167.8\",\"TQG\\u002f167.8\",\"The Way We Move - Extended Mix\\u002f173.6\",\"Babba\\u002f176.2\",\"CARNIVAL\\u002f179.6\",\"Stereo Love - Melodic\\u002f187.9\",\"Mitu\\u002f194.3\",\"Calm Down (with Selena Gomez)\\u002f198.0\",\"Panda Basi\\u002f200.3\",\"euphoria\\u002f202.1\",\"Houdini\\u002f205.1\",\"Please Please Please\\u002f205.7\",\"I'm Good (Blue)\\u002f209.6\",\"Lose Control\\u002f224.1\",\"A Bar Song (Tipsy)\\u002f226.4\",\"SHEESH\\u002f237.5\",\"we can't be friends (wait for your love)\\u002f262.8\",\"Fortnight (feat. Post Malone)\\u002f297.6\",\"bathroom floor\\u002f301.6\",\"Like That\\u002f308.2\",\"LUNCH\\u002f316.3\",\"I Had Some Help (feat. Morgan Wallen)\\u002f322.1\",\"Beautiful Things\\u002f407.2\",\"Houdini\\u002f423.3\",\"Not Like Us\\u002f545.9\",\"Con Calma\\u002f101.4\",\"Favorite Song\\u002f101.4\",\"Si No Quieres No\\u002f101.4\",\"rockstar (feat. 21 Savage)\\u002f101.8\",\"How Sweet\\u002f102.3\",\"Used To Be Young\\u002f102.4\",\"Illusion\\u002f103.1\",\"Panda\\u002f104.2\",\"Superhero (Heroes & Villains)\\u002f104.4\",\"KING KONG\\u002f104.5\",\"Shallow\\u002f106.9\",\"Whatever She Wants\\u002f108.4\",\"Whatever\\u002f109.0\",\"Stargazing\\u002f109.8\",\"Ojitos Lindos\\u002f110.7\",\"This Wish - From \\\"Wish\\\"\\u002f110.9\",\"Seg\\u00ef\\u00bf\\u00bd\\u00ef\\u00bf\\u00bdn Qu\\u002f111.8\",\"LUNA\\u002f112.6\",\"Havana (feat. Young Thug)\\u002f112.8\",\"PERRO NEGRO\\u002f114.2\",\"EL AMOR DE SU VIDA\\u002f115.9\",\"Circles\\u002f116.0\",\"Eyes Closed\\u002f116.6\",\"QLONA\\u002f120.7\",\"Too Sweet\\u002f121.2\",\"Family Matters\\u002f122.7\",\"SPOT!\\u002f122.8\",\"Lucid Dreams\\u002f123.9\",\"I Don't Wanna Wait\\u002f126.9\",\"MI EX TEN\\u00ef\\u00bf\\u00bd\\u00ef\\u00bf\\u00bdA RA\\u002f136.2\",\"Save Your Tears - Live\\u002f137.7\",\"FE!N\\u002f137.8\",\"Saturn\\u002f142.8\",\"Bling-Bang-Bang-Born\\u002f144.0\",\"Pedro\\u002f144.6\",\"Armageddon\\u002f147.4\",\"Type Shit\\u002f148.1\",\"Training Season\\u002f148.9\",\"La Diabla\\u002f155.9\",\"Magnetic\\u002f161.0\",\"Ella Baila Sola\\u002f166.5\",\"CHIHIRO\\u002f167.8\",\"TQG\\u002f167.8\",\"CARNIVAL\\u002f179.6\",\"Stereo Love - Melodic\\u002f187.9\",\"Calm Down (with Selena Gomez)\\u002f198.0\",\"euphoria\\u002f202.1\",\"Houdini\\u002f205.1\",\"Please Please Please\\u002f205.7\",\"I'm Good (Blue)\\u002f209.6\",\"Lose Control\\u002f224.1\",\"A Bar Song (Tipsy)\\u002f226.4\",\"SHEESH\\u002f237.5\",\"we can't be friends (wait for your love)\\u002f262.8\",\"Fortnight (feat. Post Malone)\\u002f297.6\",\"Like That\\u002f308.2\",\"LUNCH\\u002f316.3\",\"I Had Some Help (feat. Morgan Wallen)\\u002f322.1\",\"Beautiful Things\\u002f407.2\",\"Houdini\\u002f423.3\",\"Not Like Us\\u002f545.9\",\"Voz Emplumada del Monte\\u002f100.3\",\"Con Calma\\u002f101.4\",\"Favorite Song\\u002f101.4\",\"Si No Quieres No\\u002f101.4\",\"rockstar (feat. 21 Savage)\\u002f101.8\",\"How Sweet\\u002f102.3\",\"Used To Be Young\\u002f102.4\",\"Illusion\\u002f103.1\",\"Panda\\u002f104.2\",\"Superhero (Heroes & Villains)\\u002f104.4\",\"KING KONG\\u002f104.5\",\"Milf Song\\u002f104.5\",\"Shallow\\u002f106.9\",\"Vois sur ton chemin - Techno Mix\\u002f107.8\",\"Whatever She Wants\\u002f108.4\",\"Whatever\\u002f109.0\",\"Stargazing\\u002f109.8\",\"Ojitos Lindos\\u002f110.7\",\"This Wish - From \\\"Wish\\\"\\u002f110.9\",\"Seg\\u00ef\\u00bf\\u00bd\\u00ef\\u00bf\\u00bdn Qu\\u002f111.8\",\"LUNA\\u002f112.6\",\"Havana (feat. Young Thug)\\u002f112.8\",\"PERRO NEGRO\\u002f114.2\",\"EL AMOR DE SU VIDA\\u002f115.9\",\"Circles\\u002f116.0\",\"Eyes Closed\\u002f116.6\",\"QLONA\\u002f120.7\",\"Too Sweet\\u002f121.2\",\"Again\\u002f122.5\",\"Family Matters\\u002f122.7\",\"SPOT!\\u002f122.8\",\"Lucid Dreams\\u002f123.9\",\"Abc\\u002f126.6\",\"I Don't Wanna Wait\\u002f126.9\",\"Back\\u002f128.0\",\"Casca de Bala\\u002f128.5\",\"Drained of Color\\u002f134.0\",\"MI EX TEN\\u00ef\\u00bf\\u00bd\\u00ef\\u00bf\\u00bdA RA\\u002f136.2\",\"Losing Interest - Original Mix\\u002f136.4\",\"Save Your Tears - Live\\u002f137.7\",\"FE!N\\u002f137.8\",\"Saturn\\u002f142.8\",\"Hands\\u002f143.9\",\"Bling-Bang-Bang-Born\\u002f144.0\",\"Pedro\\u002f144.6\",\"Armageddon\\u002f147.4\",\"Type Shit\\u002f148.1\",\"Training Season\\u002f148.9\",\"Laxed (Siren Beat)\\u002f150.5\",\"La Diabla\\u002f155.9\",\"Magnetic\\u002f161.0\",\"Ella Baila Sola\\u002f166.5\",\"CHIHIRO\\u002f167.8\",\"TQG\\u002f167.8\",\"The Way We Move - Extended Mix\\u002f173.6\",\"Babba\\u002f176.2\",\"CARNIVAL\\u002f179.6\",\"Stereo Love - Melodic\\u002f187.9\",\"Mitu\\u002f194.3\",\"Calm Down (with Selena Gomez)\\u002f198.0\",\"Panda Basi\\u002f200.3\",\"euphoria\\u002f202.1\",\"Houdini\\u002f205.1\",\"Please Please Please\\u002f205.7\",\"I'm Good (Blue)\\u002f209.6\",\"Lose Control\\u002f224.1\",\"A Bar Song (Tipsy)\\u002f226.4\",\"SHEESH\\u002f237.5\",\"we can't be friends (wait for your love)\\u002f262.8\",\"Fortnight (feat. Post Malone)\\u002f297.6\",\"bathroom floor\\u002f301.6\",\"Like That\\u002f308.2\",\"LUNCH\\u002f316.3\",\"I Had Some Help (feat. Morgan Wallen)\\u002f322.1\",\"Beautiful Things\\u002f407.2\",\"Houdini\\u002f423.3\",\"Not Like Us\\u002f545.9\",\"Voz Emplumada del Monte\\u002f100.3\",\"Con Calma\\u002f101.4\",\"Favorite Song\\u002f101.4\",\"Si No Quieres No\\u002f101.4\",\"rockstar (feat. 21 Savage)\\u002f101.8\",\"How Sweet\\u002f102.3\",\"Used To Be Young\\u002f102.4\",\"Illusion\\u002f103.1\",\"Panda\\u002f104.2\",\"Superhero (Heroes & Villains)\\u002f104.4\",\"KING KONG\\u002f104.5\",\"Milf Song\\u002f104.5\",\"Shallow\\u002f106.9\",\"Vois sur ton chemin - Techno Mix\\u002f107.8\",\"Whatever She Wants\\u002f108.4\",\"Whatever\\u002f109.0\",\"Stargazing\\u002f109.8\",\"Ojitos Lindos\\u002f110.7\",\"This Wish - From \\\"Wish\\\"\\u002f110.9\",\"Seg\\u00ef\\u00bf\\u00bd\\u00ef\\u00bf\\u00bdn Qu\\u002f111.8\",\"LUNA\\u002f112.6\",\"Havana (feat. Young Thug)\\u002f112.8\",\"PERRO NEGRO\\u002f114.2\",\"EL AMOR DE SU VIDA\\u002f115.9\",\"Circles\\u002f116.0\",\"Eyes Closed\\u002f116.6\",\"QLONA\\u002f120.7\",\"Too Sweet\\u002f121.2\",\"Again\\u002f122.5\",\"Family Matters\\u002f122.7\",\"SPOT!\\u002f122.8\",\"Lucid Dreams\\u002f123.9\",\"Abc\\u002f126.6\",\"I Don't Wanna Wait\\u002f126.9\",\"Back\\u002f128.0\",\"Casca de Bala\\u002f128.5\",\"Drained of Color\\u002f134.0\",\"MI EX TEN\\u00ef\\u00bf\\u00bd\\u00ef\\u00bf\\u00bdA RA\\u002f136.2\",\"Losing Interest - Original Mix\\u002f136.4\",\"Save Your Tears - Live\\u002f137.7\",\"FE!N\\u002f137.8\",\"Saturn\\u002f142.8\",\"Hands\\u002f143.9\",\"Bling-Bang-Bang-Born\\u002f144.0\",\"Pedro\\u002f144.6\",\"Armageddon\\u002f147.4\",\"Type Shit\\u002f148.1\",\"Training Season\\u002f148.9\",\"Laxed (Siren Beat)\\u002f150.5\",\"La Diabla\\u002f155.9\",\"Magnetic\\u002f161.0\",\"Ella Baila Sola\\u002f166.5\",\"CHIHIRO\\u002f167.8\",\"TQG\\u002f167.8\",\"The Way We Move - Extended Mix\\u002f173.6\",\"Babba\\u002f176.2\",\"CARNIVAL\\u002f179.6\",\"Stereo Love - Melodic\\u002f187.9\",\"Mitu\\u002f194.3\",\"Calm Down (with Selena Gomez)\\u002f198.0\",\"Panda Basi\\u002f200.3\",\"euphoria\\u002f202.1\",\"Houdini\\u002f205.1\",\"Please Please Please\\u002f205.7\",\"I'm Good (Blue)\\u002f209.6\",\"Lose Control\\u002f224.1\",\"A Bar Song (Tipsy)\\u002f226.4\",\"SHEESH\\u002f237.5\",\"we can't be friends (wait for your love)\\u002f262.8\",\"Fortnight (feat. Post Malone)\\u002f297.6\",\"bathroom floor\\u002f301.6\",\"Like That\\u002f308.2\",\"LUNCH\\u002f316.3\",\"I Had Some Help (feat. Morgan Wallen)\\u002f322.1\",\"Beautiful Things\\u002f407.2\",\"Houdini\\u002f423.3\",\"Not Like Us\\u002f545.9\",\"Voz Emplumada del Monte\\u002f100.3\",\"Con Calma\\u002f101.4\",\"Favorite Song\\u002f101.4\",\"Si No Quieres No\\u002f101.4\",\"rockstar (feat. 21 Savage)\\u002f101.8\",\"How Sweet\\u002f102.3\",\"Used To Be Young\\u002f102.4\",\"Illusion\\u002f103.1\",\"Panda\\u002f104.2\",\"Superhero (Heroes & Villains)\\u002f104.4\",\"KING KONG\\u002f104.5\",\"Milf Song\\u002f104.5\",\"Shallow\\u002f106.9\",\"Vois sur ton chemin - Techno Mix\\u002f107.8\",\"Whatever She Wants\\u002f108.4\",\"Whatever\\u002f109.0\",\"Stargazing\\u002f109.8\",\"Ojitos Lindos\\u002f110.7\",\"This Wish - From \\\"Wish\\\"\\u002f110.9\",\"Seg\\u00ef\\u00bf\\u00bd\\u00ef\\u00bf\\u00bdn Qu\\u002f111.8\",\"LUNA\\u002f112.6\",\"Havana (feat. Young Thug)\\u002f112.8\",\"PERRO NEGRO\\u002f114.2\",\"EL AMOR DE SU VIDA\\u002f115.9\",\"Circles\\u002f116.0\",\"Eyes Closed\\u002f116.6\",\"QLONA\\u002f120.7\",\"Too Sweet\\u002f121.2\",\"Again\\u002f122.5\",\"Family Matters\\u002f122.7\",\"SPOT!\\u002f122.8\",\"Lucid Dreams\\u002f123.9\",\"Abc\\u002f126.6\",\"I Don't Wanna Wait\\u002f126.9\",\"Back\\u002f128.0\",\"Casca de Bala\\u002f128.5\",\"Drained of Color\\u002f134.0\",\"MI EX TEN\\u00ef\\u00bf\\u00bd\\u00ef\\u00bf\\u00bdA RA\\u002f136.2\",\"Losing Interest - Original Mix\\u002f136.4\",\"Save Your Tears - Live\\u002f137.7\",\"FE!N\\u002f137.8\",\"Saturn\\u002f142.8\",\"Hands\\u002f143.9\",\"Bling-Bang-Bang-Born\\u002f144.0\",\"Pedro\\u002f144.6\",\"Armageddon\\u002f147.4\",\"Type Shit\\u002f148.1\",\"Training Season\\u002f148.9\",\"Laxed (Siren Beat)\\u002f150.5\",\"La Diabla\\u002f155.9\",\"Magnetic\\u002f161.0\",\"Ella Baila Sola\\u002f166.5\",\"CHIHIRO\\u002f167.8\",\"TQG\\u002f167.8\",\"The Way We Move - Extended Mix\\u002f173.6\",\"Babba\\u002f176.2\",\"CARNIVAL\\u002f179.6\",\"Stereo Love - Melodic\\u002f187.9\",\"Mitu\\u002f194.3\",\"Calm Down (with Selena Gomez)\\u002f198.0\",\"Panda Basi\\u002f200.3\",\"euphoria\\u002f202.1\",\"Houdini\\u002f205.1\",\"Please Please Please\\u002f205.7\",\"I'm Good (Blue)\\u002f209.6\",\"Lose Control\\u002f224.1\",\"A Bar Song (Tipsy)\\u002f226.4\",\"SHEESH\\u002f237.5\",\"we can't be friends (wait for your love)\\u002f262.8\",\"Fortnight (feat. Post Malone)\\u002f297.6\",\"bathroom floor\\u002f301.6\",\"Like That\\u002f308.2\",\"LUNCH\\u002f316.3\",\"I Had Some Help (feat. Morgan Wallen)\\u002f322.1\",\"Beautiful Things\\u002f407.2\",\"Houdini\\u002f423.3\",\"Not Like Us\\u002f545.9\",\"Voz Emplumada del Monte\",\"Con Calma\",\"Favorite Song\",\"Si No Quieres No\",\"rockstar (feat. 21 Savage)\",\"How Sweet\",\"Used To Be Young\",\"Illusion\",\"Panda\",\"Superhero (Heroes & Villains)\",\"KING KONG\",\"Milf Song\",\"Shallow\",\"Vois sur ton chemin - Techno Mix\",\"Whatever She Wants\",\"Whatever\",\"Stargazing\",\"Ojitos Lindos\",\"This Wish - From \\\"Wish\\\"\",\"Seg\\u00ef\\u00bf\\u00bd\\u00ef\\u00bf\\u00bdn Qu\",\"LUNA\",\"Havana (feat. Young Thug)\",\"PERRO NEGRO\",\"EL AMOR DE SU VIDA\",\"Circles\",\"Eyes Closed\",\"QLONA\",\"Too Sweet\",\"Again\",\"Family Matters\",\"SPOT!\",\"Lucid Dreams\",\"Abc\",\"I Don't Wanna Wait\",\"Back\",\"Casca de Bala\",\"Drained of Color\",\"MI EX TEN\\u00ef\\u00bf\\u00bd\\u00ef\\u00bf\\u00bdA RA\",\"Losing Interest - Original Mix\",\"Save Your Tears - Live\",\"FE!N\",\"Saturn\",\"Hands\",\"Bling-Bang-Bang-Born\",\"Pedro\",\"Armageddon\",\"Type Shit\",\"Training Season\",\"Laxed (Siren Beat)\",\"La Diabla\",\"Magnetic\",\"Ella Baila Sola\",\"CHIHIRO\",\"TQG\",\"The Way We Move - Extended Mix\",\"Babba\",\"CARNIVAL\",\"Stereo Love - Melodic\",\"Mitu\",\"Calm Down (with Selena Gomez)\",\"Panda Basi\",\"euphoria\",\"Houdini\",\"Please Please Please\",\"I'm Good (Blue)\",\"Lose Control\",\"A Bar Song (Tipsy)\",\"SHEESH\",\"we can't be friends (wait for your love)\",\"Fortnight (feat. Post Malone)\",\"bathroom floor\",\"Like That\",\"LUNCH\",\"I Had Some Help (feat. Morgan Wallen)\",\"Beautiful Things\",\"Houdini\",\"Not Like Us\",\"\",\"\",\"\",\"\",\"\",\"\",\"\",\"\",\"\",\"\",\"\",\"\",\"\",\"\",\"\",\"\",\"\",\"\",\"\",\"\",\"\",\"\",\"\",\"\",\"\",\"\",\"\",\"\",\"\",\"\",\"\",\"\",\"\",\"\",\"\",\"\",\"\",\"\",\"\",\"\",\"\",\"\",\"\",\"\",\"\",\"\",\"\",\"\",\"\",\"\",\"\",\"\",\"\",\"\",\"\",\"\",\"\",\"\",\"\",\"\",\"\",\"\",\"\",\"\",\"\",\"\",\"\",\"\",\"\",\"\",\"\",\"\",\"\",\"\",\"\",\"\"],\"values\":[17.0,46.0,9.0,15.0,47.0,62.0,62.0,75.0,14.0,41.0,25.0,17.0,95.0,23.0,65.0,109.0,109.0,49.0,20.0,29.0,31.0,95.0,44.0,27.0,69.0,68.0,83.0,108.0,17.0,60.0,20.0,36.0,17.0,133.0,17.0,11.0,17.0,38.0,17.0,37.125,38.0,87.0,17.0,17.0,54.0,33.0,47.0,116.0,1.0,26.0,44.0,61.0,59.0,131.0,17.0,17.0,29.0,17.0,17.0,146.0,17.0,31.0,127.0,98.0,168.0,120.0,146.0,26.0,126.0,134.0,17.0,109.0,163.0,114.0,154.0,105.0,111.0,28.0,184.0,43.0,34.0,235.0,58.0,97.0,113.0,245.0,56.0,10.0,28.0,261.0,56.0,61.0,111.0,120.0,91.0,36.0,50.0,80.0,342.0,67.0,27.0,355.0,132.0,72.0,235.0,28.0,38.0,27.0,153.0,28.0,87.0,28.0,11.0,28.0,56.0,28.0,151.03703703703704,87.0,120.0,28.0,53.0,107.0,37.0,99.0,162.0,15.0,29.0,67.0,83.0,185.0,138.0,28.0,2.0,42.0,28.0,28.0,316.0,28.0,65.0,174.0,199.0,285.0,215.0,149.0,36.0,194.0,221.0,1.0,153.0,244.0,157.0,280.0,182.0,188.0,15.0,87.0,4.0,8.0,122.0,8.0,64.0,74.0,63.0,13.0,5.0,15.0,158.0,52.0,31.0,171.0,93.0,42.0,4.0,60.0,64.0,541.0,51.0,22.0,311.0,32.0,57.0,85.0,15.0,16.0,2.0,54.0,15.0,128.0,15.0,32.0,15.0,29.0,15.0,70.11538461538461,46.0,103.0,15.0,18.0,158.0,5.0,41.0,127.0,5.0,34.0,9.0,24.0,53.0,84.0,15.0,15.0,11.0,15.0,15.0,112.0,15.0,20.0,146.0,73.0,207.0,133.0,58.0,3.0,117.0,99.0,15.0,55.0,138.0,60.0,168.0,82.0,67.0,69412.0,71027.0,3601.0,632152.0,100.0,10442.0,522.0,1442436.0,16722.0,4.0,651760.0,6101.0,568.0,548.0,17651.0,2942.0,8715.0,1179.0,772600.0,3684.0,9094.0,212174.0,6969.0,12492.0,23005.0,2302.0,98.0,552552.0,442.0,9932.0,1165.0,6510.0,7496.0,1928.0,482.0,48.0,4527.0,3796.0,29401.0,1207.0,53890.0,698.0,16511.0,11303.0,885123.0,41487.0,4843.0,3694.0,758.0,31235.0,72429.0,30180.0,592.0,7689.0,13437.0,18364.0,1219.0,21172.0,57372.0,7006.0,28444.0,80.0,160122.0,45668.0,5423.0,352745.0,1940.0,30639.0,7430.0,170002.0,166277.0,207.0,1176.0,221822.0,119783.0,23181.0,17551.0,9406.0,152592.0,2673.0,32236.0,40628.0,194332.0,61138.0,24891.0,332437.0,44730.0,56104.0,22396.0,2.0,8696.0,3407.0,339306.0,5.0,10564.0,92.0,2052.0,635.0,23959.0,5.0,545.0,129923.0,21104.0,8.0,22222.0,27654.0,1262.0,28064.0,16811.0,7240.0,27544.0,11500.0,129463.0,11028.0,78554.0,38.0,252.0,53842.0,2.0,42.0,163876.0,249.0,17168.0,45300.0,2572.0,262248.0,88239.0,25766.0,3479.0,26203.0,12784.0,277.0,43025.0,13800.0,16219.0,73118.0,7223.0,28113.0,12703314.5,26028684.0,11127302.0,14500.0,40652322.0,12703314.5,33519594.0,4057.0,33020704.0,14181961.0,12703314.5,1476436.0,11103476.0,1804060.0,22398663.0,12703314.5,279000.0,14518451.0,50776319.0,12703314.5,5128004.0,53911465.0,49332435.0,32754141.0,26892604.0,38959591.0,58820722.0,12703314.5,12703314.5,12703314.5,46645177.0,44442433.0,12703314.5,4419373.0,102828.0,853176.0,422.0,46080266.0,12703314.5,12703314.5,13787343.0,12703314.5,188.0,22950364.0,12703314.5,12703314.5,12703314.5,34572688.0,9239474.0,414833.0,57656713.0,550073.0,12703314.5,15048444.0,12703314.5,12703314.5,12703314.5,12703314.5,12703314.5,48035.0,36666.0,12703314.5,35970610.0,188200.0,54258768.0,49060857.0,27811667.0,48327004.0,12703314.5,25348800.0,1088.0,12703314.5,45889000.0,184500.0,29584940.0,12703314.5,35223547.0,2113492.0,16913257.0,1670867.0,889014.0,23334015.0,965652.0,1364492.0,60459.0,22334292.0,1750863.0,931230.0,3631067.0,15274815.0,491577.0,254004.0,522558.0,167936.0,5587691.0,84565.0,1369288.0,1019744.0,32333846.0,738123.0,1569516.0,8490012.0,1074684.0,1174349.0,218957.0,1072084.5,1034563.0,2531168.0,9384427.0,2066653.0,124326.0,5670850.0,427441.0,1072084.5,2202866.0,1072084.5,9304666.0,1990342.0,349660.0,7208467.0,4392933.0,717214.0,1257935.0,672789.0,961957.0,201210.0,2750086.0,2596912.0,3831236.0,997411.0,8953293.0,5708577.0,6076902.0,449112.0,1072084.5,8162101.0,8099187.0,1072084.5,1846535.0,1575378.0,1026097.0,4324989.0,1504385.0,837616.0,4907193.0,3080503.0,2484083.0,16785489.0,1456177.0,1307290.0,550191.0,4120760.0,3670188.0,3486739.0,14816946.5,43171792.0,12914920.0,912595.0,64971638.0,13671134.5,34925390.0,72730.0,56967756.0,16115933.0,13634795.5,5108739.0,27252387.0,2415551.0,22682106.0,13244382.5,457212.0,20276567.0,50866559.0,14113692.5,6189730.0,87213221.0,50135542.0,34357718.0,35927962.0,40086206.0,60063879.0,12968100.5,13775461.0,13748989.5,49179899.0,54718961.0,14770032.5,4555053.0,5773830.0,1282723.0,1073201.5,48317146.0,13775464.0,22009948.777421653,15914289.0,13081884.5,7208723.0,27367535.0,13448983.5,13962634.5,13408881.5,35555657.0,9447945.0,3221953.0,60266452.0,4564830.0,13712748.5,24097155.0,18411989.5,18780502.5,13217653.5,14660584.0,20865517.5,8353159.0,1109059.5,14571976.5,37595429.0,1217997.0,58877900.0,50726378.0,28705582.0,53238333.0,15818146.5,27859558.0,16786887.0,14221197.5,47211854.0,772413.0,33836792.0,16388100.5,38767209.0,28705582.0,14770032.5,13775461.0,13962634.5,18780502.5,5773830.0,33836792.0,27367535.0,13217653.5,13712748.5,8353159.0,1282723.0,35927962.0,43171792.0,1073201.5,34357718.0,4564830.0,40086206.0,15914289.0,13748989.5,12914920.0,27859558.0,7208723.0,87213221.0,53983529.5,13671134.5,4555053.0,772413.0,58877900.0,72730.0,13634795.5,6189730.0,47211854.0,3221953.0,9447945.0,14221197.5,50726378.0,13775464.0,54718961.0,48317146.0,60266452.0,5108739.0,20865517.5,38767209.0,20276567.0,50135542.0,56967756.0,1109059.5,13448983.5,1217997.0,60063879.0,53238333.0,49179899.0,13081884.5,22009948.777421653,14113692.5,27252387.0,912595.0,457212.0,14660584.0,16115933.0,24097155.0,18411989.5,50866559.0,12968100.5,35555657.0,13408881.5,34925390.0,2415551.0,14816946.5,13244382.5,22682106.0,16786887.0,14571976.5,64971638.0,15818146.5],\"type\":\"treemap\"}],                        {\"template\":{\"data\":{\"histogram2dcontour\":[{\"type\":\"histogram2dcontour\",\"colorbar\":{\"outlinewidth\":0,\"ticks\":\"\"},\"colorscale\":[[0.0,\"#0d0887\"],[0.1111111111111111,\"#46039f\"],[0.2222222222222222,\"#7201a8\"],[0.3333333333333333,\"#9c179e\"],[0.4444444444444444,\"#bd3786\"],[0.5555555555555556,\"#d8576b\"],[0.6666666666666666,\"#ed7953\"],[0.7777777777777778,\"#fb9f3a\"],[0.8888888888888888,\"#fdca26\"],[1.0,\"#f0f921\"]]}],\"choropleth\":[{\"type\":\"choropleth\",\"colorbar\":{\"outlinewidth\":0,\"ticks\":\"\"}}],\"histogram2d\":[{\"type\":\"histogram2d\",\"colorbar\":{\"outlinewidth\":0,\"ticks\":\"\"},\"colorscale\":[[0.0,\"#0d0887\"],[0.1111111111111111,\"#46039f\"],[0.2222222222222222,\"#7201a8\"],[0.3333333333333333,\"#9c179e\"],[0.4444444444444444,\"#bd3786\"],[0.5555555555555556,\"#d8576b\"],[0.6666666666666666,\"#ed7953\"],[0.7777777777777778,\"#fb9f3a\"],[0.8888888888888888,\"#fdca26\"],[1.0,\"#f0f921\"]]}],\"heatmap\":[{\"type\":\"heatmap\",\"colorbar\":{\"outlinewidth\":0,\"ticks\":\"\"},\"colorscale\":[[0.0,\"#0d0887\"],[0.1111111111111111,\"#46039f\"],[0.2222222222222222,\"#7201a8\"],[0.3333333333333333,\"#9c179e\"],[0.4444444444444444,\"#bd3786\"],[0.5555555555555556,\"#d8576b\"],[0.6666666666666666,\"#ed7953\"],[0.7777777777777778,\"#fb9f3a\"],[0.8888888888888888,\"#fdca26\"],[1.0,\"#f0f921\"]]}],\"heatmapgl\":[{\"type\":\"heatmapgl\",\"colorbar\":{\"outlinewidth\":0,\"ticks\":\"\"},\"colorscale\":[[0.0,\"#0d0887\"],[0.1111111111111111,\"#46039f\"],[0.2222222222222222,\"#7201a8\"],[0.3333333333333333,\"#9c179e\"],[0.4444444444444444,\"#bd3786\"],[0.5555555555555556,\"#d8576b\"],[0.6666666666666666,\"#ed7953\"],[0.7777777777777778,\"#fb9f3a\"],[0.8888888888888888,\"#fdca26\"],[1.0,\"#f0f921\"]]}],\"contourcarpet\":[{\"type\":\"contourcarpet\",\"colorbar\":{\"outlinewidth\":0,\"ticks\":\"\"}}],\"contour\":[{\"type\":\"contour\",\"colorbar\":{\"outlinewidth\":0,\"ticks\":\"\"},\"colorscale\":[[0.0,\"#0d0887\"],[0.1111111111111111,\"#46039f\"],[0.2222222222222222,\"#7201a8\"],[0.3333333333333333,\"#9c179e\"],[0.4444444444444444,\"#bd3786\"],[0.5555555555555556,\"#d8576b\"],[0.6666666666666666,\"#ed7953\"],[0.7777777777777778,\"#fb9f3a\"],[0.8888888888888888,\"#fdca26\"],[1.0,\"#f0f921\"]]}],\"surface\":[{\"type\":\"surface\",\"colorbar\":{\"outlinewidth\":0,\"ticks\":\"\"},\"colorscale\":[[0.0,\"#0d0887\"],[0.1111111111111111,\"#46039f\"],[0.2222222222222222,\"#7201a8\"],[0.3333333333333333,\"#9c179e\"],[0.4444444444444444,\"#bd3786\"],[0.5555555555555556,\"#d8576b\"],[0.6666666666666666,\"#ed7953\"],[0.7777777777777778,\"#fb9f3a\"],[0.8888888888888888,\"#fdca26\"],[1.0,\"#f0f921\"]]}],\"mesh3d\":[{\"type\":\"mesh3d\",\"colorbar\":{\"outlinewidth\":0,\"ticks\":\"\"}}],\"scatter\":[{\"fillpattern\":{\"fillmode\":\"overlay\",\"size\":10,\"solidity\":0.2},\"type\":\"scatter\"}],\"parcoords\":[{\"type\":\"parcoords\",\"line\":{\"colorbar\":{\"outlinewidth\":0,\"ticks\":\"\"}}}],\"scatterpolargl\":[{\"type\":\"scatterpolargl\",\"marker\":{\"colorbar\":{\"outlinewidth\":0,\"ticks\":\"\"}}}],\"bar\":[{\"error_x\":{\"color\":\"#2a3f5f\"},\"error_y\":{\"color\":\"#2a3f5f\"},\"marker\":{\"line\":{\"color\":\"#E5ECF6\",\"width\":0.5},\"pattern\":{\"fillmode\":\"overlay\",\"size\":10,\"solidity\":0.2}},\"type\":\"bar\"}],\"scattergeo\":[{\"type\":\"scattergeo\",\"marker\":{\"colorbar\":{\"outlinewidth\":0,\"ticks\":\"\"}}}],\"scatterpolar\":[{\"type\":\"scatterpolar\",\"marker\":{\"colorbar\":{\"outlinewidth\":0,\"ticks\":\"\"}}}],\"histogram\":[{\"marker\":{\"pattern\":{\"fillmode\":\"overlay\",\"size\":10,\"solidity\":0.2}},\"type\":\"histogram\"}],\"scattergl\":[{\"type\":\"scattergl\",\"marker\":{\"colorbar\":{\"outlinewidth\":0,\"ticks\":\"\"}}}],\"scatter3d\":[{\"type\":\"scatter3d\",\"line\":{\"colorbar\":{\"outlinewidth\":0,\"ticks\":\"\"}},\"marker\":{\"colorbar\":{\"outlinewidth\":0,\"ticks\":\"\"}}}],\"scattermapbox\":[{\"type\":\"scattermapbox\",\"marker\":{\"colorbar\":{\"outlinewidth\":0,\"ticks\":\"\"}}}],\"scatterternary\":[{\"type\":\"scatterternary\",\"marker\":{\"colorbar\":{\"outlinewidth\":0,\"ticks\":\"\"}}}],\"scattercarpet\":[{\"type\":\"scattercarpet\",\"marker\":{\"colorbar\":{\"outlinewidth\":0,\"ticks\":\"\"}}}],\"carpet\":[{\"aaxis\":{\"endlinecolor\":\"#2a3f5f\",\"gridcolor\":\"white\",\"linecolor\":\"white\",\"minorgridcolor\":\"white\",\"startlinecolor\":\"#2a3f5f\"},\"baxis\":{\"endlinecolor\":\"#2a3f5f\",\"gridcolor\":\"white\",\"linecolor\":\"white\",\"minorgridcolor\":\"white\",\"startlinecolor\":\"#2a3f5f\"},\"type\":\"carpet\"}],\"table\":[{\"cells\":{\"fill\":{\"color\":\"#EBF0F8\"},\"line\":{\"color\":\"white\"}},\"header\":{\"fill\":{\"color\":\"#C8D4E3\"},\"line\":{\"color\":\"white\"}},\"type\":\"table\"}],\"barpolar\":[{\"marker\":{\"line\":{\"color\":\"#E5ECF6\",\"width\":0.5},\"pattern\":{\"fillmode\":\"overlay\",\"size\":10,\"solidity\":0.2}},\"type\":\"barpolar\"}],\"pie\":[{\"automargin\":true,\"type\":\"pie\"}]},\"layout\":{\"autotypenumbers\":\"strict\",\"colorway\":[\"#636efa\",\"#EF553B\",\"#00cc96\",\"#ab63fa\",\"#FFA15A\",\"#19d3f3\",\"#FF6692\",\"#B6E880\",\"#FF97FF\",\"#FECB52\"],\"font\":{\"color\":\"#2a3f5f\"},\"hovermode\":\"closest\",\"hoverlabel\":{\"align\":\"left\"},\"paper_bgcolor\":\"white\",\"plot_bgcolor\":\"#E5ECF6\",\"polar\":{\"bgcolor\":\"#E5ECF6\",\"angularaxis\":{\"gridcolor\":\"white\",\"linecolor\":\"white\",\"ticks\":\"\"},\"radialaxis\":{\"gridcolor\":\"white\",\"linecolor\":\"white\",\"ticks\":\"\"}},\"ternary\":{\"bgcolor\":\"#E5ECF6\",\"aaxis\":{\"gridcolor\":\"white\",\"linecolor\":\"white\",\"ticks\":\"\"},\"baxis\":{\"gridcolor\":\"white\",\"linecolor\":\"white\",\"ticks\":\"\"},\"caxis\":{\"gridcolor\":\"white\",\"linecolor\":\"white\",\"ticks\":\"\"}},\"coloraxis\":{\"colorbar\":{\"outlinewidth\":0,\"ticks\":\"\"}},\"colorscale\":{\"sequential\":[[0.0,\"#0d0887\"],[0.1111111111111111,\"#46039f\"],[0.2222222222222222,\"#7201a8\"],[0.3333333333333333,\"#9c179e\"],[0.4444444444444444,\"#bd3786\"],[0.5555555555555556,\"#d8576b\"],[0.6666666666666666,\"#ed7953\"],[0.7777777777777778,\"#fb9f3a\"],[0.8888888888888888,\"#fdca26\"],[1.0,\"#f0f921\"]],\"sequentialminus\":[[0.0,\"#0d0887\"],[0.1111111111111111,\"#46039f\"],[0.2222222222222222,\"#7201a8\"],[0.3333333333333333,\"#9c179e\"],[0.4444444444444444,\"#bd3786\"],[0.5555555555555556,\"#d8576b\"],[0.6666666666666666,\"#ed7953\"],[0.7777777777777778,\"#fb9f3a\"],[0.8888888888888888,\"#fdca26\"],[1.0,\"#f0f921\"]],\"diverging\":[[0,\"#8e0152\"],[0.1,\"#c51b7d\"],[0.2,\"#de77ae\"],[0.3,\"#f1b6da\"],[0.4,\"#fde0ef\"],[0.5,\"#f7f7f7\"],[0.6,\"#e6f5d0\"],[0.7,\"#b8e186\"],[0.8,\"#7fbc41\"],[0.9,\"#4d9221\"],[1,\"#276419\"]]},\"xaxis\":{\"gridcolor\":\"white\",\"linecolor\":\"white\",\"ticks\":\"\",\"title\":{\"standoff\":15},\"zerolinecolor\":\"white\",\"automargin\":true,\"zerolinewidth\":2},\"yaxis\":{\"gridcolor\":\"white\",\"linecolor\":\"white\",\"ticks\":\"\",\"title\":{\"standoff\":15},\"zerolinecolor\":\"white\",\"automargin\":true,\"zerolinewidth\":2},\"scene\":{\"xaxis\":{\"backgroundcolor\":\"#E5ECF6\",\"gridcolor\":\"white\",\"linecolor\":\"white\",\"showbackground\":true,\"ticks\":\"\",\"zerolinecolor\":\"white\",\"gridwidth\":2},\"yaxis\":{\"backgroundcolor\":\"#E5ECF6\",\"gridcolor\":\"white\",\"linecolor\":\"white\",\"showbackground\":true,\"ticks\":\"\",\"zerolinecolor\":\"white\",\"gridwidth\":2},\"zaxis\":{\"backgroundcolor\":\"#E5ECF6\",\"gridcolor\":\"white\",\"linecolor\":\"white\",\"showbackground\":true,\"ticks\":\"\",\"zerolinecolor\":\"white\",\"gridwidth\":2}},\"shapedefaults\":{\"line\":{\"color\":\"#2a3f5f\"}},\"annotationdefaults\":{\"arrowcolor\":\"#2a3f5f\",\"arrowhead\":0,\"arrowwidth\":1},\"geo\":{\"bgcolor\":\"white\",\"landcolor\":\"#E5ECF6\",\"subunitcolor\":\"white\",\"showland\":true,\"showlakes\":true,\"lakecolor\":\"white\"},\"title\":{\"x\":0.05},\"mapbox\":{\"style\":\"light\"}}},\"coloraxis\":{\"colorbar\":{\"title\":{\"text\":\"Spotify Popularity\"}},\"colorscale\":[[0.0,\"#440154\"],[0.1111111111111111,\"#482878\"],[0.2222222222222222,\"#3e4989\"],[0.3333333333333333,\"#31688e\"],[0.4444444444444444,\"#26828e\"],[0.5555555555555556,\"#1f9e89\"],[0.6666666666666666,\"#35b779\"],[0.7777777777777778,\"#6ece58\"],[0.8888888888888888,\"#b5de2b\"],[1.0,\"#fde725\"]]},\"legend\":{\"tracegroupgap\":0},\"title\":{\"text\":\"Contribution to Popularity - Social Media Vs Streaming Platforms\"},\"autosize\":false,\"width\":1000,\"height\":800},                        {\"responsive\": true}                    ).then(function(){\n",
       "                            \n",
       "var gd = document.getElementById('45097a58-3aa2-4b67-9067-3e4efa9f0b36');\n",
       "var x = new MutationObserver(function (mutations, observer) {{\n",
       "        var display = window.getComputedStyle(gd).display;\n",
       "        if (!display || display === 'none') {{\n",
       "            console.log([gd, 'removed!']);\n",
       "            Plotly.purge(gd);\n",
       "            observer.disconnect();\n",
       "        }}\n",
       "}});\n",
       "\n",
       "// Listen for the removal of the full notebook cells\n",
       "var notebookContainer = gd.closest('#notebook-container');\n",
       "if (notebookContainer) {{\n",
       "    x.observe(notebookContainer, {childList: true});\n",
       "}}\n",
       "\n",
       "// Listen for the clearing of the current output cell\n",
       "var outputEl = gd.closest('.output');\n",
       "if (outputEl) {{\n",
       "    x.observe(outputEl, {childList: true});\n",
       "}}\n",
       "\n",
       "                        })                };                });            </script>        </div>"
      ]
     },
     "metadata": {},
     "output_type": "display_data"
    }
   ],
   "source": [
    "fig = px.treemap(df_filtered.dropna(), \n",
    "                 path=['Track', 'Track Score','Category'], \n",
    "                 values='Counts & Likes', \n",
    "                 color='Spotify Popularity',\n",
    "                 color_continuous_scale='Viridis', \n",
    "                 title='Contribution to Popularity - Social Media Vs Streaming Platforms')\n",
    "fig.update_layout(\n",
    "    autosize=False,\n",
    "    width=1000,\n",
    "    height=800,\n",
    ")\n",
    "\n",
    "fig.show()"
   ]
  },
  {
   "cell_type": "code",
   "execution_count": 137,
   "id": "31cea5b8-4564-4244-bc0c-76f0e0aaf074",
   "metadata": {},
   "outputs": [],
   "source": [
    "fig.write_html(\"treemap_file.html\")"
   ]
  },
  {
   "cell_type": "code",
   "execution_count": null,
   "id": "26c96fec-d247-4893-bbd5-01cf2b4c0bd1",
   "metadata": {},
   "outputs": [],
   "source": [
    "#Sankey diagram starting with media platform explicit vs non-explicit - streaming/social media/radio - their platforms"
   ]
  },
  {
   "cell_type": "code",
   "execution_count": 97,
   "id": "5b4c9970-0d95-4e80-b298-c32fa78fa37d",
   "metadata": {},
   "outputs": [],
   "source": [
    "sankey_columns = ['Spotify Streams','Pandora Streams','Soundcloud Streams','YouTube Views','TikTok Views','AirPlay Spins','SiriusXM Spins']"
   ]
  },
  {
   "cell_type": "code",
   "execution_count": 99,
   "id": "43a63a6a-c956-489c-93e6-c5ecc04b4a4f",
   "metadata": {},
   "outputs": [],
   "source": [
    "for i in sankey_columns:\n",
    "    try:\n",
    "        spotify_data[i] = spotify_data[i].str.replace(',','').replace(np.nan,0).astype('int')\n",
    "    except:\n",
    "        spotify_data[i] = spotify_data[i].replace(',','').replace(np.nan,0).astype('int')"
   ]
  },
  {
   "cell_type": "code",
   "execution_count": 101,
   "id": "d923a1bc-d4c8-4da6-9f2d-29f4570e5095",
   "metadata": {},
   "outputs": [
    {
     "name": "stdout",
     "output_type": "stream",
     "text": [
      "<class 'pandas.core.frame.DataFrame'>\n",
      "RangeIndex: 4600 entries, 0 to 4599\n",
      "Data columns (total 7 columns):\n",
      " #   Column              Non-Null Count  Dtype\n",
      "---  ------              --------------  -----\n",
      " 0   Spotify Streams     4600 non-null   int64\n",
      " 1   Pandora Streams     4600 non-null   int64\n",
      " 2   Soundcloud Streams  4600 non-null   int64\n",
      " 3   YouTube Views       4600 non-null   int64\n",
      " 4   TikTok Views        4600 non-null   int64\n",
      " 5   AirPlay Spins       4600 non-null   int64\n",
      " 6   SiriusXM Spins      4600 non-null   int64\n",
      "dtypes: int64(7)\n",
      "memory usage: 251.7 KB\n"
     ]
    }
   ],
   "source": [
    "spotify_data[sankey_columns].info()"
   ]
  },
  {
   "cell_type": "code",
   "execution_count": 105,
   "id": "17ed9745-8da6-4b17-ad8f-fa1cb6636756",
   "metadata": {},
   "outputs": [],
   "source": [
    "new_data = spotify_data[sankey_columns].copy()"
   ]
  },
  {
   "cell_type": "code",
   "execution_count": 107,
   "id": "ad53f5e8-e5b9-41ab-a311-5a8b228bda41",
   "metadata": {},
   "outputs": [
    {
     "data": {
      "text/html": [
       "<div>\n",
       "<style scoped>\n",
       "    .dataframe tbody tr th:only-of-type {\n",
       "        vertical-align: middle;\n",
       "    }\n",
       "\n",
       "    .dataframe tbody tr th {\n",
       "        vertical-align: top;\n",
       "    }\n",
       "\n",
       "    .dataframe thead th {\n",
       "        text-align: right;\n",
       "    }\n",
       "</style>\n",
       "<table border=\"1\" class=\"dataframe\">\n",
       "  <thead>\n",
       "    <tr style=\"text-align: right;\">\n",
       "      <th></th>\n",
       "      <th>Spotify Streams</th>\n",
       "      <th>Pandora Streams</th>\n",
       "      <th>Soundcloud Streams</th>\n",
       "      <th>YouTube Views</th>\n",
       "      <th>TikTok Views</th>\n",
       "      <th>AirPlay Spins</th>\n",
       "      <th>SiriusXM Spins</th>\n",
       "    </tr>\n",
       "  </thead>\n",
       "  <tbody>\n",
       "    <tr>\n",
       "      <th>0</th>\n",
       "      <td>390470936</td>\n",
       "      <td>18004655</td>\n",
       "      <td>4818457</td>\n",
       "      <td>84274754</td>\n",
       "      <td>5332281936</td>\n",
       "      <td>40975</td>\n",
       "      <td>684</td>\n",
       "    </tr>\n",
       "    <tr>\n",
       "      <th>1</th>\n",
       "      <td>323703884</td>\n",
       "      <td>7780028</td>\n",
       "      <td>6623075</td>\n",
       "      <td>116347040</td>\n",
       "      <td>208339025</td>\n",
       "      <td>40778</td>\n",
       "      <td>3</td>\n",
       "    </tr>\n",
       "    <tr>\n",
       "      <th>2</th>\n",
       "      <td>601309283</td>\n",
       "      <td>5022621</td>\n",
       "      <td>7208651</td>\n",
       "      <td>122599116</td>\n",
       "      <td>3369120610</td>\n",
       "      <td>74333</td>\n",
       "      <td>536</td>\n",
       "    </tr>\n",
       "    <tr>\n",
       "      <th>3</th>\n",
       "      <td>2031280633</td>\n",
       "      <td>190260277</td>\n",
       "      <td>0</td>\n",
       "      <td>1096100899</td>\n",
       "      <td>14603725994</td>\n",
       "      <td>1474799</td>\n",
       "      <td>2182</td>\n",
       "    </tr>\n",
       "    <tr>\n",
       "      <th>4</th>\n",
       "      <td>107034922</td>\n",
       "      <td>4493884</td>\n",
       "      <td>207179</td>\n",
       "      <td>77373957</td>\n",
       "      <td>0</td>\n",
       "      <td>12185</td>\n",
       "      <td>1</td>\n",
       "    </tr>\n",
       "    <tr>\n",
       "      <th>...</th>\n",
       "      <td>...</td>\n",
       "      <td>...</td>\n",
       "      <td>...</td>\n",
       "      <td>...</td>\n",
       "      <td>...</td>\n",
       "      <td>...</td>\n",
       "      <td>...</td>\n",
       "    </tr>\n",
       "    <tr>\n",
       "      <th>4595</th>\n",
       "      <td>305049963</td>\n",
       "      <td>20104066</td>\n",
       "      <td>50633006</td>\n",
       "      <td>149247747</td>\n",
       "      <td>143934379</td>\n",
       "      <td>6</td>\n",
       "      <td>0</td>\n",
       "    </tr>\n",
       "    <tr>\n",
       "      <th>4596</th>\n",
       "      <td>52282360</td>\n",
       "      <td>0</td>\n",
       "      <td>0</td>\n",
       "      <td>943920245</td>\n",
       "      <td>19935</td>\n",
       "      <td>412</td>\n",
       "      <td>0</td>\n",
       "    </tr>\n",
       "    <tr>\n",
       "      <th>4597</th>\n",
       "      <td>189972685</td>\n",
       "      <td>84426740</td>\n",
       "      <td>0</td>\n",
       "      <td>201027333</td>\n",
       "      <td>36849005</td>\n",
       "      <td>204</td>\n",
       "      <td>0</td>\n",
       "    </tr>\n",
       "    <tr>\n",
       "      <th>4598</th>\n",
       "      <td>145467020</td>\n",
       "      <td>6817840</td>\n",
       "      <td>0</td>\n",
       "      <td>1118595159</td>\n",
       "      <td>37757301</td>\n",
       "      <td>1200</td>\n",
       "      <td>0</td>\n",
       "    </tr>\n",
       "    <tr>\n",
       "      <th>4599</th>\n",
       "      <td>255740653</td>\n",
       "      <td>69006739</td>\n",
       "      <td>0</td>\n",
       "      <td>866300755</td>\n",
       "      <td>70196388</td>\n",
       "      <td>2083</td>\n",
       "      <td>0</td>\n",
       "    </tr>\n",
       "  </tbody>\n",
       "</table>\n",
       "<p>4600 rows × 7 columns</p>\n",
       "</div>"
      ],
      "text/plain": [
       "      Spotify Streams  Pandora Streams  Soundcloud Streams  YouTube Views  \\\n",
       "0           390470936         18004655             4818457       84274754   \n",
       "1           323703884          7780028             6623075      116347040   \n",
       "2           601309283          5022621             7208651      122599116   \n",
       "3          2031280633        190260277                   0     1096100899   \n",
       "4           107034922          4493884              207179       77373957   \n",
       "...               ...              ...                 ...            ...   \n",
       "4595        305049963         20104066            50633006      149247747   \n",
       "4596         52282360                0                   0      943920245   \n",
       "4597        189972685         84426740                   0      201027333   \n",
       "4598        145467020          6817840                   0     1118595159   \n",
       "4599        255740653         69006739                   0      866300755   \n",
       "\n",
       "      TikTok Views  AirPlay Spins  SiriusXM Spins  \n",
       "0       5332281936          40975             684  \n",
       "1        208339025          40778               3  \n",
       "2       3369120610          74333             536  \n",
       "3      14603725994        1474799            2182  \n",
       "4                0          12185               1  \n",
       "...            ...            ...             ...  \n",
       "4595     143934379              6               0  \n",
       "4596         19935            412               0  \n",
       "4597      36849005            204               0  \n",
       "4598      37757301           1200               0  \n",
       "4599      70196388           2083               0  \n",
       "\n",
       "[4600 rows x 7 columns]"
      ]
     },
     "execution_count": 107,
     "metadata": {},
     "output_type": "execute_result"
    }
   ],
   "source": [
    "new_data"
   ]
  },
  {
   "cell_type": "code",
   "execution_count": 109,
   "id": "139ece03-6891-4eba-81b2-dc25aa563dae",
   "metadata": {},
   "outputs": [],
   "source": [
    "for i in ['Pandora Streams','AirPlay Spins','SiriusXM Spins']:\n",
    "    new_data[i] = new_data[i].replace(0, new_data[i].median())"
   ]
  },
  {
   "cell_type": "code",
   "execution_count": 113,
   "id": "a7670ffb-31de-4dc7-b31b-00a168df6892",
   "metadata": {},
   "outputs": [],
   "source": [
    "filtered_df = new_data[new_data[\"TikTok Views\"] <= 60000000]"
   ]
  },
  {
   "cell_type": "code",
   "execution_count": 115,
   "id": "0411a5bb-c06d-4c96-ac02-8fb7a5dcd9ba",
   "metadata": {},
   "outputs": [],
   "source": [
    "new_data['Track'] = spotify_data['Track']\n",
    "new_data['Album Name'] = spotify_data['Album Name']\n",
    "new_data['Track Score'] = spotify_data['Track Score']\n",
    "new_data['Explicit Track'] = spotify_data['Explicit Track']"
   ]
  },
  {
   "cell_type": "code",
   "execution_count": 117,
   "id": "7fdfe37f-d0ea-48f6-8755-d8b98ea02f1a",
   "metadata": {},
   "outputs": [
    {
     "name": "stdout",
     "output_type": "stream",
     "text": [
      "<class 'pandas.core.frame.DataFrame'>\n",
      "RangeIndex: 4600 entries, 0 to 4599\n",
      "Data columns (total 11 columns):\n",
      " #   Column              Non-Null Count  Dtype  \n",
      "---  ------              --------------  -----  \n",
      " 0   Spotify Streams     4600 non-null   int64  \n",
      " 1   Pandora Streams     4600 non-null   float64\n",
      " 2   Soundcloud Streams  4600 non-null   int64  \n",
      " 3   YouTube Views       4600 non-null   int64  \n",
      " 4   TikTok Views        4600 non-null   int64  \n",
      " 5   AirPlay Spins       4600 non-null   int64  \n",
      " 6   SiriusXM Spins      4600 non-null   int64  \n",
      " 7   Track               4600 non-null   object \n",
      " 8   Album Name          4600 non-null   object \n",
      " 9   Track Score         4600 non-null   float64\n",
      " 10  Explicit Track      4600 non-null   int64  \n",
      "dtypes: float64(2), int64(7), object(2)\n",
      "memory usage: 395.4+ KB\n"
     ]
    }
   ],
   "source": [
    "new_data.info()"
   ]
  },
  {
   "cell_type": "code",
   "execution_count": 123,
   "id": "eecdfcb1-d163-4c32-8249-a9d6ba5fb460",
   "metadata": {},
   "outputs": [
    {
     "data": {
      "application/vnd.plotly.v1+json": {
       "config": {
        "plotlyServerURL": "https://plot.ly"
       },
       "data": [
        {
         "link": {
          "source": [
           0,
           0,
           0,
           1,
           1,
           1,
           2,
           2,
           2,
           3,
           3,
           4,
           4
          ],
          "target": [
           2,
           3,
           4,
           2,
           3,
           4,
           5,
           6,
           7,
           8,
           9,
           10,
           11
          ],
          "value": [
           850808861892,
           1796587044530,
           64453789,
           1489962753380.5,
           4134446557661,
           164097540,
           2007426881265,
           314532358023.5,
           18812375984,
           1728803560783,
           4202230041408,
           227905395,
           645934
          ]
         },
         "node": {
          "label": [
           "Explicit",
           "Non-Explicit",
           "Streaming",
           "Social Media",
           "Radio",
           "Spotify Streams",
           "Pandora Streams",
           "Soundcloud Streams",
           "YouTube Views",
           "TikTok Views",
           "AirPlay Spins",
           "SiriusXM Spins"
          ],
          "line": {
           "color": "black",
           "width": 0.5
          },
          "pad": 15,
          "thickness": 20
         },
         "type": "sankey"
        }
       ],
       "layout": {
        "font": {
         "size": 10
        },
        "height": 450,
        "template": {
         "data": {
          "bar": [
           {
            "error_x": {
             "color": "#2a3f5f"
            },
            "error_y": {
             "color": "#2a3f5f"
            },
            "marker": {
             "line": {
              "color": "#E5ECF6",
              "width": 0.5
             },
             "pattern": {
              "fillmode": "overlay",
              "size": 10,
              "solidity": 0.2
             }
            },
            "type": "bar"
           }
          ],
          "barpolar": [
           {
            "marker": {
             "line": {
              "color": "#E5ECF6",
              "width": 0.5
             },
             "pattern": {
              "fillmode": "overlay",
              "size": 10,
              "solidity": 0.2
             }
            },
            "type": "barpolar"
           }
          ],
          "carpet": [
           {
            "aaxis": {
             "endlinecolor": "#2a3f5f",
             "gridcolor": "white",
             "linecolor": "white",
             "minorgridcolor": "white",
             "startlinecolor": "#2a3f5f"
            },
            "baxis": {
             "endlinecolor": "#2a3f5f",
             "gridcolor": "white",
             "linecolor": "white",
             "minorgridcolor": "white",
             "startlinecolor": "#2a3f5f"
            },
            "type": "carpet"
           }
          ],
          "choropleth": [
           {
            "colorbar": {
             "outlinewidth": 0,
             "ticks": ""
            },
            "type": "choropleth"
           }
          ],
          "contour": [
           {
            "colorbar": {
             "outlinewidth": 0,
             "ticks": ""
            },
            "colorscale": [
             [
              0,
              "#0d0887"
             ],
             [
              0.1111111111111111,
              "#46039f"
             ],
             [
              0.2222222222222222,
              "#7201a8"
             ],
             [
              0.3333333333333333,
              "#9c179e"
             ],
             [
              0.4444444444444444,
              "#bd3786"
             ],
             [
              0.5555555555555556,
              "#d8576b"
             ],
             [
              0.6666666666666666,
              "#ed7953"
             ],
             [
              0.7777777777777778,
              "#fb9f3a"
             ],
             [
              0.8888888888888888,
              "#fdca26"
             ],
             [
              1,
              "#f0f921"
             ]
            ],
            "type": "contour"
           }
          ],
          "contourcarpet": [
           {
            "colorbar": {
             "outlinewidth": 0,
             "ticks": ""
            },
            "type": "contourcarpet"
           }
          ],
          "heatmap": [
           {
            "colorbar": {
             "outlinewidth": 0,
             "ticks": ""
            },
            "colorscale": [
             [
              0,
              "#0d0887"
             ],
             [
              0.1111111111111111,
              "#46039f"
             ],
             [
              0.2222222222222222,
              "#7201a8"
             ],
             [
              0.3333333333333333,
              "#9c179e"
             ],
             [
              0.4444444444444444,
              "#bd3786"
             ],
             [
              0.5555555555555556,
              "#d8576b"
             ],
             [
              0.6666666666666666,
              "#ed7953"
             ],
             [
              0.7777777777777778,
              "#fb9f3a"
             ],
             [
              0.8888888888888888,
              "#fdca26"
             ],
             [
              1,
              "#f0f921"
             ]
            ],
            "type": "heatmap"
           }
          ],
          "heatmapgl": [
           {
            "colorbar": {
             "outlinewidth": 0,
             "ticks": ""
            },
            "colorscale": [
             [
              0,
              "#0d0887"
             ],
             [
              0.1111111111111111,
              "#46039f"
             ],
             [
              0.2222222222222222,
              "#7201a8"
             ],
             [
              0.3333333333333333,
              "#9c179e"
             ],
             [
              0.4444444444444444,
              "#bd3786"
             ],
             [
              0.5555555555555556,
              "#d8576b"
             ],
             [
              0.6666666666666666,
              "#ed7953"
             ],
             [
              0.7777777777777778,
              "#fb9f3a"
             ],
             [
              0.8888888888888888,
              "#fdca26"
             ],
             [
              1,
              "#f0f921"
             ]
            ],
            "type": "heatmapgl"
           }
          ],
          "histogram": [
           {
            "marker": {
             "pattern": {
              "fillmode": "overlay",
              "size": 10,
              "solidity": 0.2
             }
            },
            "type": "histogram"
           }
          ],
          "histogram2d": [
           {
            "colorbar": {
             "outlinewidth": 0,
             "ticks": ""
            },
            "colorscale": [
             [
              0,
              "#0d0887"
             ],
             [
              0.1111111111111111,
              "#46039f"
             ],
             [
              0.2222222222222222,
              "#7201a8"
             ],
             [
              0.3333333333333333,
              "#9c179e"
             ],
             [
              0.4444444444444444,
              "#bd3786"
             ],
             [
              0.5555555555555556,
              "#d8576b"
             ],
             [
              0.6666666666666666,
              "#ed7953"
             ],
             [
              0.7777777777777778,
              "#fb9f3a"
             ],
             [
              0.8888888888888888,
              "#fdca26"
             ],
             [
              1,
              "#f0f921"
             ]
            ],
            "type": "histogram2d"
           }
          ],
          "histogram2dcontour": [
           {
            "colorbar": {
             "outlinewidth": 0,
             "ticks": ""
            },
            "colorscale": [
             [
              0,
              "#0d0887"
             ],
             [
              0.1111111111111111,
              "#46039f"
             ],
             [
              0.2222222222222222,
              "#7201a8"
             ],
             [
              0.3333333333333333,
              "#9c179e"
             ],
             [
              0.4444444444444444,
              "#bd3786"
             ],
             [
              0.5555555555555556,
              "#d8576b"
             ],
             [
              0.6666666666666666,
              "#ed7953"
             ],
             [
              0.7777777777777778,
              "#fb9f3a"
             ],
             [
              0.8888888888888888,
              "#fdca26"
             ],
             [
              1,
              "#f0f921"
             ]
            ],
            "type": "histogram2dcontour"
           }
          ],
          "mesh3d": [
           {
            "colorbar": {
             "outlinewidth": 0,
             "ticks": ""
            },
            "type": "mesh3d"
           }
          ],
          "parcoords": [
           {
            "line": {
             "colorbar": {
              "outlinewidth": 0,
              "ticks": ""
             }
            },
            "type": "parcoords"
           }
          ],
          "pie": [
           {
            "automargin": true,
            "type": "pie"
           }
          ],
          "scatter": [
           {
            "fillpattern": {
             "fillmode": "overlay",
             "size": 10,
             "solidity": 0.2
            },
            "type": "scatter"
           }
          ],
          "scatter3d": [
           {
            "line": {
             "colorbar": {
              "outlinewidth": 0,
              "ticks": ""
             }
            },
            "marker": {
             "colorbar": {
              "outlinewidth": 0,
              "ticks": ""
             }
            },
            "type": "scatter3d"
           }
          ],
          "scattercarpet": [
           {
            "marker": {
             "colorbar": {
              "outlinewidth": 0,
              "ticks": ""
             }
            },
            "type": "scattercarpet"
           }
          ],
          "scattergeo": [
           {
            "marker": {
             "colorbar": {
              "outlinewidth": 0,
              "ticks": ""
             }
            },
            "type": "scattergeo"
           }
          ],
          "scattergl": [
           {
            "marker": {
             "colorbar": {
              "outlinewidth": 0,
              "ticks": ""
             }
            },
            "type": "scattergl"
           }
          ],
          "scattermapbox": [
           {
            "marker": {
             "colorbar": {
              "outlinewidth": 0,
              "ticks": ""
             }
            },
            "type": "scattermapbox"
           }
          ],
          "scatterpolar": [
           {
            "marker": {
             "colorbar": {
              "outlinewidth": 0,
              "ticks": ""
             }
            },
            "type": "scatterpolar"
           }
          ],
          "scatterpolargl": [
           {
            "marker": {
             "colorbar": {
              "outlinewidth": 0,
              "ticks": ""
             }
            },
            "type": "scatterpolargl"
           }
          ],
          "scatterternary": [
           {
            "marker": {
             "colorbar": {
              "outlinewidth": 0,
              "ticks": ""
             }
            },
            "type": "scatterternary"
           }
          ],
          "surface": [
           {
            "colorbar": {
             "outlinewidth": 0,
             "ticks": ""
            },
            "colorscale": [
             [
              0,
              "#0d0887"
             ],
             [
              0.1111111111111111,
              "#46039f"
             ],
             [
              0.2222222222222222,
              "#7201a8"
             ],
             [
              0.3333333333333333,
              "#9c179e"
             ],
             [
              0.4444444444444444,
              "#bd3786"
             ],
             [
              0.5555555555555556,
              "#d8576b"
             ],
             [
              0.6666666666666666,
              "#ed7953"
             ],
             [
              0.7777777777777778,
              "#fb9f3a"
             ],
             [
              0.8888888888888888,
              "#fdca26"
             ],
             [
              1,
              "#f0f921"
             ]
            ],
            "type": "surface"
           }
          ],
          "table": [
           {
            "cells": {
             "fill": {
              "color": "#EBF0F8"
             },
             "line": {
              "color": "white"
             }
            },
            "header": {
             "fill": {
              "color": "#C8D4E3"
             },
             "line": {
              "color": "white"
             }
            },
            "type": "table"
           }
          ]
         },
         "layout": {
          "annotationdefaults": {
           "arrowcolor": "#2a3f5f",
           "arrowhead": 0,
           "arrowwidth": 1
          },
          "autotypenumbers": "strict",
          "coloraxis": {
           "colorbar": {
            "outlinewidth": 0,
            "ticks": ""
           }
          },
          "colorscale": {
           "diverging": [
            [
             0,
             "#8e0152"
            ],
            [
             0.1,
             "#c51b7d"
            ],
            [
             0.2,
             "#de77ae"
            ],
            [
             0.3,
             "#f1b6da"
            ],
            [
             0.4,
             "#fde0ef"
            ],
            [
             0.5,
             "#f7f7f7"
            ],
            [
             0.6,
             "#e6f5d0"
            ],
            [
             0.7,
             "#b8e186"
            ],
            [
             0.8,
             "#7fbc41"
            ],
            [
             0.9,
             "#4d9221"
            ],
            [
             1,
             "#276419"
            ]
           ],
           "sequential": [
            [
             0,
             "#0d0887"
            ],
            [
             0.1111111111111111,
             "#46039f"
            ],
            [
             0.2222222222222222,
             "#7201a8"
            ],
            [
             0.3333333333333333,
             "#9c179e"
            ],
            [
             0.4444444444444444,
             "#bd3786"
            ],
            [
             0.5555555555555556,
             "#d8576b"
            ],
            [
             0.6666666666666666,
             "#ed7953"
            ],
            [
             0.7777777777777778,
             "#fb9f3a"
            ],
            [
             0.8888888888888888,
             "#fdca26"
            ],
            [
             1,
             "#f0f921"
            ]
           ],
           "sequentialminus": [
            [
             0,
             "#0d0887"
            ],
            [
             0.1111111111111111,
             "#46039f"
            ],
            [
             0.2222222222222222,
             "#7201a8"
            ],
            [
             0.3333333333333333,
             "#9c179e"
            ],
            [
             0.4444444444444444,
             "#bd3786"
            ],
            [
             0.5555555555555556,
             "#d8576b"
            ],
            [
             0.6666666666666666,
             "#ed7953"
            ],
            [
             0.7777777777777778,
             "#fb9f3a"
            ],
            [
             0.8888888888888888,
             "#fdca26"
            ],
            [
             1,
             "#f0f921"
            ]
           ]
          },
          "colorway": [
           "#636efa",
           "#EF553B",
           "#00cc96",
           "#ab63fa",
           "#FFA15A",
           "#19d3f3",
           "#FF6692",
           "#B6E880",
           "#FF97FF",
           "#FECB52"
          ],
          "font": {
           "color": "#2a3f5f"
          },
          "geo": {
           "bgcolor": "white",
           "lakecolor": "white",
           "landcolor": "#E5ECF6",
           "showlakes": true,
           "showland": true,
           "subunitcolor": "white"
          },
          "hoverlabel": {
           "align": "left"
          },
          "hovermode": "closest",
          "mapbox": {
           "style": "light"
          },
          "paper_bgcolor": "white",
          "plot_bgcolor": "#E5ECF6",
          "polar": {
           "angularaxis": {
            "gridcolor": "white",
            "linecolor": "white",
            "ticks": ""
           },
           "bgcolor": "#E5ECF6",
           "radialaxis": {
            "gridcolor": "white",
            "linecolor": "white",
            "ticks": ""
           }
          },
          "scene": {
           "xaxis": {
            "backgroundcolor": "#E5ECF6",
            "gridcolor": "white",
            "gridwidth": 2,
            "linecolor": "white",
            "showbackground": true,
            "ticks": "",
            "zerolinecolor": "white"
           },
           "yaxis": {
            "backgroundcolor": "#E5ECF6",
            "gridcolor": "white",
            "gridwidth": 2,
            "linecolor": "white",
            "showbackground": true,
            "ticks": "",
            "zerolinecolor": "white"
           },
           "zaxis": {
            "backgroundcolor": "#E5ECF6",
            "gridcolor": "white",
            "gridwidth": 2,
            "linecolor": "white",
            "showbackground": true,
            "ticks": "",
            "zerolinecolor": "white"
           }
          },
          "shapedefaults": {
           "line": {
            "color": "#2a3f5f"
           }
          },
          "ternary": {
           "aaxis": {
            "gridcolor": "white",
            "linecolor": "white",
            "ticks": ""
           },
           "baxis": {
            "gridcolor": "white",
            "linecolor": "white",
            "ticks": ""
           },
           "bgcolor": "#E5ECF6",
           "caxis": {
            "gridcolor": "white",
            "linecolor": "white",
            "ticks": ""
           }
          },
          "title": {
           "x": 0.05
          },
          "xaxis": {
           "automargin": true,
           "gridcolor": "white",
           "linecolor": "white",
           "ticks": "",
           "title": {
            "standoff": 15
           },
           "zerolinecolor": "white",
           "zerolinewidth": 2
          },
          "yaxis": {
           "automargin": true,
           "gridcolor": "white",
           "linecolor": "white",
           "ticks": "",
           "title": {
            "standoff": 15
           },
           "zerolinecolor": "white",
           "zerolinewidth": 2
          }
         }
        },
        "title": {
         "text": "Where are Explicit & Non-explicit songs performing better?"
        },
        "width": 1100
       }
      },
      "image/png": "[encoded data removed]",
      "text/html": [
       "<div>                            <div id=\"6b2c47bb-e168-470a-9979-b7ceeac57957\" class=\"plotly-graph-div\" style=\"height:450px; width:1100px;\"></div>            <script type=\"text/javascript\">                require([\"plotly\"], function(Plotly) {                    window.PLOTLYENV=window.PLOTLYENV || {};                                    if (document.getElementById(\"6b2c47bb-e168-470a-9979-b7ceeac57957\")) {                    Plotly.newPlot(                        \"6b2c47bb-e168-470a-9979-b7ceeac57957\",                        [{\"link\":{\"source\":[0,0,0,1,1,1,2,2,2,3,3,4,4],\"target\":[2,3,4,2,3,4,5,6,7,8,9,10,11],\"value\":[850808861892.0,1796587044530,64453789,1489962753380.5,4134446557661,164097540,2007426881265,314532358023.5,18812375984,1728803560783,4202230041408,227905395,645934]},\"node\":{\"label\":[\"Explicit\",\"Non-Explicit\",\"Streaming\",\"Social Media\",\"Radio\",\"Spotify Streams\",\"Pandora Streams\",\"Soundcloud Streams\",\"YouTube Views\",\"TikTok Views\",\"AirPlay Spins\",\"SiriusXM Spins\"],\"line\":{\"color\":\"black\",\"width\":0.5},\"pad\":15,\"thickness\":20},\"type\":\"sankey\"}],                        {\"template\":{\"data\":{\"histogram2dcontour\":[{\"type\":\"histogram2dcontour\",\"colorbar\":{\"outlinewidth\":0,\"ticks\":\"\"},\"colorscale\":[[0.0,\"#0d0887\"],[0.1111111111111111,\"#46039f\"],[0.2222222222222222,\"#7201a8\"],[0.3333333333333333,\"#9c179e\"],[0.4444444444444444,\"#bd3786\"],[0.5555555555555556,\"#d8576b\"],[0.6666666666666666,\"#ed7953\"],[0.7777777777777778,\"#fb9f3a\"],[0.8888888888888888,\"#fdca26\"],[1.0,\"#f0f921\"]]}],\"choropleth\":[{\"type\":\"choropleth\",\"colorbar\":{\"outlinewidth\":0,\"ticks\":\"\"}}],\"histogram2d\":[{\"type\":\"histogram2d\",\"colorbar\":{\"outlinewidth\":0,\"ticks\":\"\"},\"colorscale\":[[0.0,\"#0d0887\"],[0.1111111111111111,\"#46039f\"],[0.2222222222222222,\"#7201a8\"],[0.3333333333333333,\"#9c179e\"],[0.4444444444444444,\"#bd3786\"],[0.5555555555555556,\"#d8576b\"],[0.6666666666666666,\"#ed7953\"],[0.7777777777777778,\"#fb9f3a\"],[0.8888888888888888,\"#fdca26\"],[1.0,\"#f0f921\"]]}],\"heatmap\":[{\"type\":\"heatmap\",\"colorbar\":{\"outlinewidth\":0,\"ticks\":\"\"},\"colorscale\":[[0.0,\"#0d0887\"],[0.1111111111111111,\"#46039f\"],[0.2222222222222222,\"#7201a8\"],[0.3333333333333333,\"#9c179e\"],[0.4444444444444444,\"#bd3786\"],[0.5555555555555556,\"#d8576b\"],[0.6666666666666666,\"#ed7953\"],[0.7777777777777778,\"#fb9f3a\"],[0.8888888888888888,\"#fdca26\"],[1.0,\"#f0f921\"]]}],\"heatmapgl\":[{\"type\":\"heatmapgl\",\"colorbar\":{\"outlinewidth\":0,\"ticks\":\"\"},\"colorscale\":[[0.0,\"#0d0887\"],[0.1111111111111111,\"#46039f\"],[0.2222222222222222,\"#7201a8\"],[0.3333333333333333,\"#9c179e\"],[0.4444444444444444,\"#bd3786\"],[0.5555555555555556,\"#d8576b\"],[0.6666666666666666,\"#ed7953\"],[0.7777777777777778,\"#fb9f3a\"],[0.8888888888888888,\"#fdca26\"],[1.0,\"#f0f921\"]]}],\"contourcarpet\":[{\"type\":\"contourcarpet\",\"colorbar\":{\"outlinewidth\":0,\"ticks\":\"\"}}],\"contour\":[{\"type\":\"contour\",\"colorbar\":{\"outlinewidth\":0,\"ticks\":\"\"},\"colorscale\":[[0.0,\"#0d0887\"],[0.1111111111111111,\"#46039f\"],[0.2222222222222222,\"#7201a8\"],[0.3333333333333333,\"#9c179e\"],[0.4444444444444444,\"#bd3786\"],[0.5555555555555556,\"#d8576b\"],[0.6666666666666666,\"#ed7953\"],[0.7777777777777778,\"#fb9f3a\"],[0.8888888888888888,\"#fdca26\"],[1.0,\"#f0f921\"]]}],\"surface\":[{\"type\":\"surface\",\"colorbar\":{\"outlinewidth\":0,\"ticks\":\"\"},\"colorscale\":[[0.0,\"#0d0887\"],[0.1111111111111111,\"#46039f\"],[0.2222222222222222,\"#7201a8\"],[0.3333333333333333,\"#9c179e\"],[0.4444444444444444,\"#bd3786\"],[0.5555555555555556,\"#d8576b\"],[0.6666666666666666,\"#ed7953\"],[0.7777777777777778,\"#fb9f3a\"],[0.8888888888888888,\"#fdca26\"],[1.0,\"#f0f921\"]]}],\"mesh3d\":[{\"type\":\"mesh3d\",\"colorbar\":{\"outlinewidth\":0,\"ticks\":\"\"}}],\"scatter\":[{\"fillpattern\":{\"fillmode\":\"overlay\",\"size\":10,\"solidity\":0.2},\"type\":\"scatter\"}],\"parcoords\":[{\"type\":\"parcoords\",\"line\":{\"colorbar\":{\"outlinewidth\":0,\"ticks\":\"\"}}}],\"scatterpolargl\":[{\"type\":\"scatterpolargl\",\"marker\":{\"colorbar\":{\"outlinewidth\":0,\"ticks\":\"\"}}}],\"bar\":[{\"error_x\":{\"color\":\"#2a3f5f\"},\"error_y\":{\"color\":\"#2a3f5f\"},\"marker\":{\"line\":{\"color\":\"#E5ECF6\",\"width\":0.5},\"pattern\":{\"fillmode\":\"overlay\",\"size\":10,\"solidity\":0.2}},\"type\":\"bar\"}],\"scattergeo\":[{\"type\":\"scattergeo\",\"marker\":{\"colorbar\":{\"outlinewidth\":0,\"ticks\":\"\"}}}],\"scatterpolar\":[{\"type\":\"scatterpolar\",\"marker\":{\"colorbar\":{\"outlinewidth\":0,\"ticks\":\"\"}}}],\"histogram\":[{\"marker\":{\"pattern\":{\"fillmode\":\"overlay\",\"size\":10,\"solidity\":0.2}},\"type\":\"histogram\"}],\"scattergl\":[{\"type\":\"scattergl\",\"marker\":{\"colorbar\":{\"outlinewidth\":0,\"ticks\":\"\"}}}],\"scatter3d\":[{\"type\":\"scatter3d\",\"line\":{\"colorbar\":{\"outlinewidth\":0,\"ticks\":\"\"}},\"marker\":{\"colorbar\":{\"outlinewidth\":0,\"ticks\":\"\"}}}],\"scattermapbox\":[{\"type\":\"scattermapbox\",\"marker\":{\"colorbar\":{\"outlinewidth\":0,\"ticks\":\"\"}}}],\"scatterternary\":[{\"type\":\"scatterternary\",\"marker\":{\"colorbar\":{\"outlinewidth\":0,\"ticks\":\"\"}}}],\"scattercarpet\":[{\"type\":\"scattercarpet\",\"marker\":{\"colorbar\":{\"outlinewidth\":0,\"ticks\":\"\"}}}],\"carpet\":[{\"aaxis\":{\"endlinecolor\":\"#2a3f5f\",\"gridcolor\":\"white\",\"linecolor\":\"white\",\"minorgridcolor\":\"white\",\"startlinecolor\":\"#2a3f5f\"},\"baxis\":{\"endlinecolor\":\"#2a3f5f\",\"gridcolor\":\"white\",\"linecolor\":\"white\",\"minorgridcolor\":\"white\",\"startlinecolor\":\"#2a3f5f\"},\"type\":\"carpet\"}],\"table\":[{\"cells\":{\"fill\":{\"color\":\"#EBF0F8\"},\"line\":{\"color\":\"white\"}},\"header\":{\"fill\":{\"color\":\"#C8D4E3\"},\"line\":{\"color\":\"white\"}},\"type\":\"table\"}],\"barpolar\":[{\"marker\":{\"line\":{\"color\":\"#E5ECF6\",\"width\":0.5},\"pattern\":{\"fillmode\":\"overlay\",\"size\":10,\"solidity\":0.2}},\"type\":\"barpolar\"}],\"pie\":[{\"automargin\":true,\"type\":\"pie\"}]},\"layout\":{\"autotypenumbers\":\"strict\",\"colorway\":[\"#636efa\",\"#EF553B\",\"#00cc96\",\"#ab63fa\",\"#FFA15A\",\"#19d3f3\",\"#FF6692\",\"#B6E880\",\"#FF97FF\",\"#FECB52\"],\"font\":{\"color\":\"#2a3f5f\"},\"hovermode\":\"closest\",\"hoverlabel\":{\"align\":\"left\"},\"paper_bgcolor\":\"white\",\"plot_bgcolor\":\"#E5ECF6\",\"polar\":{\"bgcolor\":\"#E5ECF6\",\"angularaxis\":{\"gridcolor\":\"white\",\"linecolor\":\"white\",\"ticks\":\"\"},\"radialaxis\":{\"gridcolor\":\"white\",\"linecolor\":\"white\",\"ticks\":\"\"}},\"ternary\":{\"bgcolor\":\"#E5ECF6\",\"aaxis\":{\"gridcolor\":\"white\",\"linecolor\":\"white\",\"ticks\":\"\"},\"baxis\":{\"gridcolor\":\"white\",\"linecolor\":\"white\",\"ticks\":\"\"},\"caxis\":{\"gridcolor\":\"white\",\"linecolor\":\"white\",\"ticks\":\"\"}},\"coloraxis\":{\"colorbar\":{\"outlinewidth\":0,\"ticks\":\"\"}},\"colorscale\":{\"sequential\":[[0.0,\"#0d0887\"],[0.1111111111111111,\"#46039f\"],[0.2222222222222222,\"#7201a8\"],[0.3333333333333333,\"#9c179e\"],[0.4444444444444444,\"#bd3786\"],[0.5555555555555556,\"#d8576b\"],[0.6666666666666666,\"#ed7953\"],[0.7777777777777778,\"#fb9f3a\"],[0.8888888888888888,\"#fdca26\"],[1.0,\"#f0f921\"]],\"sequentialminus\":[[0.0,\"#0d0887\"],[0.1111111111111111,\"#46039f\"],[0.2222222222222222,\"#7201a8\"],[0.3333333333333333,\"#9c179e\"],[0.4444444444444444,\"#bd3786\"],[0.5555555555555556,\"#d8576b\"],[0.6666666666666666,\"#ed7953\"],[0.7777777777777778,\"#fb9f3a\"],[0.8888888888888888,\"#fdca26\"],[1.0,\"#f0f921\"]],\"diverging\":[[0,\"#8e0152\"],[0.1,\"#c51b7d\"],[0.2,\"#de77ae\"],[0.3,\"#f1b6da\"],[0.4,\"#fde0ef\"],[0.5,\"#f7f7f7\"],[0.6,\"#e6f5d0\"],[0.7,\"#b8e186\"],[0.8,\"#7fbc41\"],[0.9,\"#4d9221\"],[1,\"#276419\"]]},\"xaxis\":{\"gridcolor\":\"white\",\"linecolor\":\"white\",\"ticks\":\"\",\"title\":{\"standoff\":15},\"zerolinecolor\":\"white\",\"automargin\":true,\"zerolinewidth\":2},\"yaxis\":{\"gridcolor\":\"white\",\"linecolor\":\"white\",\"ticks\":\"\",\"title\":{\"standoff\":15},\"zerolinecolor\":\"white\",\"automargin\":true,\"zerolinewidth\":2},\"scene\":{\"xaxis\":{\"backgroundcolor\":\"#E5ECF6\",\"gridcolor\":\"white\",\"linecolor\":\"white\",\"showbackground\":true,\"ticks\":\"\",\"zerolinecolor\":\"white\",\"gridwidth\":2},\"yaxis\":{\"backgroundcolor\":\"#E5ECF6\",\"gridcolor\":\"white\",\"linecolor\":\"white\",\"showbackground\":true,\"ticks\":\"\",\"zerolinecolor\":\"white\",\"gridwidth\":2},\"zaxis\":{\"backgroundcolor\":\"#E5ECF6\",\"gridcolor\":\"white\",\"linecolor\":\"white\",\"showbackground\":true,\"ticks\":\"\",\"zerolinecolor\":\"white\",\"gridwidth\":2}},\"shapedefaults\":{\"line\":{\"color\":\"#2a3f5f\"}},\"annotationdefaults\":{\"arrowcolor\":\"#2a3f5f\",\"arrowhead\":0,\"arrowwidth\":1},\"geo\":{\"bgcolor\":\"white\",\"landcolor\":\"#E5ECF6\",\"subunitcolor\":\"white\",\"showland\":true,\"showlakes\":true,\"lakecolor\":\"white\"},\"title\":{\"x\":0.05},\"mapbox\":{\"style\":\"light\"}}},\"title\":{\"text\":\"Where are Explicit & Non-explicit songs performing better?\"},\"font\":{\"size\":10},\"width\":1100,\"height\":450},                        {\"responsive\": true}                    ).then(function(){\n",
       "                            \n",
       "var gd = document.getElementById('6b2c47bb-e168-470a-9979-b7ceeac57957');\n",
       "var x = new MutationObserver(function (mutations, observer) {{\n",
       "        var display = window.getComputedStyle(gd).display;\n",
       "        if (!display || display === 'none') {{\n",
       "            console.log([gd, 'removed!']);\n",
       "            Plotly.purge(gd);\n",
       "            observer.disconnect();\n",
       "        }}\n",
       "}});\n",
       "\n",
       "// Listen for the removal of the full notebook cells\n",
       "var notebookContainer = gd.closest('#notebook-container');\n",
       "if (notebookContainer) {{\n",
       "    x.observe(notebookContainer, {childList: true});\n",
       "}}\n",
       "\n",
       "// Listen for the clearing of the current output cell\n",
       "var outputEl = gd.closest('.output');\n",
       "if (outputEl) {{\n",
       "    x.observe(outputEl, {childList: true});\n",
       "}}\n",
       "\n",
       "                        })                };                });            </script>        </div>"
      ]
     },
     "metadata": {},
     "output_type": "display_data"
    }
   ],
   "source": [
    "df = new_data.copy()\n",
    "\n",
    "# Aggregating data\n",
    "agg_data = {\n",
    "    'Streaming': df[['Spotify Streams', 'Pandora Streams', 'Soundcloud Streams']].sum().sum(),\n",
    "    'Social Media': df[['YouTube Views', 'TikTok Views']].sum().sum(),\n",
    "    'Radio': df[['AirPlay Spins', 'SiriusXM Spins']].sum().sum(),\n",
    "    'Explicit': df[df['Explicit Track'] == 1][['Spotify Streams', 'Pandora Streams', 'Soundcloud Streams', 'YouTube Views', 'TikTok Views', 'AirPlay Spins', 'SiriusXM Spins']].sum().sum(),\n",
    "    'Non-Explicit': df[df['Explicit Track'] == 0][['Spotify Streams', 'Pandora Streams', 'Soundcloud Streams', 'YouTube Views', 'TikTok Views', 'AirPlay Spins', 'SiriusXM Spins']].sum().sum()\n",
    "}\n",
    "\n",
    "# Nodes\n",
    "nodes = ['Explicit', 'Non-Explicit', 'Streaming', 'Social Media', 'Radio', \n",
    "         'Spotify Streams', 'Pandora Streams', 'Soundcloud Streams', 'YouTube Views', 'TikTok Views', 'AirPlay Spins', 'SiriusXM Spins']\n",
    "\n",
    "# Links\n",
    "links = [\n",
    "    {'source': nodes.index('Explicit'), 'target': nodes.index('Streaming'), 'value': df[df['Explicit Track'] == 1][['Spotify Streams', 'Pandora Streams', 'Soundcloud Streams']].sum().sum()},\n",
    "    {'source': nodes.index('Explicit'), 'target': nodes.index('Social Media'), 'value': df[df['Explicit Track'] == 1][['YouTube Views', 'TikTok Views']].sum().sum()},\n",
    "    {'source': nodes.index('Explicit'), 'target': nodes.index('Radio'), 'value': df[df['Explicit Track'] == 1][['AirPlay Spins', 'SiriusXM Spins']].sum().sum()},\n",
    "    {'source': nodes.index('Non-Explicit'), 'target': nodes.index('Streaming'), 'value': df[df['Explicit Track'] == 0][['Spotify Streams', 'Pandora Streams', 'Soundcloud Streams']].sum().sum()},\n",
    "    {'source': nodes.index('Non-Explicit'), 'target': nodes.index('Social Media'), 'value': df[df['Explicit Track'] == 0][['YouTube Views', 'TikTok Views']].sum().sum()},\n",
    "    {'source': nodes.index('Non-Explicit'), 'target': nodes.index('Radio'), 'value': df[df['Explicit Track'] == 0][['AirPlay Spins', 'SiriusXM Spins']].sum().sum()},\n",
    "    {'source': nodes.index('Streaming'), 'target': nodes.index('Spotify Streams'), 'value': df['Spotify Streams'].sum()},\n",
    "    {'source': nodes.index('Streaming'), 'target': nodes.index('Pandora Streams'), 'value': df['Pandora Streams'].sum()},\n",
    "    {'source': nodes.index('Streaming'), 'target': nodes.index('Soundcloud Streams'), 'value': df['Soundcloud Streams'].sum()},\n",
    "    {'source': nodes.index('Social Media'), 'target': nodes.index('YouTube Views'), 'value': df['YouTube Views'].sum()},\n",
    "    {'source': nodes.index('Social Media'), 'target': nodes.index('TikTok Views'), 'value': df['TikTok Views'].sum()},\n",
    "    {'source': nodes.index('Radio'), 'target': nodes.index('AirPlay Spins'), 'value': df['AirPlay Spins'].sum()},\n",
    "    {'source': nodes.index('Radio'), 'target': nodes.index('SiriusXM Spins'), 'value': df['SiriusXM Spins'].sum()},\n",
    "]\n",
    "\n",
    "# Create Sankey plot\n",
    "fig = go.Figure(data=[go.Sankey(\n",
    "    node=dict(\n",
    "        pad=15,\n",
    "        thickness=20,\n",
    "        line=dict(color=\"black\", width=0.5),\n",
    "        label=nodes,\n",
    "    ),\n",
    "    link=dict(\n",
    "        source=[link['source'] for link in links],\n",
    "        target=[link['target'] for link in links],\n",
    "        value=[link['value'] for link in links],\n",
    "    ))])\n",
    "\n",
    "fig.update_layout(title_text=\"Where are Explicit & Non-explicit songs performing better?\", font_size=10, width=1100, height=450)\n",
    "fig.show()"
   ]
  }
 ],
 "metadata": {
  "kernelspec": {
   "display_name": "Python 3 (ipykernel)",
   "language": "python",
   "name": "python3"
  },
  "language_info": {
   "codemirror_mode": {
    "name": "ipython",
    "version": 3
   },
   "file_extension": ".py",
   "mimetype": "text/x-python",
   "name": "python",
   "nbconvert_exporter": "python",
   "pygments_lexer": "ipython3",
   "version": "3.12.4"
  }
 },
 "nbformat": 4,
 "nbformat_minor": 5
}
